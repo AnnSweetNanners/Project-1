{
 "cells": [
  {
   "cell_type": "code",
   "execution_count": 14,
   "metadata": {},
   "outputs": [],
   "source": [
    "#Imports\n",
    "from pathlib import Path\n",
    "import pandas as pd\n",
    "import os\n",
    "import matplotlib.pyplot as plt\n",
    "import panel as pn\n",
    "pn.extension('plotly')\n",
    "import hvplot.pandas\n",
    "import plotly.express as px\n",
    "from pathlib import Path\n",
    "from dotenv import load_dotenv\n",
    "from panel.interact import interact\n",
    "from panel import widgets\n",
    "import datetime as dt\n",
    "import pytz\n",
    "import sys\n",
    "sys.setrecursionlimit(10**6) \n",
    "%matplotlib inline"
   ]
  },
  {
   "cell_type": "code",
   "execution_count": 15,
   "metadata": {},
   "outputs": [],
   "source": [
    "import matplotlib.pyplot as plt"
   ]
  },
  {
   "cell_type": "code",
   "execution_count": 16,
   "metadata": {},
   "outputs": [],
   "source": [
    "# Read the Mapbox API key\n",
    "load_dotenv()\n",
    "mapbox_token = os.getenv(\"MAPBOX_PUBLIC_KEY\")\n",
    "px.set_mapbox_access_token(mapbox_token)"
   ]
  },
  {
   "cell_type": "code",
   "execution_count": 17,
   "metadata": {},
   "outputs": [],
   "source": [
    "#Read in .csv file with exported data from Fire_Analysis\n",
    "csvpath=Path('Export_Fire_Data/all_fire_losses.csv')\n",
    "csvpath2=Path('Export_Fire_Data/all_fire_claims.csv')\n",
    "csvpath3=Path('Export_Fire_Data/all_average_claims.csv')\n",
    "csvpath4=Path('Export_Fire_Data/all_average_premium.csv')\n",
    "csvpath5 = Path('Flood/updated_clean_data.csv')\n",
    "csvpath6= Path('Flood/Flood_severity.csv')\n",
    "\n",
    "\n",
    "all_fire_losses=pd.read_csv(csvpath)\n",
    "all_fire_claims=pd.read_csv(csvpath2)\n",
    "all_average_claims=pd.read_csv(csvpath3)\n",
    "all_average_premium=pd.read_csv(csvpath4)\n",
    "flood_df = pd.read_csv(csvpath5)\n",
    "flood_severity=pd.read_csv(csvpath6)\n",
    "\n",
    "all_average_claims=all_average_claims.rename(columns={'0':'Total Nonresidential*'})\n",
    "all_average_premium=all_average_premium.rename(columns={'0':'Total Nonresidential*'})"
   ]
  },
  {
   "cell_type": "code",
   "execution_count": 18,
   "metadata": {},
   "outputs": [],
   "source": [
    "#Define Functions for Dashboard"
   ]
  },
  {
   "cell_type": "code",
   "execution_count": 19,
   "metadata": {},
   "outputs": [
    {
     "data": {
      "application/vnd.holoviews_exec.v0+json": "",
      "text/html": [
       "<div id='1877'>\n",
       "\n",
       "\n",
       "\n",
       "\n",
       "\n",
       "  <div class=\"bk-root\" id=\"7fa270db-e905-4800-842e-0f5c546cf9c9\" data-root-id=\"1877\"></div>\n",
       "</div>\n",
       "<script type=\"application/javascript\">(function(root) {\n",
       "  function embed_document(root) {\n",
       "  var docs_json = {\"3e78ca01-3e78-4a01-80b0-4ebe43523174\":{\"roots\":{\"references\":[{\"attributes\":{\"end\":10025730000.0,\"reset_end\":10025730000.0,\"reset_start\":1982970000.0,\"start\":1982970000.0,\"tags\":[[[\"value\",\"value\",null]]]},\"id\":\"1880\",\"type\":\"Range1d\"},{\"attributes\":{\"data_source\":{\"id\":\"1935\"},\"glyph\":{\"id\":\"1938\"},\"hover_glyph\":null,\"muted_glyph\":{\"id\":\"1940\"},\"nonselection_glyph\":{\"id\":\"1939\"},\"selection_glyph\":null,\"view\":{\"id\":\"1942\"}},\"id\":\"1941\",\"type\":\"GlyphRenderer\"},{\"attributes\":{},\"id\":\"1888\",\"type\":\"LinearScale\"},{\"attributes\":{\"label\":{\"value\":\"Total Nonresidential Dollar Loss*\"},\"renderers\":[{\"id\":\"1923\"}]},\"id\":\"1934\",\"type\":\"LegendItem\"},{\"attributes\":{},\"id\":\"1897\",\"type\":\"BasicTicker\"},{\"attributes\":{\"data_source\":{\"id\":\"1917\"},\"glyph\":{\"id\":\"1920\"},\"hover_glyph\":null,\"muted_glyph\":{\"id\":\"1922\"},\"nonselection_glyph\":{\"id\":\"1921\"},\"selection_glyph\":null,\"view\":{\"id\":\"1924\"}},\"id\":\"1923\",\"type\":\"GlyphRenderer\"},{\"attributes\":{\"label\":{\"value\":\"Total Residential*\"},\"renderers\":[{\"id\":\"1941\"}]},\"id\":\"1953\",\"type\":\"LegendItem\"},{\"attributes\":{\"line_alpha\":0.2,\"line_color\":\"#1f77b3\",\"line_width\":2,\"x\":{\"field\":\"Years\"},\"y\":{\"field\":\"value\"}},\"id\":\"1922\",\"type\":\"Line\"},{\"attributes\":{\"axis\":{\"id\":\"1896\"},\"dimension\":1,\"grid_line_color\":null,\"ticker\":null},\"id\":\"1899\",\"type\":\"Grid\"},{\"attributes\":{},\"id\":\"1918\",\"type\":\"Selection\"},{\"attributes\":{\"data\":{\"Variable\":[\"Total Nonresidential Dollar Loss*\",\"Total Nonresidential Dollar Loss*\",\"Total Nonresidential Dollar Loss*\",\"Total Nonresidential Dollar Loss*\",\"Total Nonresidential Dollar Loss*\",\"Total Nonresidential Dollar Loss*\",\"Total Nonresidential Dollar Loss*\",\"Total Nonresidential Dollar Loss*\",\"Total Nonresidential Dollar Loss*\",\"Total Nonresidential Dollar Loss*\",\"Total Nonresidential Dollar Loss*\",\"Total Nonresidential Dollar Loss*\",\"Total Nonresidential Dollar Loss*\",\"Total Nonresidential Dollar Loss*\",\"Total Nonresidential Dollar Loss*\",\"Total Nonresidential Dollar Loss*\"],\"Years\":[2003,2004,2005,2006,2007,2008,2009,2010,2011,2012,2013,2014,2015,2016,2017,2018],\"value\":{\"__ndarray__\":\"AAAAkDkk50EAAABQeiDlQQAAADgDeeRBAAAAZGnC5UEAAADIOODpQQAAAMyO/+1BAAAAnIsQ6EEAAABYDpnkQQAAALgUQuRBAAAAFJwi5EEAAADQk8TjQQAAALCjW+RBAAAArAo+5UEAAAD88TLmQQAAAOh9weRBAAAA+A/L40E=\",\"dtype\":\"float64\",\"order\":\"little\",\"shape\":[16]}},\"selected\":{\"id\":\"1918\"},\"selection_policy\":{\"id\":\"1931\"}},\"id\":\"1917\",\"type\":\"ColumnDataSource\"},{\"attributes\":{},\"id\":\"1893\",\"type\":\"BasicTicker\"},{\"attributes\":{\"children\":[{\"id\":\"1878\"},{\"id\":\"1883\"},{\"id\":\"2044\"}],\"margin\":[0,0,0,0],\"name\":\"Row213210\",\"tags\":[\"embedded\"]},\"id\":\"1877\",\"type\":\"Row\"},{\"attributes\":{\"axis_label\":\"\",\"bounds\":\"auto\",\"formatter\":{\"id\":\"1916\"},\"major_label_orientation\":\"horizontal\",\"ticker\":{\"id\":\"1897\"}},\"id\":\"1896\",\"type\":\"LinearAxis\"},{\"attributes\":{\"axis_label\":\"Years\",\"bounds\":\"auto\",\"formatter\":{\"id\":\"1914\"},\"major_label_orientation\":\"horizontal\",\"ticker\":{\"id\":\"1893\"}},\"id\":\"1892\",\"type\":\"LinearAxis\"},{\"attributes\":{\"overlay\":{\"id\":\"1905\"}},\"id\":\"1903\",\"type\":\"BoxZoomTool\"},{\"attributes\":{\"axis\":{\"id\":\"1892\"},\"grid_line_color\":null,\"ticker\":null},\"id\":\"1895\",\"type\":\"Grid\"},{\"attributes\":{\"margin\":[5,5,5,5],\"name\":\"HSpacer213215\",\"sizing_mode\":\"stretch_width\"},\"id\":\"2044\",\"type\":\"Spacer\"},{\"attributes\":{\"align\":null,\"below\":[{\"id\":\"1892\"}],\"center\":[{\"id\":\"1895\"},{\"id\":\"1899\"}],\"left\":[{\"id\":\"1896\"}],\"margin\":null,\"min_border_bottom\":10,\"min_border_left\":10,\"min_border_right\":10,\"min_border_top\":10,\"plot_height\":300,\"plot_width\":700,\"renderers\":[{\"id\":\"1923\"},{\"id\":\"1941\"}],\"right\":[{\"id\":\"1933\"}],\"sizing_mode\":\"fixed\",\"title\":{\"id\":\"1884\"},\"toolbar\":{\"id\":\"1906\"},\"x_range\":{\"id\":\"1879\"},\"x_scale\":{\"id\":\"1888\"},\"y_range\":{\"id\":\"1880\"},\"y_scale\":{\"id\":\"1890\"}},\"id\":\"1883\",\"subtype\":\"Figure\",\"type\":\"Plot\"},{\"attributes\":{\"bottom_units\":\"screen\",\"fill_alpha\":0.5,\"fill_color\":\"lightgrey\",\"left_units\":\"screen\",\"level\":\"overlay\",\"line_alpha\":1.0,\"line_color\":\"black\",\"line_dash\":[4,4],\"line_width\":2,\"right_units\":\"screen\",\"top_units\":\"screen\"},\"id\":\"1905\",\"type\":\"BoxAnnotation\"},{\"attributes\":{\"margin\":[5,5,5,5],\"name\":\"HSpacer213214\",\"sizing_mode\":\"stretch_width\"},\"id\":\"1878\",\"type\":\"Spacer\"},{\"attributes\":{\"line_color\":\"#ff7e0e\",\"line_width\":2,\"x\":{\"field\":\"Years\"},\"y\":{\"field\":\"value\"}},\"id\":\"1938\",\"type\":\"Line\"},{\"attributes\":{\"source\":{\"id\":\"1935\"}},\"id\":\"1942\",\"type\":\"CDSView\"},{\"attributes\":{},\"id\":\"1902\",\"type\":\"WheelZoomTool\"},{\"attributes\":{},\"id\":\"1916\",\"type\":\"BasicTickFormatter\"},{\"attributes\":{\"line_alpha\":0.2,\"line_color\":\"#ff7e0e\",\"line_width\":2,\"x\":{\"field\":\"Years\"},\"y\":{\"field\":\"value\"}},\"id\":\"1940\",\"type\":\"Line\"},{\"attributes\":{},\"id\":\"1904\",\"type\":\"ResetTool\"},{\"attributes\":{},\"id\":\"1931\",\"type\":\"UnionRenderers\"},{\"attributes\":{\"active_drag\":\"auto\",\"active_inspect\":\"auto\",\"active_multi\":null,\"active_scroll\":\"auto\",\"active_tap\":\"auto\",\"tools\":[{\"id\":\"1881\"},{\"id\":\"1900\"},{\"id\":\"1901\"},{\"id\":\"1902\"},{\"id\":\"1903\"},{\"id\":\"1904\"}]},\"id\":\"1906\",\"type\":\"Toolbar\"},{\"attributes\":{\"callback\":null,\"renderers\":[{\"id\":\"1923\"},{\"id\":\"1941\"}],\"tags\":[\"hv_created\"],\"tooltips\":[[\"Variable\",\"@{Variable}\"],[\"Years\",\"@{Years}\"],[\"value\",\"@{value}\"]]},\"id\":\"1881\",\"type\":\"HoverTool\"},{\"attributes\":{},\"id\":\"1900\",\"type\":\"SaveTool\"},{\"attributes\":{\"text\":\"Residential and Nonresidential Fire Dollar Losses\",\"text_color\":{\"value\":\"black\"},\"text_font_size\":{\"value\":\"12pt\"}},\"id\":\"1884\",\"type\":\"Title\"},{\"attributes\":{\"end\":2018.0,\"reset_end\":2018.0,\"reset_start\":2003.0,\"start\":2003.0,\"tags\":[[[\"Years\",\"Years\",null]]]},\"id\":\"1879\",\"type\":\"Range1d\"},{\"attributes\":{\"data\":{\"Variable\":[\"Total Residential*\",\"Total Residential*\",\"Total Residential*\",\"Total Residential*\",\"Total Residential*\",\"Total Residential*\",\"Total Residential*\",\"Total Residential*\",\"Total Residential*\",\"Total Residential*\",\"Total Residential*\",\"Total Residential*\",\"Total Residential*\",\"Total Residential*\",\"Total Residential*\",\"Total Residential*\"],\"Years\":[2003,2004,2005,2006,2007,2008,2009,2010,2011,2012,2013,2014,2015,2016,2017,2018],\"value\":{\"__ndarray__\":\"AAAA2C7r/EEAAAAu5fP7QQAAAHg7Hv9BAAAABgrW/kEAAABDLSUAQgAAAM8MbQFCAAAAIqin/0EAAAAAzoP8QQAAAI4gqftBAAAAcp7w/EEAAAA+KJz7QQAAABAiRPtBAAAA4t4E/EEAAAAEVon8QQAAANRgwf1BAAAAWuKG/kE=\",\"dtype\":\"float64\",\"order\":\"little\",\"shape\":[16]}},\"selected\":{\"id\":\"1936\"},\"selection_policy\":{\"id\":\"1951\"}},\"id\":\"1935\",\"type\":\"ColumnDataSource\"},{\"attributes\":{\"line_alpha\":0.1,\"line_color\":\"#ff7e0e\",\"line_width\":2,\"x\":{\"field\":\"Years\"},\"y\":{\"field\":\"value\"}},\"id\":\"1939\",\"type\":\"Line\"},{\"attributes\":{},\"id\":\"1901\",\"type\":\"PanTool\"},{\"attributes\":{\"source\":{\"id\":\"1917\"}},\"id\":\"1924\",\"type\":\"CDSView\"},{\"attributes\":{\"click_policy\":\"mute\",\"items\":[{\"id\":\"1934\"},{\"id\":\"1953\"}],\"location\":[0,0],\"title\":\"Variable\"},\"id\":\"1933\",\"type\":\"Legend\"},{\"attributes\":{},\"id\":\"1936\",\"type\":\"Selection\"},{\"attributes\":{},\"id\":\"1951\",\"type\":\"UnionRenderers\"},{\"attributes\":{\"line_alpha\":0.1,\"line_color\":\"#1f77b3\",\"line_width\":2,\"x\":{\"field\":\"Years\"},\"y\":{\"field\":\"value\"}},\"id\":\"1921\",\"type\":\"Line\"},{\"attributes\":{\"line_color\":\"#1f77b3\",\"line_width\":2,\"x\":{\"field\":\"Years\"},\"y\":{\"field\":\"value\"}},\"id\":\"1920\",\"type\":\"Line\"},{\"attributes\":{},\"id\":\"1914\",\"type\":\"BasicTickFormatter\"},{\"attributes\":{},\"id\":\"1890\",\"type\":\"LinearScale\"}],\"root_ids\":[\"1877\"]},\"title\":\"Bokeh Application\",\"version\":\"2.1.1\"}};\n",
       "  var render_items = [{\"docid\":\"3e78ca01-3e78-4a01-80b0-4ebe43523174\",\"root_ids\":[\"1877\"],\"roots\":{\"1877\":\"7fa270db-e905-4800-842e-0f5c546cf9c9\"}}];\n",
       "  root.Bokeh.embed.embed_items_notebook(docs_json, render_items);\n",
       "  }\n",
       "if (root.Bokeh !== undefined) {\n",
       "    embed_document(root);\n",
       "  } else {\n",
       "    var attempts = 0;\n",
       "    var timer = setInterval(function(root) {\n",
       "      if (root.Bokeh !== undefined) {\n",
       "        clearInterval(timer);\n",
       "        embed_document(root);\n",
       "      } else if (document.readyState == \"complete\") {\n",
       "        attempts++;\n",
       "        if (attempts > 100) {\n",
       "          clearInterval(timer);\n",
       "          console.log(\"Bokeh: ERROR: Unable to run BokehJS code because BokehJS library is missing\");\n",
       "        }\n",
       "      }\n",
       "    }, 10, root)\n",
       "  }\n",
       "})(window);</script>"
      ],
      "text/plain": [
       ":NdOverlay   [Variable]\n",
       "   :Curve   [Years]   (value)"
      ]
     },
     "execution_count": 19,
     "metadata": {
      "application/vnd.holoviews_exec.v0+json": {
       "id": "1877"
      }
     },
     "output_type": "execute_result"
    }
   ],
   "source": [
    "'''All Fire Losses'''\n",
    "\n",
    "def all_fire_losses_plot():\n",
    "    \n",
    "    all_fire_losses_plot = all_fire_losses.hvplot(x='Years', shared_axes=False, title= 'Residential and Nonresidential Fire Dollar Losses')\n",
    "    \n",
    "    return all_fire_losses_plot\n",
    "\n",
    "all_fire_losses_plot()"
   ]
  },
  {
   "cell_type": "code",
   "execution_count": 7,
   "metadata": {},
   "outputs": [
    {
     "data": {
      "application/vnd.holoviews_exec.v0+json": "",
      "text/html": [
       "<div id='1220'>\n",
       "\n",
       "\n",
       "\n",
       "\n",
       "\n",
       "  <div class=\"bk-root\" id=\"6334dcdf-0100-4259-98c0-db4b9ebf68ec\" data-root-id=\"1220\"></div>\n",
       "</div>\n",
       "<script type=\"application/javascript\">(function(root) {\n",
       "  function embed_document(root) {\n",
       "  var docs_json = {\"8569bae5-e168-480d-a3dd-2bb484f7d726\":{\"roots\":{\"references\":[{\"attributes\":{},\"id\":\"1261\",\"type\":\"Selection\"},{\"attributes\":{\"text\":\"Residential and Nonresidential Claims Per Year\",\"text_color\":{\"value\":\"black\"},\"text_font_size\":{\"value\":\"12pt\"}},\"id\":\"1227\",\"type\":\"Title\"},{\"attributes\":{\"source\":{\"id\":\"1260\"}},\"id\":\"1267\",\"type\":\"CDSView\"},{\"attributes\":{\"line_color\":\"#ff7e0e\",\"line_width\":2,\"x\":{\"field\":\"Years\"},\"y\":{\"field\":\"value\"}},\"id\":\"1281\",\"type\":\"Line\"},{\"attributes\":{\"label\":{\"value\":\"Total Residential*\"},\"renderers\":[{\"id\":\"1284\"}]},\"id\":\"1296\",\"type\":\"LegendItem\"},{\"attributes\":{\"data\":{\"Variable\":[\"Total Residential*\",\"Total Residential*\",\"Total Residential*\",\"Total Residential*\",\"Total Residential*\",\"Total Residential*\",\"Total Residential*\",\"Total Residential*\",\"Total Residential*\",\"Total Residential*\",\"Total Residential*\",\"Total Residential*\",\"Total Residential*\",\"Total Residential*\",\"Total Residential*\",\"Total Residential*\"],\"Years\":[2003,2004,2005,2006,2007,2008,2009,2010,2011,2012,2013,2014,2015,2016,2017,2018],\"value\":{\"__ndarray__\":\"AAAAAEBEF0EAAAAAoMoXQQAAAADQ+hZBAAAAAPD3F0EAAAAAcNIXQQAAAABgFRdBAAAAAKC9FUEAAAAA0BkWQQAAAABQPxZBAAAAAMDTFkEAAAAAMDYXQQAAAACwKRdBAAAAAJA/F0EAAAAAMDwWQQAAAACwrBZBAAAAAEArF0E=\",\"dtype\":\"float64\",\"order\":\"little\",\"shape\":[16]}},\"selected\":{\"id\":\"1279\"},\"selection_policy\":{\"id\":\"1294\"}},\"id\":\"1278\",\"type\":\"ColumnDataSource\"},{\"attributes\":{},\"id\":\"1240\",\"type\":\"BasicTicker\"},{\"attributes\":{\"label\":{\"value\":\"Total Nonresidential*\"},\"renderers\":[{\"id\":\"1266\"}]},\"id\":\"1277\",\"type\":\"LegendItem\"},{\"attributes\":{\"active_drag\":\"auto\",\"active_inspect\":\"auto\",\"active_multi\":null,\"active_scroll\":\"auto\",\"active_tap\":\"auto\",\"tools\":[{\"id\":\"1224\"},{\"id\":\"1243\"},{\"id\":\"1244\"},{\"id\":\"1245\"},{\"id\":\"1246\"},{\"id\":\"1247\"}]},\"id\":\"1249\",\"type\":\"Toolbar\"},{\"attributes\":{},\"id\":\"1231\",\"type\":\"LinearScale\"},{\"attributes\":{},\"id\":\"1274\",\"type\":\"UnionRenderers\"},{\"attributes\":{},\"id\":\"1279\",\"type\":\"Selection\"},{\"attributes\":{\"children\":[{\"id\":\"1221\"},{\"id\":\"1226\"},{\"id\":\"1387\"}],\"margin\":[0,0,0,0],\"name\":\"Row01980\",\"tags\":[\"embedded\"]},\"id\":\"1220\",\"type\":\"Row\"},{\"attributes\":{\"line_color\":\"#1f77b3\",\"line_width\":2,\"x\":{\"field\":\"Years\"},\"y\":{\"field\":\"value\"}},\"id\":\"1263\",\"type\":\"Line\"},{\"attributes\":{},\"id\":\"1247\",\"type\":\"ResetTool\"},{\"attributes\":{},\"id\":\"1259\",\"type\":\"BasicTickFormatter\"},{\"attributes\":{\"data_source\":{\"id\":\"1278\"},\"glyph\":{\"id\":\"1281\"},\"hover_glyph\":null,\"muted_glyph\":{\"id\":\"1283\"},\"nonselection_glyph\":{\"id\":\"1282\"},\"selection_glyph\":null,\"view\":{\"id\":\"1285\"}},\"id\":\"1284\",\"type\":\"GlyphRenderer\"},{\"attributes\":{},\"id\":\"1243\",\"type\":\"SaveTool\"},{\"attributes\":{},\"id\":\"1245\",\"type\":\"WheelZoomTool\"},{\"attributes\":{\"margin\":[5,5,5,5],\"name\":\"HSpacer01984\",\"sizing_mode\":\"stretch_width\"},\"id\":\"1221\",\"type\":\"Spacer\"},{\"attributes\":{\"align\":null,\"below\":[{\"id\":\"1235\"}],\"center\":[{\"id\":\"1238\"},{\"id\":\"1242\"}],\"left\":[{\"id\":\"1239\"}],\"margin\":null,\"min_border_bottom\":10,\"min_border_left\":10,\"min_border_right\":10,\"min_border_top\":10,\"plot_height\":300,\"plot_width\":700,\"renderers\":[{\"id\":\"1266\"},{\"id\":\"1284\"}],\"right\":[{\"id\":\"1276\"}],\"sizing_mode\":\"fixed\",\"title\":{\"id\":\"1227\"},\"toolbar\":{\"id\":\"1249\"},\"x_range\":{\"id\":\"1222\"},\"x_scale\":{\"id\":\"1231\"},\"y_range\":{\"id\":\"1223\"},\"y_scale\":{\"id\":\"1233\"}},\"id\":\"1226\",\"subtype\":\"Figure\",\"type\":\"Plot\"},{\"attributes\":{\"click_policy\":\"mute\",\"items\":[{\"id\":\"1277\"},{\"id\":\"1296\"}],\"location\":[0,0],\"title\":\"Variable\"},\"id\":\"1276\",\"type\":\"Legend\"},{\"attributes\":{\"axis_label\":\"Years\",\"bounds\":\"auto\",\"formatter\":{\"id\":\"1257\"},\"major_label_orientation\":\"horizontal\",\"ticker\":{\"id\":\"1236\"}},\"id\":\"1235\",\"type\":\"LinearAxis\"},{\"attributes\":{\"overlay\":{\"id\":\"1248\"}},\"id\":\"1246\",\"type\":\"BoxZoomTool\"},{\"attributes\":{},\"id\":\"1257\",\"type\":\"BasicTickFormatter\"},{\"attributes\":{\"margin\":[5,5,5,5],\"name\":\"HSpacer01985\",\"sizing_mode\":\"stretch_width\"},\"id\":\"1387\",\"type\":\"Spacer\"},{\"attributes\":{\"line_alpha\":0.1,\"line_color\":\"#ff7e0e\",\"line_width\":2,\"x\":{\"field\":\"Years\"},\"y\":{\"field\":\"value\"}},\"id\":\"1282\",\"type\":\"Line\"},{\"attributes\":{\"data_source\":{\"id\":\"1260\"},\"glyph\":{\"id\":\"1263\"},\"hover_glyph\":null,\"muted_glyph\":{\"id\":\"1265\"},\"nonselection_glyph\":{\"id\":\"1264\"},\"selection_glyph\":null,\"view\":{\"id\":\"1267\"}},\"id\":\"1266\",\"type\":\"GlyphRenderer\"},{\"attributes\":{\"source\":{\"id\":\"1278\"}},\"id\":\"1285\",\"type\":\"CDSView\"},{\"attributes\":{},\"id\":\"1244\",\"type\":\"PanTool\"},{\"attributes\":{\"axis\":{\"id\":\"1235\"},\"grid_line_color\":null,\"ticker\":null},\"id\":\"1238\",\"type\":\"Grid\"},{\"attributes\":{},\"id\":\"1294\",\"type\":\"UnionRenderers\"},{\"attributes\":{\"line_alpha\":0.2,\"line_color\":\"#ff7e0e\",\"line_width\":2,\"x\":{\"field\":\"Years\"},\"y\":{\"field\":\"value\"}},\"id\":\"1283\",\"type\":\"Line\"},{\"attributes\":{\"end\":2018.0,\"reset_end\":2018.0,\"reset_start\":2003.0,\"start\":2003.0,\"tags\":[[[\"Years\",\"Years\",null]]]},\"id\":\"1222\",\"type\":\"Range1d\"},{\"attributes\":{\"line_alpha\":0.1,\"line_color\":\"#1f77b3\",\"line_width\":2,\"x\":{\"field\":\"Years\"},\"y\":{\"field\":\"value\"}},\"id\":\"1264\",\"type\":\"Line\"},{\"attributes\":{\"callback\":null,\"renderers\":[{\"id\":\"1266\"},{\"id\":\"1284\"}],\"tags\":[\"hv_created\"],\"tooltips\":[[\"Variable\",\"@{Variable}\"],[\"Years\",\"@{Years}\"],[\"value\",\"@{value}\"]]},\"id\":\"1224\",\"type\":\"HoverTool\"},{\"attributes\":{},\"id\":\"1236\",\"type\":\"BasicTicker\"},{\"attributes\":{\"bottom_units\":\"screen\",\"fill_alpha\":0.5,\"fill_color\":\"lightgrey\",\"left_units\":\"screen\",\"level\":\"overlay\",\"line_alpha\":1.0,\"line_color\":\"black\",\"line_dash\":[4,4],\"line_width\":2,\"right_units\":\"screen\",\"top_units\":\"screen\"},\"id\":\"1248\",\"type\":\"BoxAnnotation\"},{\"attributes\":{\"end\":423480.0,\"reset_end\":423480.0,\"reset_start\":54120.0,\"start\":54120.0,\"tags\":[[[\"value\",\"value\",null]]]},\"id\":\"1223\",\"type\":\"Range1d\"},{\"attributes\":{\"axis_label\":\"\",\"bounds\":\"auto\",\"formatter\":{\"id\":\"1259\"},\"major_label_orientation\":\"horizontal\",\"ticker\":{\"id\":\"1240\"}},\"id\":\"1239\",\"type\":\"LinearAxis\"},{\"attributes\":{\"line_alpha\":0.2,\"line_color\":\"#1f77b3\",\"line_width\":2,\"x\":{\"field\":\"Years\"},\"y\":{\"field\":\"value\"}},\"id\":\"1265\",\"type\":\"Line\"},{\"attributes\":{\"data\":{\"Variable\":[\"Total Nonresidential*\",\"Total Nonresidential*\",\"Total Nonresidential*\",\"Total Nonresidential*\",\"Total Nonresidential*\",\"Total Nonresidential*\",\"Total Nonresidential*\",\"Total Nonresidential*\",\"Total Nonresidential*\",\"Total Nonresidential*\",\"Total Nonresidential*\",\"Total Nonresidential*\",\"Total Nonresidential*\",\"Total Nonresidential*\",\"Total Nonresidential*\",\"Total Nonresidential*\"],\"Years\":[2003,2004,2005,2006,2007,2008,2009,2010,2011,2012,2013,2014,2015,2016,2017,2018],\"value\":{\"__ndarray__\":\"AAAAAAAy+UAAAAAAwOD4QAAAAACAwfhAAAAAAEAl+EAAAAAAgCX5QAAAAADAtPdAAAAAAADH9UAAAAAAQLr0QAAAAACA2fRAAAAAAACo9kAAAAAAQOD2QAAAAADASvhAAAAAAICJ+UAAAAAAAKL3QAAAAACAGftAAAAAAABL+UA=\",\"dtype\":\"float64\",\"order\":\"little\",\"shape\":[16]}},\"selected\":{\"id\":\"1261\"},\"selection_policy\":{\"id\":\"1274\"}},\"id\":\"1260\",\"type\":\"ColumnDataSource\"},{\"attributes\":{},\"id\":\"1233\",\"type\":\"LinearScale\"},{\"attributes\":{\"axis\":{\"id\":\"1239\"},\"dimension\":1,\"grid_line_color\":null,\"ticker\":null},\"id\":\"1242\",\"type\":\"Grid\"}],\"root_ids\":[\"1220\"]},\"title\":\"Bokeh Application\",\"version\":\"2.1.1\"}};\n",
       "  var render_items = [{\"docid\":\"8569bae5-e168-480d-a3dd-2bb484f7d726\",\"root_ids\":[\"1220\"],\"roots\":{\"1220\":\"6334dcdf-0100-4259-98c0-db4b9ebf68ec\"}}];\n",
       "  root.Bokeh.embed.embed_items_notebook(docs_json, render_items);\n",
       "  }\n",
       "if (root.Bokeh !== undefined) {\n",
       "    embed_document(root);\n",
       "  } else {\n",
       "    var attempts = 0;\n",
       "    var timer = setInterval(function(root) {\n",
       "      if (root.Bokeh !== undefined) {\n",
       "        clearInterval(timer);\n",
       "        embed_document(root);\n",
       "      } else if (document.readyState == \"complete\") {\n",
       "        attempts++;\n",
       "        if (attempts > 100) {\n",
       "          clearInterval(timer);\n",
       "          console.log(\"Bokeh: ERROR: Unable to run BokehJS code because BokehJS library is missing\");\n",
       "        }\n",
       "      }\n",
       "    }, 10, root)\n",
       "  }\n",
       "})(window);</script>"
      ],
      "text/plain": [
       ":NdOverlay   [Variable]\n",
       "   :Curve   [Years]   (value)"
      ]
     },
     "execution_count": 7,
     "metadata": {
      "application/vnd.holoviews_exec.v0+json": {
       "id": "1220"
      }
     },
     "output_type": "execute_result"
    }
   ],
   "source": [
    "def all_fire_est_plot():\n",
    "    \n",
    "    all_fire_est_plot = all_fire_claims.hvplot.line(x='Years', shared_axes=False, title = \"Residential and Nonresidential Claims Per Year\")\n",
    "    \n",
    "    return all_fire_est_plot\n",
    "\n",
    "all_fire_est_plot()"
   ]
  },
  {
   "cell_type": "code",
   "execution_count": 8,
   "metadata": {},
   "outputs": [
    {
     "data": {
      "application/vnd.holoviews_exec.v0+json": "",
      "text/html": [
       "<div id='1439'>\n",
       "\n",
       "\n",
       "\n",
       "\n",
       "\n",
       "  <div class=\"bk-root\" id=\"609d5ac6-1324-40f9-951e-d084e5135fb0\" data-root-id=\"1439\"></div>\n",
       "</div>\n",
       "<script type=\"application/javascript\">(function(root) {\n",
       "  function embed_document(root) {\n",
       "  var docs_json = {\"ae102a5c-67be-4e88-9f38-b9f35f594195\":{\"roots\":{\"references\":[{\"attributes\":{},\"id\":\"1480\",\"type\":\"Selection\"},{\"attributes\":{},\"id\":\"1498\",\"type\":\"Selection\"},{\"attributes\":{\"align\":null,\"below\":[{\"id\":\"1454\"}],\"center\":[{\"id\":\"1457\"},{\"id\":\"1461\"}],\"left\":[{\"id\":\"1458\"}],\"margin\":null,\"min_border_bottom\":10,\"min_border_left\":10,\"min_border_right\":10,\"min_border_top\":10,\"plot_height\":300,\"plot_width\":700,\"renderers\":[{\"id\":\"1485\"},{\"id\":\"1503\"}],\"right\":[{\"id\":\"1495\"}],\"sizing_mode\":\"fixed\",\"title\":{\"id\":\"1446\"},\"toolbar\":{\"id\":\"1468\"},\"x_range\":{\"id\":\"1441\"},\"x_scale\":{\"id\":\"1450\"},\"y_range\":{\"id\":\"1442\"},\"y_scale\":{\"id\":\"1452\"}},\"id\":\"1445\",\"subtype\":\"Figure\",\"type\":\"Plot\"},{\"attributes\":{},\"id\":\"1452\",\"type\":\"LinearScale\"},{\"attributes\":{\"overlay\":{\"id\":\"1467\"}},\"id\":\"1465\",\"type\":\"BoxZoomTool\"},{\"attributes\":{\"axis_label\":\"\",\"bounds\":\"auto\",\"formatter\":{\"id\":\"1478\"},\"major_label_orientation\":\"horizontal\",\"ticker\":{\"id\":\"1459\"}},\"id\":\"1458\",\"type\":\"LinearAxis\"},{\"attributes\":{\"label\":{\"value\":\"Total Nonresidential*\"},\"renderers\":[{\"id\":\"1485\"}]},\"id\":\"1496\",\"type\":\"LegendItem\"},{\"attributes\":{\"data_source\":{\"id\":\"1479\"},\"glyph\":{\"id\":\"1482\"},\"hover_glyph\":null,\"muted_glyph\":{\"id\":\"1484\"},\"nonselection_glyph\":{\"id\":\"1483\"},\"selection_glyph\":null,\"view\":{\"id\":\"1486\"}},\"id\":\"1485\",\"type\":\"GlyphRenderer\"},{\"attributes\":{},\"id\":\"1476\",\"type\":\"BasicTickFormatter\"},{\"attributes\":{\"label\":{\"value\":\"Total Residential*\"},\"renderers\":[{\"id\":\"1503\"}]},\"id\":\"1515\",\"type\":\"LegendItem\"},{\"attributes\":{\"callback\":null,\"renderers\":[{\"id\":\"1485\"},{\"id\":\"1503\"}],\"tags\":[\"hv_created\"],\"tooltips\":[[\"Variable\",\"@{Variable}\"],[\"Years\",\"@{Years}\"],[\"value\",\"@{value}\"]]},\"id\":\"1443\",\"type\":\"HoverTool\"},{\"attributes\":{\"data\":{\"Variable\":[\"Total Residential*\",\"Total Residential*\",\"Total Residential*\",\"Total Residential*\",\"Total Residential*\",\"Total Residential*\",\"Total Residential*\",\"Total Residential*\",\"Total Residential*\",\"Total Residential*\",\"Total Residential*\",\"Total Residential*\",\"Total Residential*\",\"Total Residential*\",\"Total Residential*\",\"Total Residential*\"],\"Years\":[2003,2004,2005,2006,2007,2008,2009,2010,2011,2012,2013,2014,2015,2016,2017,2018],\"value\":{\"__ndarray__\":\"vhy9QAfj00BTczpfZ8zSQHixVhGdqtVAm5ubm5uV1EDc15tIE7DVQN0rFFk6KNhANX9/xdpL10BHhJ1cuqTUQJ+cEkOp5NNAzZ7k+9hI1EDmhkTyIwjTQN0QIn2b1dJA5ep5KohI00BRatU5y4jUQCvcV9cZ/9RARJ11nMwU1UA=\",\"dtype\":\"float64\",\"order\":\"little\",\"shape\":[16]}},\"selected\":{\"id\":\"1498\"},\"selection_policy\":{\"id\":\"1513\"}},\"id\":\"1497\",\"type\":\"ColumnDataSource\"},{\"attributes\":{\"line_color\":\"#ff7e0e\",\"line_width\":2,\"x\":{\"field\":\"Years\"},\"y\":{\"field\":\"value\"}},\"id\":\"1500\",\"type\":\"Line\"},{\"attributes\":{},\"id\":\"1462\",\"type\":\"SaveTool\"},{\"attributes\":{\"data_source\":{\"id\":\"1497\"},\"glyph\":{\"id\":\"1500\"},\"hover_glyph\":null,\"muted_glyph\":{\"id\":\"1502\"},\"nonselection_glyph\":{\"id\":\"1501\"},\"selection_glyph\":null,\"view\":{\"id\":\"1504\"}},\"id\":\"1503\",\"type\":\"GlyphRenderer\"},{\"attributes\":{\"line_alpha\":0.1,\"line_color\":\"#1f77b3\",\"line_width\":2,\"x\":{\"field\":\"Years\"},\"y\":{\"field\":\"value\"}},\"id\":\"1483\",\"type\":\"Line\"},{\"attributes\":{\"margin\":[5,5,5,5],\"name\":\"HSpacer02419\",\"sizing_mode\":\"stretch_width\"},\"id\":\"1606\",\"type\":\"Spacer\"},{\"attributes\":{\"active_drag\":\"auto\",\"active_inspect\":\"auto\",\"active_multi\":null,\"active_scroll\":\"auto\",\"active_tap\":\"auto\",\"tools\":[{\"id\":\"1443\"},{\"id\":\"1462\"},{\"id\":\"1463\"},{\"id\":\"1464\"},{\"id\":\"1465\"},{\"id\":\"1466\"}]},\"id\":\"1468\",\"type\":\"Toolbar\"},{\"attributes\":{\"line_color\":\"#1f77b3\",\"line_width\":2,\"x\":{\"field\":\"Years\"},\"y\":{\"field\":\"value\"}},\"id\":\"1482\",\"type\":\"Line\"},{\"attributes\":{\"bottom_units\":\"screen\",\"fill_alpha\":0.5,\"fill_color\":\"lightgrey\",\"left_units\":\"screen\",\"level\":\"overlay\",\"line_alpha\":1.0,\"line_color\":\"black\",\"line_dash\":[4,4],\"line_width\":2,\"right_units\":\"screen\",\"top_units\":\"screen\"},\"id\":\"1467\",\"type\":\"BoxAnnotation\"},{\"attributes\":{\"line_alpha\":0.1,\"line_color\":\"#ff7e0e\",\"line_width\":2,\"x\":{\"field\":\"Years\"},\"y\":{\"field\":\"value\"}},\"id\":\"1501\",\"type\":\"Line\"},{\"attributes\":{},\"id\":\"1466\",\"type\":\"ResetTool\"},{\"attributes\":{\"line_alpha\":0.2,\"line_color\":\"#1f77b3\",\"line_width\":2,\"x\":{\"field\":\"Years\"},\"y\":{\"field\":\"value\"}},\"id\":\"1484\",\"type\":\"Line\"},{\"attributes\":{\"line_alpha\":0.2,\"line_color\":\"#ff7e0e\",\"line_width\":2,\"x\":{\"field\":\"Years\"},\"y\":{\"field\":\"value\"}},\"id\":\"1502\",\"type\":\"Line\"},{\"attributes\":{\"source\":{\"id\":\"1497\"}},\"id\":\"1504\",\"type\":\"CDSView\"},{\"attributes\":{},\"id\":\"1459\",\"type\":\"BasicTicker\"},{\"attributes\":{\"children\":[{\"id\":\"1440\"},{\"id\":\"1445\"},{\"id\":\"1606\"}],\"margin\":[0,0,0,0],\"name\":\"Row02414\",\"tags\":[\"embedded\"]},\"id\":\"1439\",\"type\":\"Row\"},{\"attributes\":{\"source\":{\"id\":\"1479\"}},\"id\":\"1486\",\"type\":\"CDSView\"},{\"attributes\":{},\"id\":\"1450\",\"type\":\"LinearScale\"},{\"attributes\":{\"axis\":{\"id\":\"1454\"},\"grid_line_color\":null,\"ticker\":null},\"id\":\"1457\",\"type\":\"Grid\"},{\"attributes\":{\"end\":43687.08791484608,\"reset_end\":43687.08791484608,\"reset_start\":17028.026757496384,\"start\":17028.026757496384,\"tags\":[[[\"value\",\"value\",null]]]},\"id\":\"1442\",\"type\":\"Range1d\"},{\"attributes\":{\"click_policy\":\"mute\",\"items\":[{\"id\":\"1496\"},{\"id\":\"1515\"}],\"location\":[0,0],\"title\":\"Variable\"},\"id\":\"1495\",\"type\":\"Legend\"},{\"attributes\":{\"axis\":{\"id\":\"1458\"},\"dimension\":1,\"grid_line_color\":null,\"ticker\":null},\"id\":\"1461\",\"type\":\"Grid\"},{\"attributes\":{\"end\":2018.0,\"reset_end\":2018.0,\"reset_start\":2003.0,\"start\":2003.0,\"tags\":[[[\"Years\",\"Years\",null]]]},\"id\":\"1441\",\"type\":\"Range1d\"},{\"attributes\":{},\"id\":\"1463\",\"type\":\"PanTool\"},{\"attributes\":{},\"id\":\"1455\",\"type\":\"BasicTicker\"},{\"attributes\":{},\"id\":\"1493\",\"type\":\"UnionRenderers\"},{\"attributes\":{\"margin\":[5,5,5,5],\"name\":\"HSpacer02418\",\"sizing_mode\":\"stretch_width\"},\"id\":\"1440\",\"type\":\"Spacer\"},{\"attributes\":{},\"id\":\"1478\",\"type\":\"BasicTickFormatter\"},{\"attributes\":{},\"id\":\"1464\",\"type\":\"WheelZoomTool\"},{\"attributes\":{\"axis_label\":\"Years\",\"bounds\":\"auto\",\"formatter\":{\"id\":\"1476\"},\"major_label_orientation\":\"horizontal\",\"ticker\":{\"id\":\"1455\"}},\"id\":\"1454\",\"type\":\"LinearAxis\"},{\"attributes\":{\"data\":{\"Variable\":[\"Total Nonresidential*\",\"Total Nonresidential*\",\"Total Nonresidential*\",\"Total Nonresidential*\",\"Total Nonresidential*\",\"Total Nonresidential*\",\"Total Nonresidential*\",\"Total Nonresidential*\",\"Total Nonresidential*\",\"Total Nonresidential*\",\"Total Nonresidential*\",\"Total Nonresidential*\",\"Total Nonresidential*\",\"Total Nonresidential*\",\"Total Nonresidential*\",\"Total Nonresidential*\"],\"Years\":[2003,2004,2005,2006,2007,2008,2009,2010,2011,2012,2013,2014,2015,2016,2017,2018],\"value\":{\"__ndarray__\":\"mTPmjDlk3UA1KogG0izbQFS7F6OndtpALry9/3TW3EDEJ5BKznbgQGsbyPsvP+RAr3kqhTSu4UB1vN/6wMzfQL1SYhSaF99AEpZ7GnFw3EBtVFO3+abbQAYtO55T0dpAAnQZ5Eqe2kAkp/la/Q7eQEU+6wZTgthA2rZt27YK2UA=\",\"dtype\":\"float64\",\"order\":\"little\",\"shape\":[16]}},\"selected\":{\"id\":\"1480\"},\"selection_policy\":{\"id\":\"1493\"}},\"id\":\"1479\",\"type\":\"ColumnDataSource\"},{\"attributes\":{},\"id\":\"1513\",\"type\":\"UnionRenderers\"},{\"attributes\":{\"text\":\"Nonresidential and Residential Average Cost Per Claim\",\"text_color\":{\"value\":\"black\"},\"text_font_size\":{\"value\":\"12pt\"}},\"id\":\"1446\",\"type\":\"Title\"}],\"root_ids\":[\"1439\"]},\"title\":\"Bokeh Application\",\"version\":\"2.1.1\"}};\n",
       "  var render_items = [{\"docid\":\"ae102a5c-67be-4e88-9f38-b9f35f594195\",\"root_ids\":[\"1439\"],\"roots\":{\"1439\":\"609d5ac6-1324-40f9-951e-d084e5135fb0\"}}];\n",
       "  root.Bokeh.embed.embed_items_notebook(docs_json, render_items);\n",
       "  }\n",
       "if (root.Bokeh !== undefined) {\n",
       "    embed_document(root);\n",
       "  } else {\n",
       "    var attempts = 0;\n",
       "    var timer = setInterval(function(root) {\n",
       "      if (root.Bokeh !== undefined) {\n",
       "        clearInterval(timer);\n",
       "        embed_document(root);\n",
       "      } else if (document.readyState == \"complete\") {\n",
       "        attempts++;\n",
       "        if (attempts > 100) {\n",
       "          clearInterval(timer);\n",
       "          console.log(\"Bokeh: ERROR: Unable to run BokehJS code because BokehJS library is missing\");\n",
       "        }\n",
       "      }\n",
       "    }, 10, root)\n",
       "  }\n",
       "})(window);</script>"
      ],
      "text/plain": [
       ":NdOverlay   [Variable]\n",
       "   :Curve   [Years]   (value)"
      ]
     },
     "execution_count": 8,
     "metadata": {
      "application/vnd.holoviews_exec.v0+json": {
       "id": "1439"
      }
     },
     "output_type": "execute_result"
    }
   ],
   "source": [
    "'''All Average Costs'''\n",
    "\n",
    "def all_avg_cost_plot():\n",
    "    \n",
    "    all_avg_cost_plot = all_average_claims.hvplot(x='Years', shared_axes=False, title= 'Nonresidential and Residential Average Cost Per Claim')\n",
    "    \n",
    "    return all_avg_cost_plot\n",
    "\n",
    "all_avg_cost_plot()"
   ]
  },
  {
   "cell_type": "code",
   "execution_count": 9,
   "metadata": {},
   "outputs": [
    {
     "data": {
      "application/vnd.holoviews_exec.v0+json": "",
      "text/html": [
       "<div id='1658'>\n",
       "\n",
       "\n",
       "\n",
       "\n",
       "\n",
       "  <div class=\"bk-root\" id=\"7b7ae21a-4dac-4683-9f7f-fcd4c4d00e25\" data-root-id=\"1658\"></div>\n",
       "</div>\n",
       "<script type=\"application/javascript\">(function(root) {\n",
       "  function embed_document(root) {\n",
       "  var docs_json = {\"c223ca00-93e0-4840-834e-0428bd601bf0\":{\"roots\":{\"references\":[{\"attributes\":{\"axis\":{\"id\":\"1677\"},\"dimension\":1,\"grid_line_color\":null,\"ticker\":null},\"id\":\"1680\",\"type\":\"Grid\"},{\"attributes\":{\"label\":{\"value\":\"Total Residential*\"},\"renderers\":[{\"id\":\"1722\"}]},\"id\":\"1734\",\"type\":\"LegendItem\"},{\"attributes\":{\"data_source\":{\"id\":\"1698\"},\"glyph\":{\"id\":\"1701\"},\"hover_glyph\":null,\"muted_glyph\":{\"id\":\"1703\"},\"nonselection_glyph\":{\"id\":\"1702\"},\"selection_glyph\":null,\"view\":{\"id\":\"1705\"}},\"id\":\"1704\",\"type\":\"GlyphRenderer\"},{\"attributes\":{},\"id\":\"1712\",\"type\":\"UnionRenderers\"},{\"attributes\":{\"line_alpha\":0.2,\"line_color\":\"#ff7e0e\",\"line_width\":2,\"x\":{\"field\":\"Years\"},\"y\":{\"field\":\"value\"}},\"id\":\"1721\",\"type\":\"Line\"},{\"attributes\":{},\"id\":\"1685\",\"type\":\"ResetTool\"},{\"attributes\":{},\"id\":\"1732\",\"type\":\"UnionRenderers\"},{\"attributes\":{\"line_color\":\"#ff7e0e\",\"line_width\":2,\"x\":{\"field\":\"Years\"},\"y\":{\"field\":\"value\"}},\"id\":\"1719\",\"type\":\"Line\"},{\"attributes\":{\"axis\":{\"id\":\"1673\"},\"grid_line_color\":null,\"ticker\":null},\"id\":\"1676\",\"type\":\"Grid\"},{\"attributes\":{\"line_alpha\":0.1,\"line_color\":\"#1f77b3\",\"line_width\":2,\"x\":{\"field\":\"Years\"},\"y\":{\"field\":\"value\"}},\"id\":\"1702\",\"type\":\"Line\"},{\"attributes\":{\"source\":{\"id\":\"1716\"}},\"id\":\"1723\",\"type\":\"CDSView\"},{\"attributes\":{\"click_policy\":\"mute\",\"items\":[{\"id\":\"1715\"},{\"id\":\"1734\"}],\"location\":[0,0],\"title\":\"Variable\"},\"id\":\"1714\",\"type\":\"Legend\"},{\"attributes\":{\"axis_label\":\"Years\",\"bounds\":\"auto\",\"formatter\":{\"id\":\"1695\"},\"major_label_orientation\":\"horizontal\",\"ticker\":{\"id\":\"1674\"}},\"id\":\"1673\",\"type\":\"LinearAxis\"},{\"attributes\":{\"end\":52424.505497815306,\"reset_end\":52424.505497815306,\"reset_start\":20433.63210899566,\"start\":20433.63210899566,\"tags\":[[[\"value\",\"value\",null]]]},\"id\":\"1661\",\"type\":\"Range1d\"},{\"attributes\":{},\"id\":\"1682\",\"type\":\"PanTool\"},{\"attributes\":{\"margin\":[5,5,5,5],\"name\":\"HSpacer02852\",\"sizing_mode\":\"stretch_width\"},\"id\":\"1659\",\"type\":\"Spacer\"},{\"attributes\":{\"axis_label\":\"\",\"bounds\":\"auto\",\"formatter\":{\"id\":\"1697\"},\"major_label_orientation\":\"horizontal\",\"ticker\":{\"id\":\"1678\"}},\"id\":\"1677\",\"type\":\"LinearAxis\"},{\"attributes\":{\"line_color\":\"#1f77b3\",\"line_width\":2,\"x\":{\"field\":\"Years\"},\"y\":{\"field\":\"value\"}},\"id\":\"1701\",\"type\":\"Line\"},{\"attributes\":{\"bottom_units\":\"screen\",\"fill_alpha\":0.5,\"fill_color\":\"lightgrey\",\"left_units\":\"screen\",\"level\":\"overlay\",\"line_alpha\":1.0,\"line_color\":\"black\",\"line_dash\":[4,4],\"line_width\":2,\"right_units\":\"screen\",\"top_units\":\"screen\"},\"id\":\"1686\",\"type\":\"BoxAnnotation\"},{\"attributes\":{\"line_alpha\":0.1,\"line_color\":\"#ff7e0e\",\"line_width\":2,\"x\":{\"field\":\"Years\"},\"y\":{\"field\":\"value\"}},\"id\":\"1720\",\"type\":\"Line\"},{\"attributes\":{},\"id\":\"1697\",\"type\":\"BasicTickFormatter\"},{\"attributes\":{},\"id\":\"1681\",\"type\":\"SaveTool\"},{\"attributes\":{\"margin\":[5,5,5,5],\"name\":\"HSpacer02853\",\"sizing_mode\":\"stretch_width\"},\"id\":\"1825\",\"type\":\"Spacer\"},{\"attributes\":{\"overlay\":{\"id\":\"1686\"}},\"id\":\"1684\",\"type\":\"BoxZoomTool\"},{\"attributes\":{\"line_alpha\":0.2,\"line_color\":\"#1f77b3\",\"line_width\":2,\"x\":{\"field\":\"Years\"},\"y\":{\"field\":\"value\"}},\"id\":\"1703\",\"type\":\"Line\"},{\"attributes\":{},\"id\":\"1683\",\"type\":\"WheelZoomTool\"},{\"attributes\":{\"text\":\"Nonresidential and Residential Average Fire Premium\",\"text_color\":{\"value\":\"black\"},\"text_font_size\":{\"value\":\"12pt\"}},\"id\":\"1665\",\"type\":\"Title\"},{\"attributes\":{\"data_source\":{\"id\":\"1716\"},\"glyph\":{\"id\":\"1719\"},\"hover_glyph\":null,\"muted_glyph\":{\"id\":\"1721\"},\"nonselection_glyph\":{\"id\":\"1720\"},\"selection_glyph\":null,\"view\":{\"id\":\"1723\"}},\"id\":\"1722\",\"type\":\"GlyphRenderer\"},{\"attributes\":{\"children\":[{\"id\":\"1659\"},{\"id\":\"1664\"},{\"id\":\"1825\"}],\"margin\":[0,0,0,0],\"name\":\"Row02848\",\"tags\":[\"embedded\"]},\"id\":\"1658\",\"type\":\"Row\"},{\"attributes\":{\"source\":{\"id\":\"1698\"}},\"id\":\"1705\",\"type\":\"CDSView\"},{\"attributes\":{},\"id\":\"1671\",\"type\":\"LinearScale\"},{\"attributes\":{\"callback\":null,\"renderers\":[{\"id\":\"1704\"},{\"id\":\"1722\"}],\"tags\":[\"hv_created\"],\"tooltips\":[[\"Variable\",\"@{Variable}\"],[\"Years\",\"@{Years}\"],[\"value\",\"@{value}\"]]},\"id\":\"1662\",\"type\":\"HoverTool\"},{\"attributes\":{\"end\":2018.0,\"reset_end\":2018.0,\"reset_start\":2003.0,\"start\":2003.0,\"tags\":[[[\"Years\",\"Years\",null]]]},\"id\":\"1660\",\"type\":\"Range1d\"},{\"attributes\":{\"label\":{\"value\":\"Total Nonresidential*\"},\"renderers\":[{\"id\":\"1704\"}]},\"id\":\"1715\",\"type\":\"LegendItem\"},{\"attributes\":{},\"id\":\"1695\",\"type\":\"BasicTickFormatter\"},{\"attributes\":{\"data\":{\"Variable\":[\"Total Residential*\",\"Total Residential*\",\"Total Residential*\",\"Total Residential*\",\"Total Residential*\",\"Total Residential*\",\"Total Residential*\",\"Total Residential*\",\"Total Residential*\",\"Total Residential*\",\"Total Residential*\",\"Total Residential*\",\"Total Residential*\",\"Total Residential*\",\"Total Residential*\",\"Total Residential*\"],\"Years\":[2003,2004,2005,2006,2007,2008,2009,2010,2011,2012,2013,2014,2015,2016,2017,2018],\"value\":{\"__ndarray__\":\"sFVJ5zvd10D9I0Zy4o7WQCoIaK7v/9lAh4eHh4ez2ECinFSKfQbaQNdnS9ES/dxAppgyIKD020CIayNvrMXYQCXvr4Mx39dA9yTfx2pX2EBHCB+JkdbWQDwUXMntmdZA4BlfmdYj10BiTDMSJ6TYQJpuaQIfMtlAU1bAuyhM2UA=\",\"dtype\":\"float64\",\"order\":\"little\",\"shape\":[16]}},\"selected\":{\"id\":\"1717\"},\"selection_policy\":{\"id\":\"1732\"}},\"id\":\"1716\",\"type\":\"ColumnDataSource\"},{\"attributes\":{\"data\":{\"Variable\":[\"Total Nonresidential*\",\"Total Nonresidential*\",\"Total Nonresidential*\",\"Total Nonresidential*\",\"Total Nonresidential*\",\"Total Nonresidential*\",\"Total Nonresidential*\",\"Total Nonresidential*\",\"Total Nonresidential*\",\"Total Nonresidential*\",\"Total Nonresidential*\",\"Total Nonresidential*\",\"Total Nonresidential*\",\"Total Nonresidential*\",\"Total Nonresidential*\",\"Total Nonresidential*\"],\"Years\":[2003,2004,2005,2006,2007,2008,2009,2010,2011,2012,2013,2014,2015,2016,2017,2018],\"value\":{\"__ndarray__\":\"jrgj7oii4UAh5oSdF07gQDNH6faVwd9AHKQ+ZnlN4UBSyXlZxMHjQBtUIy7TS+hAoStmOXI35UATcbnJcxTjQD7LB9nCp+JAPo2w3EMQ4UB0/zGhYpfgQAQbvSsyF+BAar5Rqybx30Di/chp/gjiQFPks24wad1Abdu2bdsM3kA=\",\"dtype\":\"float64\",\"order\":\"little\",\"shape\":[16]}},\"selected\":{\"id\":\"1699\"},\"selection_policy\":{\"id\":\"1712\"}},\"id\":\"1698\",\"type\":\"ColumnDataSource\"},{\"attributes\":{},\"id\":\"1669\",\"type\":\"LinearScale\"},{\"attributes\":{\"active_drag\":\"auto\",\"active_inspect\":\"auto\",\"active_multi\":null,\"active_scroll\":\"auto\",\"active_tap\":\"auto\",\"tools\":[{\"id\":\"1662\"},{\"id\":\"1681\"},{\"id\":\"1682\"},{\"id\":\"1683\"},{\"id\":\"1684\"},{\"id\":\"1685\"}]},\"id\":\"1687\",\"type\":\"Toolbar\"},{\"attributes\":{},\"id\":\"1678\",\"type\":\"BasicTicker\"},{\"attributes\":{},\"id\":\"1699\",\"type\":\"Selection\"},{\"attributes\":{},\"id\":\"1717\",\"type\":\"Selection\"},{\"attributes\":{\"align\":null,\"below\":[{\"id\":\"1673\"}],\"center\":[{\"id\":\"1676\"},{\"id\":\"1680\"}],\"left\":[{\"id\":\"1677\"}],\"margin\":null,\"min_border_bottom\":10,\"min_border_left\":10,\"min_border_right\":10,\"min_border_top\":10,\"plot_height\":300,\"plot_width\":700,\"renderers\":[{\"id\":\"1704\"},{\"id\":\"1722\"}],\"right\":[{\"id\":\"1714\"}],\"sizing_mode\":\"fixed\",\"title\":{\"id\":\"1665\"},\"toolbar\":{\"id\":\"1687\"},\"x_range\":{\"id\":\"1660\"},\"x_scale\":{\"id\":\"1669\"},\"y_range\":{\"id\":\"1661\"},\"y_scale\":{\"id\":\"1671\"}},\"id\":\"1664\",\"subtype\":\"Figure\",\"type\":\"Plot\"},{\"attributes\":{},\"id\":\"1674\",\"type\":\"BasicTicker\"}],\"root_ids\":[\"1658\"]},\"title\":\"Bokeh Application\",\"version\":\"2.1.1\"}};\n",
       "  var render_items = [{\"docid\":\"c223ca00-93e0-4840-834e-0428bd601bf0\",\"root_ids\":[\"1658\"],\"roots\":{\"1658\":\"7b7ae21a-4dac-4683-9f7f-fcd4c4d00e25\"}}];\n",
       "  root.Bokeh.embed.embed_items_notebook(docs_json, render_items);\n",
       "  }\n",
       "if (root.Bokeh !== undefined) {\n",
       "    embed_document(root);\n",
       "  } else {\n",
       "    var attempts = 0;\n",
       "    var timer = setInterval(function(root) {\n",
       "      if (root.Bokeh !== undefined) {\n",
       "        clearInterval(timer);\n",
       "        embed_document(root);\n",
       "      } else if (document.readyState == \"complete\") {\n",
       "        attempts++;\n",
       "        if (attempts > 100) {\n",
       "          clearInterval(timer);\n",
       "          console.log(\"Bokeh: ERROR: Unable to run BokehJS code because BokehJS library is missing\");\n",
       "        }\n",
       "      }\n",
       "    }, 10, root)\n",
       "  }\n",
       "})(window);</script>"
      ],
      "text/plain": [
       ":NdOverlay   [Variable]\n",
       "   :Curve   [Years]   (value)"
      ]
     },
     "execution_count": 9,
     "metadata": {
      "application/vnd.holoviews_exec.v0+json": {
       "id": "1658"
      }
     },
     "output_type": "execute_result"
    }
   ],
   "source": [
    "'''All Premium'''\n",
    "def all_premium_plot():\n",
    "    \n",
    "    all_premium_plot=all_average_premium.hvplot(x='Years', shared_axes=False, title = \"Nonresidential and Residential Average Fire Premium\")\n",
    "    \n",
    "    return all_premium_plot\n",
    "\n",
    "all_premium_plot()"
   ]
  },
  {
   "cell_type": "code",
   "execution_count": 10,
   "metadata": {},
   "outputs": [],
   "source": [
    "#Necessary to Pass Flood Plots into Dashboard\n",
    "\n",
    "paid_Claims = flood_df[flood_df['amountPaidOnBuildingClaim'] > 0].reset_index(drop=True)\n",
    "\n",
    "flood_severity = flood_df.groupby(['Year Of Loss']).sum().sort_values(by='Year Of Loss',ascending=False)['amountPaidOnBuildingClaim']\n",
    "    \n",
    "flood_severity_Coverage = flood_df.groupby(['Year Of Loss']).sum().sort_values(by='Year Of Loss',ascending=False)['totalBuildingInsuranceCoverage']\n",
    "    \n",
    "paid_Claims_Year = paid_Claims.groupby(['Year Of Loss']).count().sort_values(by='Year Of Loss',ascending=False)['amountPaidOnBuildingClaim']\n",
    "\n",
    "Average_Cost_per_claim = flood_severity / paid_Claims_Year\n",
    "\n",
    "Average_Cost_per_claim_v2 =(flood_severity_Coverage - flood_severity)/ paid_Claims_Year\n",
    "\n",
    "Premium_per_claim = (Average_Cost_per_claim * 0.2) + Average_Cost_per_claim\n",
    "\n",
    "\n",
    "Premium_per_claim_v2 = (Average_Cost_per_claim_v2 * 0.2) + Average_Cost_per_claim_v2\n",
    "    "
   ]
  },
  {
   "cell_type": "code",
   "execution_count": null,
   "metadata": {},
   "outputs": [],
   "source": [
    "'''Flood Data Average Investment per Year'''\n",
    "\n",
    "def avg_invest_plot():\n",
    "    \n",
    "    Average_Cost_per_claim_v2.hvplot(shared_axes=False, title='Average Investment Per Year' )\n",
    "    \n",
    "    return avg_invest_plot()\n",
    "\n",
    "avg_invest_plot()"
   ]
  },
  {
   "cell_type": "code",
   "execution_count": null,
   "metadata": {},
   "outputs": [],
   "source": [
    "'''Flood Data Average Cost Per Claim '''\n",
    "def Average_Cost_per_claim():\n",
    "    \n",
    "    Average_Cost_per_claim.hvplot(title='Average Cost Per Claim PER YEAR: BASED OFF OF PAID CLAIMS')\n",
    "    \n",
    "    return avg_cost_per_claim_plot\n",
    "\n",
    "avg_cost_per_claim_plot()"
   ]
  },
  {
   "cell_type": "code",
   "execution_count": null,
   "metadata": {},
   "outputs": [],
   "source": [
    "'''Flood Severity'''\n",
    "def Flood_Severity_plot(): \n",
    "    \n",
    "    flood_severity.hvplot(title='Serverity: Total $ Amount of Claims')\n",
    "    \n",
    "    return Flood_Severity_plot\n",
    "\n",
    "Flood_Severity_plot()"
   ]
  },
  {
   "cell_type": "code",
   "execution_count": null,
   "metadata": {},
   "outputs": [],
   "source": [
    "'''Premium per Claim'''\n",
    "\n",
    "def Premium_per_claim_plot():\n",
    "    \n",
    "    Premium_per_claim_v2.hvplot(title='Premium Average Cost')\n",
    "    \n",
    "    return Premium_per_claim_plot\n",
    "\n",
    "Premium_per_claim_plot()"
   ]
  },
  {
   "cell_type": "markdown",
   "metadata": {},
   "source": [
    "# Create Dashboard"
   ]
  },
  {
   "cell_type": "code",
   "execution_count": null,
   "metadata": {},
   "outputs": [],
   "source": []
  },
  {
   "cell_type": "code",
   "execution_count": null,
   "metadata": {},
   "outputs": [],
   "source": [
    "fire_loss_column=pn.Column(\n",
    "    'Nonresidential and Residential Total Dollar Loss',\n",
    "    all_fire_losses_plot()\n",
    ")\n",
    "\n",
    "fire_claims_column=pn.Column(\n",
    "    'Nonresidential and Residential Total Claims',\n",
    "    all_fire_est_plot()\n",
    ")\n",
    "\n",
    "fire_cost_column= pn.Column(\n",
    "    'Nonresidential and Residential Average Fire Cost' ,\n",
    "    all_avg_cost_plot()\n",
    ")\n",
    "\n",
    "fire_premium_column=pn.Column(\n",
    "    \"Fire Analysis - Fire Premiums\", \n",
    "    all_premium_plot()\n",
    ")\n",
    "\n",
    "flood_avg_invest_column=pn.Column(\n",
    "    'Flood Average Investment',\n",
    "    avg_invest_plot()\n",
    "\n",
    ")\n",
    "\n",
    "\n",
    "fire_flood_dashboard= pn.Tabs(\n",
    "    ('Fire Loss', fire_loss_column), \n",
    "    ('Fire Claims', fire_claims_column), \n",
    "    ('Fire Cost', fire_cost_column),\n",
    "    ('Fire Analysis', fire_premium_column),\n",
    "    ('Flood Average Investment', avg_invest_plot)\n",
    ")"
   ]
  },
  {
   "cell_type": "code",
   "execution_count": 12,
   "metadata": {},
   "outputs": [
    {
     "ename": "NameError",
     "evalue": "name 'fire_flood_dashboard' is not defined",
     "output_type": "error",
     "traceback": [
      "\u001b[1;31m---------------------------------------------------------------------------\u001b[0m",
      "\u001b[1;31mNameError\u001b[0m                                 Traceback (most recent call last)",
      "\u001b[1;32m<ipython-input-12-c4a18a622306>\u001b[0m in \u001b[0;36m<module>\u001b[1;34m\u001b[0m\n\u001b[1;32m----> 1\u001b[1;33m \u001b[0mfire_flood_dashboard\u001b[0m\u001b[1;33m.\u001b[0m\u001b[0mservable\u001b[0m\u001b[1;33m(\u001b[0m\u001b[1;33m)\u001b[0m\u001b[1;33m\u001b[0m\u001b[1;33m\u001b[0m\u001b[0m\n\u001b[0m",
      "\u001b[1;31mNameError\u001b[0m: name 'fire_flood_dashboard' is not defined"
     ]
    }
   ],
   "source": [
    "fire_flood_dashboard.servable()"
   ]
  },
  {
   "cell_type": "code",
   "execution_count": null,
   "metadata": {},
   "outputs": [],
   "source": []
  }
 ],
 "metadata": {
  "kernelspec": {
   "display_name": "Python [conda env:pyvizenv] *",
   "language": "python",
   "name": "conda-env-pyvizenv-py"
  },
  "language_info": {
   "codemirror_mode": {
    "name": "ipython",
    "version": 3
   },
   "file_extension": ".py",
   "mimetype": "text/x-python",
   "name": "python",
   "nbconvert_exporter": "python",
   "pygments_lexer": "ipython3",
   "version": "3.7.7"
  }
 },
 "nbformat": 4,
 "nbformat_minor": 4
}
