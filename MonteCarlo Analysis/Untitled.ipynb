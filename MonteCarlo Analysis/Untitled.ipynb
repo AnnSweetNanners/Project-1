{
 "cells": [
  {
   "cell_type": "code",
   "execution_count": 1,
   "metadata": {},
   "outputs": [],
   "source": [
    "import pandas as pd\n",
    "import requests\n",
    "import json\n",
    "from pprint import pprint\n",
    "import numpy as np\n",
    "#import hvplot.pandas\n",
    "import gmaps\n",
    "import os\n",
    "import alpaca_trade_api as tradeapi\n",
    "from MCForecastTools import MCSimulation\n",
    "import datetime as dt\n",
    "import pytz\n",
    "%matplotlib inline"
   ]
  },
  {
   "cell_type": "code",
   "execution_count": 2,
   "metadata": {},
   "outputs": [
    {
     "name": "stdout",
     "output_type": "stream",
     "text": [
      "Welcome to the Stock Investment Tool!\n"
     ]
    }
   ],
   "source": [
    "print(\"Welcome to the Stock Investment Tool!\")"
   ]
  },
  {
   "cell_type": "code",
   "execution_count": 19,
   "metadata": {},
   "outputs": [
    {
     "name": "stdout",
     "output_type": "stream",
     "text": [
      "Please choose from the List of stocks you would like to invest in?\n",
      "1.) Apple - APPL\n",
      "2.) Amazon - AMZN\n",
      "3.) Tesla - TSLA\n",
      "4.) CVS - CVS\n",
      "5.) S&P 500 - .INX\n",
      "6.) Boeing  - BA\n",
      "7.) Salesforce - CRM\n",
      "8.) Activision Blizzard - ATVI\n",
      "9.) Lowe's  - LOW\n",
      "10.) Apple - APPL\n"
     ]
    }
   ],
   "source": [
    "print(\"Please choose from the List of stocks you would like to invest in?\")\n",
    "print('1.) Apple - APPL')\n",
    "print('2.) Amazon - AMZN')\n",
    "print('3.) Tesla - TSLA')\n",
    "print('4.) CVS - CVS')\n",
    "print('5.) S&P 500 - .INX')\n",
    "print('6.) Boeing  - BA')\n",
    "print('7.) Salesforce - CRM')\n",
    "print('8.) Activision Blizzard - ATVI')\n",
    "print(\"9.) Lowe's  - LOW\")\n",
    "print('10.) Apple - APPL')\n"
   ]
  },
  {
   "cell_type": "code",
   "execution_count": 18,
   "metadata": {},
   "outputs": [],
   "source": [
    "pie =2"
   ]
  },
  {
   "cell_type": "code",
   "execution_count": 21,
   "metadata": {},
   "outputs": [
    {
     "data": {
      "text/plain": [
       "4"
      ]
     },
     "execution_count": 21,
     "metadata": {},
     "output_type": "execute_result"
    }
   ],
   "source": [
    "int(pie*2)"
   ]
  },
  {
   "cell_type": "code",
   "execution_count": 25,
   "metadata": {},
   "outputs": [
    {
     "name": "stdout",
     "output_type": "stream",
     "text": [
      "Please choose from the List of stocks you would like to invest in?\n",
      "1.) Apple - AAPL\n",
      "2.) Amazon - AMZN\n",
      "3.) Tesla - TSLA\n",
      "4.) CVS - CVS\n",
      "5.) S&P 500 - .INX\n",
      "6.) Boeing  - BA\n",
      "7.) Salesforce - CRM\n",
      "8.) Activision Blizzard - ATVI\n",
      "9.) Lowe's  - LOW\n"
     ]
    },
    {
     "name": "stdin",
     "output_type": "stream",
     "text": [
      " boeing\n"
     ]
    },
    {
     "name": "stdout",
     "output_type": "stream",
     "text": [
      "Thank you, you have chosen,BA to invest into. \n",
      "Would you like to add another stock to your portfolio? \n"
     ]
    },
    {
     "name": "stdin",
     "output_type": "stream",
     "text": [
      " y\n"
     ]
    },
    {
     "name": "stdout",
     "output_type": "stream",
     "text": [
      "Please choose from the list above to add another stock! \n",
      "Please choose from the List of stocks you would like to invest in?\n",
      "1.) Apple - AAPL\n",
      "2.) Amazon - AMZN\n",
      "3.) Tesla - TSLA\n",
      "4.) CVS - CVS\n",
      "5.) S&P 500 - .INX\n",
      "6.) Boeing  - BA\n",
      "7.) Salesforce - CRM\n",
      "8.) Activision Blizzard - ATVI\n",
      "9.) Lowe's  - LOW\n"
     ]
    },
    {
     "name": "stdin",
     "output_type": "stream",
     "text": [
      " Salesforce\n"
     ]
    },
    {
     "name": "stdout",
     "output_type": "stream",
     "text": [
      "Thank you, you have chosen,CRM to invest into. \n",
      "Would you like to add another stock to your portfolio? \n"
     ]
    },
    {
     "name": "stdin",
     "output_type": "stream",
     "text": [
      " n\n"
     ]
    },
    {
     "name": "stdout",
     "output_type": "stream",
     "text": [
      "Good Bye!\n",
      "------------------------------------------------------------------\n",
      "How much would you like to invest? Please choose a number for your option\n",
      "1. Residetial Profit\n",
      "2. Non-Residential Profit\n",
      "3. Custom amount\n"
     ]
    },
    {
     "name": "stdin",
     "output_type": "stream",
     "text": [
      " 1\n"
     ]
    },
    {
     "name": "stdout",
     "output_type": "stream",
     "text": [
      "You have chose to invest your residential Profit, which has an amount of $67719.21747062322\n",
      "Thank you, we our now adding your investment into your portfolio!\n",
      "------------------------------------------------------------------\n",
      "How many years will you like to Forecast your returns? \n"
     ]
    },
    {
     "name": "stdin",
     "output_type": "stream",
     "text": [
      " 2\n"
     ]
    },
    {
     "name": "stdout",
     "output_type": "stream",
     "text": [
      "Okay, thank you we are preparing your portfolio anaylsis with a Forecast of 2 years \n",
      "------------------------------------------------------------------\n",
      "STARTING MONTE CARLO ANALYSIS .....\n",
      "Running Monte Carlo simulation number 0.\n",
      "Running Monte Carlo simulation number 10.\n",
      "Running Monte Carlo simulation number 20.\n",
      "Running Monte Carlo simulation number 30.\n",
      "Running Monte Carlo simulation number 40.\n",
      "Running Monte Carlo simulation number 50.\n",
      "Running Monte Carlo simulation number 60.\n",
      "Running Monte Carlo simulation number 70.\n",
      "Running Monte Carlo simulation number 80.\n",
      "Running Monte Carlo simulation number 90.\n",
      "Running Monte Carlo simulation number 100.\n",
      "Running Monte Carlo simulation number 110.\n",
      "Running Monte Carlo simulation number 120.\n",
      "Running Monte Carlo simulation number 130.\n",
      "Running Monte Carlo simulation number 140.\n",
      "Running Monte Carlo simulation number 150.\n",
      "Running Monte Carlo simulation number 160.\n",
      "Running Monte Carlo simulation number 170.\n",
      "Running Monte Carlo simulation number 180.\n",
      "Running Monte Carlo simulation number 190.\n",
      "Running Monte Carlo simulation number 200.\n",
      "Running Monte Carlo simulation number 210.\n",
      "Running Monte Carlo simulation number 220.\n",
      "Running Monte Carlo simulation number 230.\n",
      "Running Monte Carlo simulation number 240.\n",
      "Running Monte Carlo simulation number 250.\n",
      "Running Monte Carlo simulation number 260.\n",
      "Running Monte Carlo simulation number 270.\n",
      "Running Monte Carlo simulation number 280.\n",
      "Running Monte Carlo simulation number 290.\n",
      "Running Monte Carlo simulation number 300.\n",
      "Running Monte Carlo simulation number 310.\n",
      "Running Monte Carlo simulation number 320.\n",
      "Running Monte Carlo simulation number 330.\n",
      "Running Monte Carlo simulation number 340.\n",
      "Running Monte Carlo simulation number 350.\n",
      "Running Monte Carlo simulation number 360.\n",
      "Running Monte Carlo simulation number 370.\n",
      "Running Monte Carlo simulation number 380.\n",
      "Running Monte Carlo simulation number 390.\n",
      "Running Monte Carlo simulation number 400.\n",
      "Running Monte Carlo simulation number 410.\n",
      "Running Monte Carlo simulation number 420.\n",
      "Running Monte Carlo simulation number 430.\n",
      "Running Monte Carlo simulation number 440.\n",
      "Running Monte Carlo simulation number 450.\n",
      "Running Monte Carlo simulation number 460.\n",
      "Running Monte Carlo simulation number 470.\n",
      "Running Monte Carlo simulation number 480.\n",
      "Running Monte Carlo simulation number 490.\n",
      "Running Monte Carlo simulation number 500.\n",
      "Running Monte Carlo simulation number 510.\n",
      "Running Monte Carlo simulation number 520.\n",
      "Running Monte Carlo simulation number 530.\n",
      "Running Monte Carlo simulation number 540.\n",
      "Running Monte Carlo simulation number 550.\n",
      "Running Monte Carlo simulation number 560.\n",
      "Running Monte Carlo simulation number 570.\n",
      "Running Monte Carlo simulation number 580.\n",
      "Running Monte Carlo simulation number 590.\n",
      "Running Monte Carlo simulation number 600.\n",
      "Running Monte Carlo simulation number 610.\n",
      "Running Monte Carlo simulation number 620.\n",
      "Running Monte Carlo simulation number 630.\n",
      "Running Monte Carlo simulation number 640.\n",
      "Running Monte Carlo simulation number 650.\n",
      "Running Monte Carlo simulation number 660.\n",
      "Running Monte Carlo simulation number 670.\n",
      "Running Monte Carlo simulation number 680.\n",
      "Running Monte Carlo simulation number 690.\n",
      "Running Monte Carlo simulation number 700.\n",
      "Running Monte Carlo simulation number 710.\n",
      "Running Monte Carlo simulation number 720.\n",
      "Running Monte Carlo simulation number 730.\n",
      "Running Monte Carlo simulation number 740.\n",
      "Running Monte Carlo simulation number 750.\n",
      "Running Monte Carlo simulation number 760.\n",
      "Running Monte Carlo simulation number 770.\n",
      "Running Monte Carlo simulation number 780.\n",
      "Running Monte Carlo simulation number 790.\n",
      "Running Monte Carlo simulation number 800.\n",
      "Running Monte Carlo simulation number 810.\n",
      "Running Monte Carlo simulation number 820.\n",
      "Running Monte Carlo simulation number 830.\n",
      "Running Monte Carlo simulation number 840.\n",
      "Running Monte Carlo simulation number 850.\n",
      "Running Monte Carlo simulation number 860.\n",
      "Running Monte Carlo simulation number 870.\n",
      "Running Monte Carlo simulation number 880.\n",
      "Running Monte Carlo simulation number 890.\n",
      "Running Monte Carlo simulation number 900.\n",
      "Running Monte Carlo simulation number 910.\n",
      "Running Monte Carlo simulation number 920.\n",
      "Running Monte Carlo simulation number 930.\n",
      "Running Monte Carlo simulation number 940.\n",
      "Running Monte Carlo simulation number 950.\n",
      "Running Monte Carlo simulation number 960.\n",
      "Running Monte Carlo simulation number 970.\n",
      "Running Monte Carlo simulation number 980.\n",
      "Running Monte Carlo simulation number 990.\n",
      "-------------------------------------------\n",
      "done!\n",
      "Here are your results!\n",
      "There is a 95% chance that an initial investment of $67719.21747062322 in the portfolio over the next year will end within in the range of $37732.11 and $191496.64.\n"
     ]
    },
    {
     "data": {
      "image/png": "[encoded data removed]",
      "text/plain": [
       "<Figure size 432x288 with 1 Axes>"
      ]
     },
     "metadata": {
      "needs_background": "light"
     },
     "output_type": "display_data"
    }
   ],
   "source": [
    "stocks=[]\n",
    "stuck = False\n",
    "while (stuck == False):\n",
    "    \n",
    "    print(\"Please choose from the List of stocks you would like to invest in?\")\n",
    "    print('1.) Apple - AAPL')\n",
    "    print('2.) Amazon - AMZN')\n",
    "    print('3.) Tesla - TSLA')\n",
    "    print('4.) CVS - CVS')\n",
    "    print('5.) S&P 500 - .INX')\n",
    "    print('6.) Boeing  - BA')\n",
    "    print('7.) Salesforce - CRM')\n",
    "    print('8.) Activision Blizzard - ATVI')\n",
    "    print(\"9.) Lowe's  - LOW\")\n",
    "\n",
    "    stock =input()\n",
    "    stock=stock.upper()\n",
    "\n",
    "\n",
    "    if stock == 'APPLE' or stock == 'AAPL':\n",
    "        stock='AAPL'\n",
    "        stocks.append(stock)\n",
    "        print(f'Thank you, you have chosen,{stock} to invest into. ')\n",
    "        print('Would you like to add another stock to your portfolio? ')\n",
    "        choice = input()\n",
    "\n",
    "        if choice.upper() == 'YES' or choice.upper() == 'Y':\n",
    "            print('Please choose from the list above to add another stock! ')\n",
    "            continue\n",
    "        elif choice.upper() == 'NO' or choice.upper() == 'N':\n",
    "            print('Good Bye!')\n",
    "            stuck = True\n",
    "\n",
    "    elif stock == 'AMAZON' or stock == 'AMZN':\n",
    "        stock='AMZN'\n",
    "        stocks.append(stock)\n",
    "        print(f'Thank you, you have chosen,{stock} to invest into. ')\n",
    "        print('Would you like to add another stock to your portfolio? ')\n",
    "        choice = input()\n",
    "\n",
    "        if choice.upper() == 'YES' or choice.upper() == 'Y':\n",
    "            print('Please choose from the list above to add another stock! ')\n",
    "            continue\n",
    "        elif choice.upper() == 'NO' or choice.upper() == 'N':\n",
    "            print('Good Bye!')\n",
    "            stuck = True\n",
    "    elif stock == 'Tesla' or stock == 'TSLA':\n",
    "        stock='TSLA'\n",
    "        stocks.append(stock)\n",
    "        print(f'Thank you, you have chosen,{stock} to invest into. ')\n",
    "        print('Would you like to add another stock to your portfolio? ')\n",
    "        choice = input()\n",
    "\n",
    "        if choice.upper() == 'YES' or choice.upper() == 'Y':\n",
    "            print('Please choose from the list above to add another stock! ')\n",
    "            continue\n",
    "        elif choice.upper() == 'NO' or choice.upper() == 'N':\n",
    "            print('Good Bye!')\n",
    "            stuck = True\n",
    "    elif stock == 'CVS':\n",
    "        stocks.append(stock)\n",
    "        print(f'Thank you, you have chosen,{stock} to invest into. ')\n",
    "        print('Would you like to add another stock to your portfolio? ')\n",
    "        choice = input()\n",
    "\n",
    "        if choice.upper() == 'YES' or choice.upper() == 'Y':\n",
    "            print('Please choose from the list above to add another stock! ')\n",
    "            continue\n",
    "        elif choice.upper() == 'NO' or choice.upper() == 'N':\n",
    "            print('Good Bye!')\n",
    "            stuck = True\n",
    "    elif stock == 'S&P 500' or stock == '.INX':\n",
    "        stock='.INX'\n",
    "        stocks.append(stock)\n",
    "        print(f'Thank you, you have chosen,{stock} to invest into. ')\n",
    "        print('Would you like to add another stock to your portfolio? ')\n",
    "        choice = input()\n",
    "\n",
    "        if choice.upper() == 'YES' or choice.upper() == 'Y':\n",
    "            print('Please choose from the list above to add another stock! ')\n",
    "            continue\n",
    "        elif choice.upper() == 'NO' or choice.upper() == 'N':\n",
    "            print('Good Bye!')\n",
    "            stuck = True\n",
    "    elif stock == 'BOEING' or stock == 'BA':\n",
    "        stock='BA'\n",
    "        stocks.append(stock)\n",
    "        print(f'Thank you, you have chosen,{stock} to invest into. ')\n",
    "        print('Would you like to add another stock to your portfolio? ')\n",
    "        choice = input()\n",
    "\n",
    "        if choice.upper() == 'YES' or choice.upper() == 'Y':\n",
    "            print('Please choose from the list above to add another stock! ')\n",
    "            continue\n",
    "        elif choice.upper() == 'NO' or choice.upper() == 'N':\n",
    "            print('Good Bye!')\n",
    "            stuck = True\n",
    "    elif stock == 'SALESFORCE' or stock == 'CRM':\n",
    "        stock='CRM'\n",
    "        stocks.append(stock)\n",
    "        print(f'Thank you, you have chosen,{stock} to invest into. ')\n",
    "        print('Would you like to add another stock to your portfolio? ')\n",
    "        choice = input()\n",
    "\n",
    "        if choice.upper() == 'YES' or choice.upper() == 'Y':\n",
    "            print('Please choose from the list above to add another stock! ')\n",
    "            continue\n",
    "        elif choice.upper() == 'NO' or choice.upper() == 'N':\n",
    "            print('Good Bye!')\n",
    "            stuck = True\n",
    "    elif stock == 'ACTIVISION BLIZZARD' or stock == 'ATVI':\n",
    "        stock='ATVI'\n",
    "        stocks.append(stock)\n",
    "        print(f'Thank you, you have chosen,{stock} to invest into. ')\n",
    "        print('Would you like to add another stock to your portfolio? ')\n",
    "        choice = input()\n",
    "\n",
    "        if choice.upper() == 'YES' or choice.upper() == 'Y':\n",
    "            print('Please choose from the list above to add another stock! ')\n",
    "            continue\n",
    "        elif choice.upper() == 'NO' or choice.upper() == 'N':\n",
    "            print('Good Bye!')\n",
    "            stuck = True\n",
    "    elif stock == \"LOWE'S\" or stock == 'LOW':\n",
    "        stock='LOW'\n",
    "        stocks.append(stock)\n",
    "        print(f'Thank you, you have chosen,{stock} to invest into. ')\n",
    "        print('Would you like to add another stock to your portfolio? ')\n",
    "        choice = input()\n",
    "\n",
    "        if choice.upper() == 'YES' or choice.upper() == 'Y':\n",
    "            print('Please choose from the list above to add another stock! ')\n",
    "            continue\n",
    "        elif choice.upper() == 'NO' or choice.upper() == 'N':\n",
    "            print('Good Bye!')\n",
    "            stuck = True\n",
    "    elif stock == 'Dow Jones' or stock == '.DJI':\n",
    "        stock='.DJI'\n",
    "        stocks.append(stock)\n",
    "        print(f'Thank you, you have chosen,{stock} to invest into. ')\n",
    "        print('Would you like to add another stock to your portfolio? ')\n",
    "        choice = input()\n",
    "\n",
    "        if choice.upper() == 'YES' or choice.upper() == 'Y':\n",
    "            print('Please choose from the list above to add another stock! ')\n",
    "            continue\n",
    "        elif choice.upper() == 'NO' or choice.upper() == 'N':\n",
    "            print('Good Bye!')\n",
    "            stuck = True\n",
    "\n",
    "    else:\n",
    "        print(\"Sorry wrong command Please try again\")\n",
    "        \n",
    "        if len(stocks) == 3:\n",
    "            print('You had successfully added 3 stocks. Thank you! ')\n",
    "            stuck=True\n",
    "        else:\n",
    "            continue\n",
    "            \n",
    "print('------------------------------------------------------------------')\n",
    "print('How much would you like to invest? Please choose a number for your option')\n",
    "print('1. Residetial Profit')\n",
    "print('2. Non-Residential Profit')\n",
    "print('3. Custom amount')\n",
    "option = int(input())\n",
    "if option == 1:\n",
    "    investment =TOTAL_INITAL_INVESTMENT_RESIDENTIAL\n",
    "    print(f'You have chose to invest your residential Profit, which has an amount of ${investment}')\n",
    "    print(\"Thank you, we our now adding your investment into your portfolio!\")\n",
    "elif option==2:\n",
    "    investment =TOTAL_INITAL_INVESTMENT_NONRESIDENTIAL\n",
    "    print(f'You have chose to invest your non-residential Profit, which has an amount of ${investment}')\n",
    "    print(\"Thank you, we our now adding your investment into your portfolio!\")\n",
    "elif option==3:\n",
    "    investment= int(input(\"Please enter the amount you will like to invest? \"))\n",
    "    print(f'You have chose an amount of ${investment}')\n",
    "    print(\"Thank you, we our now adding your investment into your portfolio!\")\n",
    "else:\n",
    "    investment= int(input(\"Please enter the amount you will like to invest? \"))\n",
    "    print(f'You have chose an amount of ${investment}')\n",
    "    print(\"Thank you, we our now adding your investment into your portfolio!\")\n",
    "\n",
    "    \n",
    "\n",
    "\n",
    "\n",
    "print('------------------------------------------------------------------')\n",
    "print('How many years will you like to Forecast your returns? ')\n",
    "years = int(input())\n",
    "print(f'Okay, thank you we are preparing your portfolio anaylsis with a Forecast of {years} years ')\n",
    "print('------------------------------------------------------------------')\n",
    "print('STARTING MONTE CARLO ANALYSIS .....')\n",
    "# Set the ticker\n",
    "ticker = stocks\n",
    "\n",
    "# Set timeframe to '1D'\n",
    "timeframe = \"1D\"\n",
    "\n",
    "# Set start and end datetimes of 3 years from Today\n",
    "start_date = pd.Timestamp(\"2017-05-04\", tz=\"America/New_York\").isoformat()\n",
    "end_date = pd.Timestamp(\"2020-05-04\", tz=\"America/New_York\").isoformat()\n",
    "\n",
    "# Get 3 years worth of historical data for TSLA\n",
    "ticker_data = api.get_barset(\n",
    "    ticker,\n",
    "    timeframe,\n",
    "    start=start_date,\n",
    "    end=end_date\n",
    ").df\n",
    "\n",
    "# Set number of simulations\n",
    "num_sims = 1000\n",
    "\n",
    "# Configure a Monte Carlo simulation to forecast three years daily returns\n",
    "MC_TSLA = MCSimulation(\n",
    "    portfolio_data = ticker_data,\n",
    "    num_simulation = num_sims,\n",
    "    num_trading_days = 252*years\n",
    ")\n",
    "MC_TSLA.calc_cumulative_return()\n",
    "\n",
    "\n",
    "\n",
    "# Compute summary statistics from the simulated daily returns\n",
    "simulated_returns_data = {\n",
    "    \"mean\": list(MC_TSLA.simulated_return.mean(axis=1)),\n",
    "    \"median\": list(MC_TSLA.simulated_return.median(axis=1)),\n",
    "    \"min\": list(MC_TSLA.simulated_return.min(axis=1)),\n",
    "    \"max\": list(MC_TSLA.simulated_return.max(axis=1))\n",
    "}\n",
    "\n",
    "# Create a DataFrame with the summary statistics\n",
    "df_simulated_returns = pd.DataFrame(simulated_returns_data)\n",
    "# Set initial investment\n",
    "initial_investment = investment\n",
    "\n",
    "# Multiply an initial investment by the daily returns of simulative stock prices to return the progression of daily returns in terms of money\n",
    "cumulative_pnl = initial_investment * df_simulated_returns\n",
    "print('-------------------------------------------')\n",
    "print('done!')\n",
    "print('Here are your results!')\n",
    "\n",
    "# Use the 'plot' function to create a chart of the simulated profits/losses\n",
    "cumulative_pnl.plot(title=f\"Simulated Outcomes Behavior of Custom Portfolio Stock Over the Next {years} Years\")\n",
    "\n",
    "\n",
    "# Fetch summary statistics from the Monte Carlo simulation results\n",
    "tbl = MC_TSLA.summarize_cumulative_return()\n",
    "\n",
    "# Use the lower and upper `95%` confidence intervals to calculate the range of the possible outcomes of our $10,000 investments in TSLA stocks\n",
    "ci_lower = round(tbl[8]*TOTAL_INITAL_INVESTMENT_RESIDENTIAL,2)\n",
    "ci_upper = round(tbl[9]*TOTAL_INITAL_INVESTMENT_RESIDENTIAL,2)\n",
    "\n",
    "# Print results\n",
    "print(f\"There is a 95% chance that an initial investment of ${TOTAL_INITAL_INVESTMENT_RESIDENTIAL} in the portfolio\"\n",
    "      f\" over the next year will end within in the range of\"\n",
    "      f\" ${ci_lower} and ${ci_upper}.\")"
   ]
  },
  {
   "cell_type": "code",
   "execution_count": 3,
   "metadata": {},
   "outputs": [],
   "source": [
    "stocks=[]"
   ]
  },
  {
   "cell_type": "code",
   "execution_count": 5,
   "metadata": {},
   "outputs": [],
   "source": [
    "resident_fire = '../res_initial_investment.csv'\n",
    "non_resident_fire = '../nonres_initial_investment.csv'"
   ]
  },
  {
   "cell_type": "code",
   "execution_count": 6,
   "metadata": {},
   "outputs": [],
   "source": [
    "res_df =pd.read_csv(resident_fire)\n",
    "nonres_df =pd.read_csv(non_resident_fire)"
   ]
  },
  {
   "cell_type": "code",
   "execution_count": 8,
   "metadata": {},
   "outputs": [],
   "source": [
    "TOTAL_INITAL_INVESTMENT_RESIDENTIAL = res_df.sum()[1]\n",
    "TOTAL_INITAL_INVESTMENT_NONRESIDENTIAL = nonres_df.sum()[1]"
   ]
  },
  {
   "cell_type": "code",
   "execution_count": 9,
   "metadata": {},
   "outputs": [],
   "source": [
    "# Load .env enviroment variables\n",
    "from dotenv import load_dotenv\n",
    "load_dotenv()\n",
    "\n",
    "# Set Alpaca API key and secret\n",
    "alpaca_api_key = \"PK9DIJ2K7BDWT7X6LVQX\"\n",
    "alpaca_secret_key = \"FVWl3t9S8srhn93bzNyFHR5gmLt9amjafhpYQGqg\"\n",
    "\n",
    "api = tradeapi.REST(\n",
    "    alpaca_api_key,\n",
    "    alpaca_secret_key,\n",
    "    api_version = \"v2\"\n",
    ")"
   ]
  },
  {
   "cell_type": "code",
   "execution_count": null,
   "metadata": {},
   "outputs": [],
   "source": []
  }
 ],
 "metadata": {
  "kernelspec": {
   "display_name": "Python 3",
   "language": "python",
   "name": "python3"
  },
  "language_info": {
   "codemirror_mode": {
    "name": "ipython",
    "version": 3
   },
   "file_extension": ".py",
   "mimetype": "text/x-python",
   "name": "python",
   "nbconvert_exporter": "python",
   "pygments_lexer": "ipython3",
   "version": "3.7.3"
  }
 },
 "nbformat": 4,
 "nbformat_minor": 4
}
