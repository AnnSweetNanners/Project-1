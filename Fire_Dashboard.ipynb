{
 "cells": [
  {
   "cell_type": "code",
   "execution_count": 15,
   "metadata": {},
   "outputs": [],
   "source": [
    "#initial imports\n",
    "import os\n",
    "import pandas as pd\n",
    "import matplotlib.pyplot as plt\n",
    "\n",
    "import panel as pn\n",
    "#import plotly_express as px\n",
    "from pathlib import Path"
   ]
  },
  {
   "cell_type": "code",
   "execution_count": 16,
   "metadata": {},
   "outputs": [],
   "source": [
    "# Initialize the Panel Extensions (for Plotly)\n",
    "pn.extension('plotly')"
   ]
  },
  {
   "cell_type": "code",
   "execution_count": 17,
   "metadata": {},
   "outputs": [],
   "source": [
    "import hvplot.pandas"
   ]
  },
  {
   "cell_type": "code",
   "execution_count": 1,
   "metadata": {},
   "outputs": [],
   "source": [
    "#Set Path and Read in csv's to plot\n"
   ]
  },
  {
   "cell_type": "code",
   "execution_count": 29,
   "metadata": {},
   "outputs": [],
   "source": [
    "#Define Panel Visualization Functions\n",
    "def total_fire_dollar_losses():\n",
    "    \"\"\"Nonresidential and Residential Total Fire Dollar Losses\"\"\"\n",
    "    #Code here\n",
    "    \n",
    "    return \n",
    "\n",
    "def total_fire_claims():\n",
    "    \"\"\"Nonresidential and Residential Total Fire Claims\"\"\"\n",
    "    #Code here\n",
    "    \n",
    "    return \n",
    "\n",
    "def average_fire_cost():\n",
    "    \"\"\"Nonresidential and Residential Average Fire Cost\"\"\"\n",
    "    #Code here\n",
    "    \n",
    "    return \n",
    "\n",
    "def average_fire_premiums():\n",
    "    \"\"\"Nonresidential and Residential Average Fire Premiums\"\"\"\n",
    "    #Code here\n",
    "\n",
    "    return \n"
   ]
  },
  {
   "cell_type": "code",
   "execution_count": 30,
   "metadata": {},
   "outputs": [
    {
     "data": {},
     "metadata": {},
     "output_type": "display_data"
    },
    {
     "data": {
      "application/vnd.holoviews_exec.v0+json": "",
      "text/html": [
       "<div id='1001'>\n",
       "\n",
       "\n",
       "\n",
       "\n",
       "\n",
       "  <div class=\"bk-root\" id=\"b2246ee8-6842-48e0-9a31-8248490c81d3\" data-root-id=\"1001\"></div>\n",
       "</div>\n",
       "<script type=\"application/javascript\">(function(root) {\n",
       "  function embed_document(root) {\n",
       "  var docs_json = {\"05b44494-2692-4fea-a2ab-79e8a9b56df3\":{\"roots\":{\"references\":[{\"attributes\":{\"children\":[{\"id\":\"1008\"},{\"id\":\"1009\"},{\"id\":\"1010\"}],\"margin\":[0,0,0,0],\"name\":\"Column01468\"},\"id\":\"1007\",\"type\":\"Column\"},{\"attributes\":{\"margin\":[5,5,5,5],\"name\":\"Str01457\"},\"id\":\"1004\",\"type\":\"panel.models.markup.HTML\"},{\"attributes\":{\"margin\":[5,5,5,5],\"name\":\"Str01459\"},\"id\":\"1005\",\"type\":\"panel.models.markup.HTML\"},{\"attributes\":{\"css_classes\":[\"markdown\"],\"margin\":[5,5,5,5],\"name\":\"Markdown01462\",\"text\":\"&lt;h2&gt;Average Fire Cost and Premiums&lt;/h2&gt;\"},\"id\":\"1008\",\"type\":\"panel.models.markup.HTML\"},{\"attributes\":{\"children\":[{\"id\":\"1003\"},{\"id\":\"1004\"},{\"id\":\"1005\"}],\"margin\":[0,0,0,0],\"name\":\"Column01461\"},\"id\":\"1002\",\"type\":\"Column\"},{\"attributes\":{\"child\":{\"id\":\"1007\"},\"name\":\"Column01468\",\"title\":\"Averages\"},\"id\":\"1011\",\"type\":\"Panel\"},{\"attributes\":{\"margin\":[0,0,0,0],\"tabs\":[{\"id\":\"1006\"},{\"id\":\"1011\"}]},\"id\":\"1001\",\"type\":\"Tabs\"},{\"attributes\":{\"margin\":[5,5,5,5],\"name\":\"Str01464\"},\"id\":\"1009\",\"type\":\"panel.models.markup.HTML\"},{\"attributes\":{\"client_comm_id\":\"897eb13bd6284c7582479527ac22e517\",\"comm_id\":\"440b16c0374242aa8781191f8da0f14c\",\"plot_id\":\"1001\"},\"id\":\"1012\",\"type\":\"panel.models.comm_manager.CommManager\"},{\"attributes\":{\"css_classes\":[\"markdown\"],\"margin\":[5,5,5,5],\"name\":\"Markdown01455\",\"text\":\"&lt;h2&gt;Total Fire Dollar and Total Claims Per Year&lt;/h2&gt;\"},\"id\":\"1003\",\"type\":\"panel.models.markup.HTML\"},{\"attributes\":{\"child\":{\"id\":\"1002\"},\"name\":\"Column01461\",\"title\":\"Totals\"},\"id\":\"1006\",\"type\":\"Panel\"},{\"attributes\":{\"margin\":[5,5,5,5],\"name\":\"Str01466\"},\"id\":\"1010\",\"type\":\"panel.models.markup.HTML\"}],\"root_ids\":[\"1001\",\"1012\"]},\"title\":\"Bokeh Application\",\"version\":\"2.0.2\"}};\n",
       "  var render_items = [{\"docid\":\"05b44494-2692-4fea-a2ab-79e8a9b56df3\",\"root_ids\":[\"1001\"],\"roots\":{\"1001\":\"b2246ee8-6842-48e0-9a31-8248490c81d3\"}}];\n",
       "  root.Bokeh.embed.embed_items_notebook(docs_json, render_items);\n",
       "  }\n",
       "if (root.Bokeh !== undefined) {\n",
       "    embed_document(root);\n",
       "  } else {\n",
       "    var attempts = 0;\n",
       "    var timer = setInterval(function(root) {\n",
       "      if (root.Bokeh !== undefined) {\n",
       "        clearInterval(timer);\n",
       "        embed_document(root);\n",
       "      } else if (document.readyState == \"complete\") {\n",
       "        attempts++;\n",
       "        if (attempts > 100) {\n",
       "          clearInterval(timer);\n",
       "          console.log(\"Bokeh: ERROR: Unable to run BokehJS code because BokehJS library is missing\");\n",
       "        }\n",
       "      }\n",
       "    }, 10, root)\n",
       "  }\n",
       "})(window);</script>"
      ],
      "text/plain": [
       "Tabs\n",
       "    [0] Column\n",
       "        [0] Markdown(str)\n",
       "        [1] Str(None)\n",
       "        [2] Str(None)\n",
       "    [1] Column\n",
       "        [0] Markdown(str)\n",
       "        [1] Str(None)\n",
       "        [2] Str(None)"
      ]
     },
     "execution_count": 30,
     "metadata": {
      "application/vnd.holoviews_exec.v0+json": {
       "id": "1001"
      }
     },
     "output_type": "execute_result"
    }
   ],
   "source": [
    "#Use Panel to combine all plots into single dashboard\n",
    "total_columns = pn.Column(\"##Total Fire Dollar and Total Claims Per Year\", total_fire_dollar_losses(), total_fire_claims())\n",
    "average_columns = pn.Column(\"##Average Fire Cost and Premiums\", average_fire_cost(),average_fire_premiums())\n",
    "#Create Tabs\n",
    "dashboard = pn.Tabs((\"Totals\", total_columns), (\"Averages\", average_columns))\n",
    "dashboard"
   ]
  },
  {
   "cell_type": "code",
   "execution_count": null,
   "metadata": {},
   "outputs": [],
   "source": []
  },
  {
   "cell_type": "code",
   "execution_count": null,
   "metadata": {},
   "outputs": [],
   "source": []
  }
 ],
 "metadata": {
  "kernelspec": {
   "display_name": "Python [conda env:root] *",
   "language": "python",
   "name": "conda-root-py"
  },
  "language_info": {
   "codemirror_mode": {
    "name": "ipython",
    "version": 3
   },
   "file_extension": ".py",
   "mimetype": "text/x-python",
   "name": "python",
   "nbconvert_exporter": "python",
   "pygments_lexer": "ipython3",
   "version": "3.7.7"
  }
 },
 "nbformat": 4,
 "nbformat_minor": 4
}
