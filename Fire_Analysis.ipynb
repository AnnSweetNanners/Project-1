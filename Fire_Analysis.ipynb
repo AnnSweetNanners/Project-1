{
 "cells": [
  {
   "cell_type": "markdown",
   "metadata": {},
   "source": [
    "# Fire and Flood Risks in US\n",
    "\n",
    "In this project we will evaluate Fire and Flood claims in the United States. We will determine key metrics based on data available related to frequency and severity of claims, average dollar amount of claims, risk of claims, loss ratios and as a bonus: investment income from surplus of premiums. "
   ]
  },
  {
   "cell_type": "code",
   "execution_count": 49,
   "metadata": {},
   "outputs": [],
   "source": [
    "#Import libraries\n",
    "import pandas as pd\n",
    "from pathlib import Path\n",
    "%matplotlib inline"
   ]
  },
  {
   "cell_type": "markdown",
   "metadata": {},
   "source": [
    "## Data Cleaning\n",
    "\n",
    "We will read, clean and combine the following CSV files for further analysis:\n",
    "1. Nonres_Fire_Dollr_Loss_by_Cause.csv\n",
    "2. Res_Bld_Fire_Dollr_Est_by_Cause.csv\n",
    "3. Nonres_Bldg_Fire_Est_by_Cause.csv\n",
    "4. Res_Bldg_Fire_Est_by_Cause.csv"
   ]
  },
  {
   "cell_type": "code",
   "execution_count": 71,
   "metadata": {},
   "outputs": [],
   "source": [
    "#Set Path using pathlib\n",
    "nonres_fire_losses_csv = Path(\n",
    "    \"fire_loss_estimates/Nonres_Fire_Dollr_Loss_by_Cause.csv\")\n",
    "res__fire_losses_csv = Path(\n",
    "    \"fire_loss_estimates/Res_Bld_Fire_Dollr_Est_by_Cause.csv\")"
   ]
  },
  {
   "cell_type": "code",
   "execution_count": 72,
   "metadata": {},
   "outputs": [
    {
     "data": {
      "text/html": [
       "<div>\n",
       "<style scoped>\n",
       "    .dataframe tbody tr th:only-of-type {\n",
       "        vertical-align: middle;\n",
       "    }\n",
       "\n",
       "    .dataframe tbody tr th {\n",
       "        vertical-align: top;\n",
       "    }\n",
       "\n",
       "    .dataframe thead th {\n",
       "        text-align: right;\n",
       "    }\n",
       "</style>\n",
       "<table border=\"1\" class=\"dataframe\">\n",
       "  <thead>\n",
       "    <tr style=\"text-align: right;\">\n",
       "      <th></th>\n",
       "      <th>Years</th>\n",
       "      <th>Intentional</th>\n",
       "      <th>Playing with Heat Source</th>\n",
       "      <th>Smoking</th>\n",
       "      <th>Heating</th>\n",
       "      <th>Cooking</th>\n",
       "      <th>Electrical Malfunction</th>\n",
       "      <th>Appliances</th>\n",
       "      <th>Open Flame</th>\n",
       "      <th>Other Heat</th>\n",
       "      <th>Other Equipment</th>\n",
       "      <th>Natural</th>\n",
       "      <th>Exposure</th>\n",
       "      <th>Equipment Malfunction</th>\n",
       "      <th>Other Unintentional, Careless</th>\n",
       "      <th>Cause Under Investigation</th>\n",
       "      <th>Total Nonresidential Dollar Loss*</th>\n",
       "      <th>Unnamed: 17</th>\n",
       "      <th>Unnamed: 18</th>\n",
       "    </tr>\n",
       "  </thead>\n",
       "  <tbody>\n",
       "    <tr>\n",
       "      <th>0</th>\n",
       "      <td>2003</td>\n",
       "      <td>$364,600,000.00</td>\n",
       "      <td>$12,100,000.00</td>\n",
       "      <td>$43,900,000.00</td>\n",
       "      <td>$159,300,000.00</td>\n",
       "      <td>$56,900,000.00</td>\n",
       "      <td>$514,600,000.00</td>\n",
       "      <td>$102,300,000.00</td>\n",
       "      <td>$282,100,000.00</td>\n",
       "      <td>$207,200,000.00</td>\n",
       "      <td>$194,600,000.00</td>\n",
       "      <td>$258,100,000.00</td>\n",
       "      <td>$198,000,000.00</td>\n",
       "      <td>$241,100,000.00</td>\n",
       "      <td>$322,000,000.00</td>\n",
       "      <td>$149,400,000.00</td>\n",
       "      <td>$3,106,000,000.00</td>\n",
       "      <td>NaN</td>\n",
       "      <td>NaN</td>\n",
       "    </tr>\n",
       "    <tr>\n",
       "      <th>1</th>\n",
       "      <td>2004</td>\n",
       "      <td>$324,600,000.00</td>\n",
       "      <td>$12,400,000.00</td>\n",
       "      <td>$26,400,000.00</td>\n",
       "      <td>$118,000,000.00</td>\n",
       "      <td>$70,400,000.00</td>\n",
       "      <td>$403,900,000.00</td>\n",
       "      <td>$58,700,000.00</td>\n",
       "      <td>$280,900,000.00</td>\n",
       "      <td>$173,400,000.00</td>\n",
       "      <td>$300,900,000.00</td>\n",
       "      <td>$170,700,000.00</td>\n",
       "      <td>$119,300,000.00</td>\n",
       "      <td>$224,700,000.00</td>\n",
       "      <td>$452,500,000.00</td>\n",
       "      <td>$98,700,000.00</td>\n",
       "      <td>$2,835,600,000.00</td>\n",
       "      <td>NaN</td>\n",
       "      <td>NaN</td>\n",
       "    </tr>\n",
       "    <tr>\n",
       "      <th>2</th>\n",
       "      <td>2005</td>\n",
       "      <td>$315,300,000.00</td>\n",
       "      <td>$21,100,000.00</td>\n",
       "      <td>$24,800,000.00</td>\n",
       "      <td>$86,600,000.00</td>\n",
       "      <td>$62,200,000.00</td>\n",
       "      <td>$478,600,000.00</td>\n",
       "      <td>$94,000,000.00</td>\n",
       "      <td>$207,200,000.00</td>\n",
       "      <td>$216,200,000.00</td>\n",
       "      <td>$208,600,000.00</td>\n",
       "      <td>$144,600,000.00</td>\n",
       "      <td>$171,300,000.00</td>\n",
       "      <td>$206,500,000.00</td>\n",
       "      <td>$332,600,000.00</td>\n",
       "      <td>$178,300,000.00</td>\n",
       "      <td>$2,747,800,000.00</td>\n",
       "      <td>NaN</td>\n",
       "      <td>NaN</td>\n",
       "    </tr>\n",
       "    <tr>\n",
       "      <th>3</th>\n",
       "      <td>2006</td>\n",
       "      <td>$389,000,000.00</td>\n",
       "      <td>$9,400,000.00</td>\n",
       "      <td>$28,300,000.00</td>\n",
       "      <td>$134,500,000.00</td>\n",
       "      <td>$50,500,000.00</td>\n",
       "      <td>$500,600,000.00</td>\n",
       "      <td>$115,000,000.00</td>\n",
       "      <td>$137,900,000.00</td>\n",
       "      <td>$156,800,000.00</td>\n",
       "      <td>$110,900,000.00</td>\n",
       "      <td>$219,700,000.00</td>\n",
       "      <td>$137,100,000.00</td>\n",
       "      <td>$461,600,000.00</td>\n",
       "      <td>$300,100,000.00</td>\n",
       "      <td>$169,200,000.00</td>\n",
       "      <td>$2,920,500,000.00</td>\n",
       "      <td>NaN</td>\n",
       "      <td>NaN</td>\n",
       "    </tr>\n",
       "    <tr>\n",
       "      <th>4</th>\n",
       "      <td>2007</td>\n",
       "      <td>$529,700,000.00</td>\n",
       "      <td>$11,900,000.00</td>\n",
       "      <td>$37,900,000.00</td>\n",
       "      <td>$88,400,000.00</td>\n",
       "      <td>$51,100,000.00</td>\n",
       "      <td>$488,600,000.00</td>\n",
       "      <td>$75,700,000.00</td>\n",
       "      <td>$274,300,000.00</td>\n",
       "      <td>$275,700,000.00</td>\n",
       "      <td>$235,700,000.00</td>\n",
       "      <td>$247,900,000.00</td>\n",
       "      <td>$235,400,000.00</td>\n",
       "      <td>$276,700,000.00</td>\n",
       "      <td>$455,700,000.00</td>\n",
       "      <td>$188,200,000.00</td>\n",
       "      <td>$3,473,000,000.00</td>\n",
       "      <td>NaN</td>\n",
       "      <td>NaN</td>\n",
       "    </tr>\n",
       "  </tbody>\n",
       "</table>\n",
       "</div>"
      ],
      "text/plain": [
       "   Years      Intentional Playing with Heat Source         Smoking  \\\n",
       "0   2003  $364,600,000.00           $12,100,000.00  $43,900,000.00   \n",
       "1   2004  $324,600,000.00           $12,400,000.00  $26,400,000.00   \n",
       "2   2005  $315,300,000.00           $21,100,000.00  $24,800,000.00   \n",
       "3   2006  $389,000,000.00            $9,400,000.00  $28,300,000.00   \n",
       "4   2007  $529,700,000.00           $11,900,000.00  $37,900,000.00   \n",
       "\n",
       "          Heating          Cooking Electrical Malfunction      Appliances   \\\n",
       "0  $159,300,000.00  $56,900,000.00        $514,600,000.00  $102,300,000.00   \n",
       "1  $118,000,000.00  $70,400,000.00        $403,900,000.00   $58,700,000.00   \n",
       "2   $86,600,000.00  $62,200,000.00        $478,600,000.00   $94,000,000.00   \n",
       "3  $134,500,000.00  $50,500,000.00        $500,600,000.00  $115,000,000.00   \n",
       "4   $88,400,000.00  $51,100,000.00        $488,600,000.00   $75,700,000.00   \n",
       "\n",
       "       Open Flame        Other Heat  Other Equipment          Natural  \\\n",
       "0  $282,100,000.00  $207,200,000.00  $194,600,000.00  $258,100,000.00   \n",
       "1  $280,900,000.00  $173,400,000.00  $300,900,000.00  $170,700,000.00   \n",
       "2  $207,200,000.00  $216,200,000.00  $208,600,000.00  $144,600,000.00   \n",
       "3  $137,900,000.00  $156,800,000.00  $110,900,000.00  $219,700,000.00   \n",
       "4  $274,300,000.00  $275,700,000.00  $235,700,000.00  $247,900,000.00   \n",
       "\n",
       "          Exposure Equipment Malfunction Other Unintentional, Careless  \\\n",
       "0  $198,000,000.00       $241,100,000.00               $322,000,000.00   \n",
       "1  $119,300,000.00       $224,700,000.00               $452,500,000.00   \n",
       "2  $171,300,000.00       $206,500,000.00               $332,600,000.00   \n",
       "3  $137,100,000.00       $461,600,000.00               $300,100,000.00   \n",
       "4  $235,400,000.00       $276,700,000.00               $455,700,000.00   \n",
       "\n",
       "  Cause Under Investigation Total Nonresidential Dollar Loss*  Unnamed: 17  \\\n",
       "0           $149,400,000.00                 $3,106,000,000.00          NaN   \n",
       "1            $98,700,000.00                 $2,835,600,000.00          NaN   \n",
       "2           $178,300,000.00                 $2,747,800,000.00          NaN   \n",
       "3           $169,200,000.00                 $2,920,500,000.00          NaN   \n",
       "4           $188,200,000.00                 $3,473,000,000.00          NaN   \n",
       "\n",
       "   Unnamed: 18  \n",
       "0          NaN  \n",
       "1          NaN  \n",
       "2          NaN  \n",
       "3          NaN  \n",
       "4          NaN  "
      ]
     },
     "execution_count": 72,
     "metadata": {},
     "output_type": "execute_result"
    }
   ],
   "source": [
    "#Read CSV 'Nonres_Fire_Dollr_Loss_by_Cause.csv' into dataframe\n",
    "nonres_fire_losses = pd.read_csv(nonres_fire_losses_csv)\n",
    "nonres_fire_losses.head()"
   ]
  },
  {
   "cell_type": "code",
   "execution_count": 74,
   "metadata": {},
   "outputs": [
    {
     "data": {
      "text/html": [
       "<div>\n",
       "<style scoped>\n",
       "    .dataframe tbody tr th:only-of-type {\n",
       "        vertical-align: middle;\n",
       "    }\n",
       "\n",
       "    .dataframe tbody tr th {\n",
       "        vertical-align: top;\n",
       "    }\n",
       "\n",
       "    .dataframe thead th {\n",
       "        text-align: right;\n",
       "    }\n",
       "</style>\n",
       "<table border=\"1\" class=\"dataframe\">\n",
       "  <thead>\n",
       "    <tr style=\"text-align: right;\">\n",
       "      <th></th>\n",
       "      <th>Years</th>\n",
       "      <th>Intentional</th>\n",
       "      <th>Playing with Heat Source</th>\n",
       "      <th>Smoking</th>\n",
       "      <th>Heating</th>\n",
       "      <th>Cooking</th>\n",
       "      <th>Electrical Malfunction</th>\n",
       "      <th>Appliances</th>\n",
       "      <th>Open Flame</th>\n",
       "      <th>Other Heat</th>\n",
       "      <th>Other Equipment</th>\n",
       "      <th>Natural</th>\n",
       "      <th>Exposure</th>\n",
       "      <th>Equipment Malfunction</th>\n",
       "      <th>Other Unintentional, Careless</th>\n",
       "      <th>Cause Under Investigation</th>\n",
       "      <th>Total Residential*</th>\n",
       "      <th>Unnamed: 17</th>\n",
       "      <th>Unnamed: 18</th>\n",
       "    </tr>\n",
       "  </thead>\n",
       "  <tbody>\n",
       "    <tr>\n",
       "      <th>0</th>\n",
       "      <td>2003</td>\n",
       "      <td>705,400,000</td>\n",
       "      <td>167,000,000</td>\n",
       "      <td>337,100,000</td>\n",
       "      <td>461,200,000</td>\n",
       "      <td>351,500,000</td>\n",
       "      <td>1,200,100,000</td>\n",
       "      <td>304,100,000</td>\n",
       "      <td>910,000,000</td>\n",
       "      <td>691,300,000</td>\n",
       "      <td>133,400,000</td>\n",
       "      <td>435,900,000</td>\n",
       "      <td>272,100,000</td>\n",
       "      <td>503,200,000</td>\n",
       "      <td>1,057,000,000</td>\n",
       "      <td>233,600,000</td>\n",
       "      <td>7,762,800,000</td>\n",
       "      <td>NaN</td>\n",
       "      <td>NaN</td>\n",
       "    </tr>\n",
       "    <tr>\n",
       "      <th>1</th>\n",
       "      <td>2004</td>\n",
       "      <td>664,100,000</td>\n",
       "      <td>143,300,000</td>\n",
       "      <td>348,300,000</td>\n",
       "      <td>383,700,000</td>\n",
       "      <td>297,100,000</td>\n",
       "      <td>1,201,700,000</td>\n",
       "      <td>246,200,000</td>\n",
       "      <td>942,400,000</td>\n",
       "      <td>590,800,000</td>\n",
       "      <td>143,800,000</td>\n",
       "      <td>522,900,000</td>\n",
       "      <td>279,200,000</td>\n",
       "      <td>435,200,000</td>\n",
       "      <td>1,032,900,000</td>\n",
       "      <td>272,100,000</td>\n",
       "      <td>7,503,500,000</td>\n",
       "      <td>NaN</td>\n",
       "      <td>NaN</td>\n",
       "    </tr>\n",
       "    <tr>\n",
       "      <th>2</th>\n",
       "      <td>2005</td>\n",
       "      <td>727,100,000</td>\n",
       "      <td>162,800,000</td>\n",
       "      <td>392,600,000</td>\n",
       "      <td>379,800,000</td>\n",
       "      <td>343,500,000</td>\n",
       "      <td>1,450,000,000</td>\n",
       "      <td>263,100,000</td>\n",
       "      <td>1,051,900,000</td>\n",
       "      <td>664,400,000</td>\n",
       "      <td>167,500,000</td>\n",
       "      <td>454,100,000</td>\n",
       "      <td>303,300,000</td>\n",
       "      <td>513,300,000</td>\n",
       "      <td>1,061,900,000</td>\n",
       "      <td>418,000,000</td>\n",
       "      <td>8,353,200,000</td>\n",
       "      <td>NaN</td>\n",
       "      <td>NaN</td>\n",
       "    </tr>\n",
       "    <tr>\n",
       "      <th>3</th>\n",
       "      <td>2006</td>\n",
       "      <td>667,100,000</td>\n",
       "      <td>141,200,000</td>\n",
       "      <td>402,100,000</td>\n",
       "      <td>390,500,000</td>\n",
       "      <td>300,600,000</td>\n",
       "      <td>1,270,700,000</td>\n",
       "      <td>290,700,000</td>\n",
       "      <td>894,000,000</td>\n",
       "      <td>1,026,400,000</td>\n",
       "      <td>125,700,000</td>\n",
       "      <td>520,500,000</td>\n",
       "      <td>289,000,000</td>\n",
       "      <td>467,800,000</td>\n",
       "      <td>1,115,900,000</td>\n",
       "      <td>375,300,000</td>\n",
       "      <td>8,277,500,000</td>\n",
       "      <td>NaN</td>\n",
       "      <td>NaN</td>\n",
       "    </tr>\n",
       "    <tr>\n",
       "      <th>4</th>\n",
       "      <td>2007</td>\n",
       "      <td>584,500,000</td>\n",
       "      <td>113,000,000</td>\n",
       "      <td>320,500,000</td>\n",
       "      <td>314,000,000</td>\n",
       "      <td>277,200,000</td>\n",
       "      <td>1,229,300,000</td>\n",
       "      <td>240,400,000</td>\n",
       "      <td>798,800,000</td>\n",
       "      <td>503,800,000</td>\n",
       "      <td>146,600,000</td>\n",
       "      <td>438,100,000</td>\n",
       "      <td>1,914,500,000</td>\n",
       "      <td>408,300,000</td>\n",
       "      <td>1,047,700,000</td>\n",
       "      <td>331,200,000</td>\n",
       "      <td>8,667,900,000</td>\n",
       "      <td>NaN</td>\n",
       "      <td>NaN</td>\n",
       "    </tr>\n",
       "  </tbody>\n",
       "</table>\n",
       "</div>"
      ],
      "text/plain": [
       "   Years  Intentional Playing with Heat Source      Smoking     Heating   \\\n",
       "0   2003  705,400,000              167,000,000  337,100,000  461,200,000   \n",
       "1   2004  664,100,000              143,300,000  348,300,000  383,700,000   \n",
       "2   2005  727,100,000              162,800,000  392,600,000  379,800,000   \n",
       "3   2006  667,100,000              141,200,000  402,100,000  390,500,000   \n",
       "4   2007  584,500,000              113,000,000  320,500,000  314,000,000   \n",
       "\n",
       "       Cooking Electrical Malfunction  Appliances     Open Flame   \\\n",
       "0  351,500,000          1,200,100,000  304,100,000    910,000,000   \n",
       "1  297,100,000          1,201,700,000  246,200,000    942,400,000   \n",
       "2  343,500,000          1,450,000,000  263,100,000  1,051,900,000   \n",
       "3  300,600,000          1,270,700,000  290,700,000    894,000,000   \n",
       "4  277,200,000          1,229,300,000  240,400,000    798,800,000   \n",
       "\n",
       "      Other Heat Other Equipment      Natural       Exposure  \\\n",
       "0    691,300,000     133,400,000  435,900,000    272,100,000   \n",
       "1    590,800,000     143,800,000  522,900,000    279,200,000   \n",
       "2    664,400,000     167,500,000  454,100,000    303,300,000   \n",
       "3  1,026,400,000     125,700,000  520,500,000    289,000,000   \n",
       "4    503,800,000     146,600,000  438,100,000  1,914,500,000   \n",
       "\n",
       "  Equipment Malfunction Other Unintentional, Careless  \\\n",
       "0           503,200,000                 1,057,000,000   \n",
       "1           435,200,000                 1,032,900,000   \n",
       "2           513,300,000                 1,061,900,000   \n",
       "3           467,800,000                 1,115,900,000   \n",
       "4           408,300,000                 1,047,700,000   \n",
       "\n",
       "  Cause Under Investigation Total Residential*  Unnamed: 17  Unnamed: 18  \n",
       "0               233,600,000      7,762,800,000          NaN          NaN  \n",
       "1               272,100,000      7,503,500,000          NaN          NaN  \n",
       "2               418,000,000      8,353,200,000          NaN          NaN  \n",
       "3               375,300,000      8,277,500,000          NaN          NaN  \n",
       "4               331,200,000      8,667,900,000          NaN          NaN  "
      ]
     },
     "execution_count": 74,
     "metadata": {},
     "output_type": "execute_result"
    }
   ],
   "source": [
    "#Read CSV 'Res_Bld_Fire_Dollr_Est_by_Cause.csv' into dataframe\n",
    "res_fire_losses = pd.read_csv(res__fire_losses_csv)\n",
    "res_fire_losses.head()"
   ]
  },
  {
   "cell_type": "code",
   "execution_count": 99,
   "metadata": {
    "collapsed": true,
    "jupyter": {
     "outputs_hidden": true
    }
   },
   "outputs": [
    {
     "ename": "KeyError",
     "evalue": "\"['Heating' 'Appliances' 'Open Flame'] not found in axis\"",
     "output_type": "error",
     "traceback": [
      "\u001b[0;31m---------------------------------------------------------------------------\u001b[0m",
      "\u001b[0;31mKeyError\u001b[0m                                  Traceback (most recent call last)",
      "\u001b[0;32m<ipython-input-99-57ba2b5c87f9>\u001b[0m in \u001b[0;36m<module>\u001b[0;34m\u001b[0m\n\u001b[1;32m     16\u001b[0m                                    \u001b[0;34m'Unnamed: 17'\u001b[0m\u001b[0;34m,\u001b[0m\u001b[0;34m\u001b[0m\u001b[0;34m\u001b[0m\u001b[0m\n\u001b[1;32m     17\u001b[0m                                    'Unnamed: 18'], \n\u001b[0;32m---> 18\u001b[0;31m                         inplace = True)\n\u001b[0m",
      "\u001b[0;32m~/opt/anaconda3/lib/python3.7/site-packages/pandas/core/frame.py\u001b[0m in \u001b[0;36mdrop\u001b[0;34m(self, labels, axis, index, columns, level, inplace, errors)\u001b[0m\n\u001b[1;32m   3995\u001b[0m             \u001b[0mlevel\u001b[0m\u001b[0;34m=\u001b[0m\u001b[0mlevel\u001b[0m\u001b[0;34m,\u001b[0m\u001b[0;34m\u001b[0m\u001b[0;34m\u001b[0m\u001b[0m\n\u001b[1;32m   3996\u001b[0m             \u001b[0minplace\u001b[0m\u001b[0;34m=\u001b[0m\u001b[0minplace\u001b[0m\u001b[0;34m,\u001b[0m\u001b[0;34m\u001b[0m\u001b[0;34m\u001b[0m\u001b[0m\n\u001b[0;32m-> 3997\u001b[0;31m             \u001b[0merrors\u001b[0m\u001b[0;34m=\u001b[0m\u001b[0merrors\u001b[0m\u001b[0;34m,\u001b[0m\u001b[0;34m\u001b[0m\u001b[0;34m\u001b[0m\u001b[0m\n\u001b[0m\u001b[1;32m   3998\u001b[0m         )\n\u001b[1;32m   3999\u001b[0m \u001b[0;34m\u001b[0m\u001b[0m\n",
      "\u001b[0;32m~/opt/anaconda3/lib/python3.7/site-packages/pandas/core/generic.py\u001b[0m in \u001b[0;36mdrop\u001b[0;34m(self, labels, axis, index, columns, level, inplace, errors)\u001b[0m\n\u001b[1;32m   3934\u001b[0m         \u001b[0;32mfor\u001b[0m \u001b[0maxis\u001b[0m\u001b[0;34m,\u001b[0m \u001b[0mlabels\u001b[0m \u001b[0;32min\u001b[0m \u001b[0maxes\u001b[0m\u001b[0;34m.\u001b[0m\u001b[0mitems\u001b[0m\u001b[0;34m(\u001b[0m\u001b[0;34m)\u001b[0m\u001b[0;34m:\u001b[0m\u001b[0;34m\u001b[0m\u001b[0;34m\u001b[0m\u001b[0m\n\u001b[1;32m   3935\u001b[0m             \u001b[0;32mif\u001b[0m \u001b[0mlabels\u001b[0m \u001b[0;32mis\u001b[0m \u001b[0;32mnot\u001b[0m \u001b[0;32mNone\u001b[0m\u001b[0;34m:\u001b[0m\u001b[0;34m\u001b[0m\u001b[0;34m\u001b[0m\u001b[0m\n\u001b[0;32m-> 3936\u001b[0;31m                 \u001b[0mobj\u001b[0m \u001b[0;34m=\u001b[0m \u001b[0mobj\u001b[0m\u001b[0;34m.\u001b[0m\u001b[0m_drop_axis\u001b[0m\u001b[0;34m(\u001b[0m\u001b[0mlabels\u001b[0m\u001b[0;34m,\u001b[0m \u001b[0maxis\u001b[0m\u001b[0;34m,\u001b[0m \u001b[0mlevel\u001b[0m\u001b[0;34m=\u001b[0m\u001b[0mlevel\u001b[0m\u001b[0;34m,\u001b[0m \u001b[0merrors\u001b[0m\u001b[0;34m=\u001b[0m\u001b[0merrors\u001b[0m\u001b[0;34m)\u001b[0m\u001b[0;34m\u001b[0m\u001b[0;34m\u001b[0m\u001b[0m\n\u001b[0m\u001b[1;32m   3937\u001b[0m \u001b[0;34m\u001b[0m\u001b[0m\n\u001b[1;32m   3938\u001b[0m         \u001b[0;32mif\u001b[0m \u001b[0minplace\u001b[0m\u001b[0;34m:\u001b[0m\u001b[0;34m\u001b[0m\u001b[0;34m\u001b[0m\u001b[0m\n",
      "\u001b[0;32m~/opt/anaconda3/lib/python3.7/site-packages/pandas/core/generic.py\u001b[0m in \u001b[0;36m_drop_axis\u001b[0;34m(self, labels, axis, level, errors)\u001b[0m\n\u001b[1;32m   3968\u001b[0m                 \u001b[0mnew_axis\u001b[0m \u001b[0;34m=\u001b[0m \u001b[0maxis\u001b[0m\u001b[0;34m.\u001b[0m\u001b[0mdrop\u001b[0m\u001b[0;34m(\u001b[0m\u001b[0mlabels\u001b[0m\u001b[0;34m,\u001b[0m \u001b[0mlevel\u001b[0m\u001b[0;34m=\u001b[0m\u001b[0mlevel\u001b[0m\u001b[0;34m,\u001b[0m \u001b[0merrors\u001b[0m\u001b[0;34m=\u001b[0m\u001b[0merrors\u001b[0m\u001b[0;34m)\u001b[0m\u001b[0;34m\u001b[0m\u001b[0;34m\u001b[0m\u001b[0m\n\u001b[1;32m   3969\u001b[0m             \u001b[0;32melse\u001b[0m\u001b[0;34m:\u001b[0m\u001b[0;34m\u001b[0m\u001b[0;34m\u001b[0m\u001b[0m\n\u001b[0;32m-> 3970\u001b[0;31m                 \u001b[0mnew_axis\u001b[0m \u001b[0;34m=\u001b[0m \u001b[0maxis\u001b[0m\u001b[0;34m.\u001b[0m\u001b[0mdrop\u001b[0m\u001b[0;34m(\u001b[0m\u001b[0mlabels\u001b[0m\u001b[0;34m,\u001b[0m \u001b[0merrors\u001b[0m\u001b[0;34m=\u001b[0m\u001b[0merrors\u001b[0m\u001b[0;34m)\u001b[0m\u001b[0;34m\u001b[0m\u001b[0;34m\u001b[0m\u001b[0m\n\u001b[0m\u001b[1;32m   3971\u001b[0m             \u001b[0mresult\u001b[0m \u001b[0;34m=\u001b[0m \u001b[0mself\u001b[0m\u001b[0;34m.\u001b[0m\u001b[0mreindex\u001b[0m\u001b[0;34m(\u001b[0m\u001b[0;34m**\u001b[0m\u001b[0;34m{\u001b[0m\u001b[0maxis_name\u001b[0m\u001b[0;34m:\u001b[0m \u001b[0mnew_axis\u001b[0m\u001b[0;34m}\u001b[0m\u001b[0;34m)\u001b[0m\u001b[0;34m\u001b[0m\u001b[0;34m\u001b[0m\u001b[0m\n\u001b[1;32m   3972\u001b[0m \u001b[0;34m\u001b[0m\u001b[0m\n",
      "\u001b[0;32m~/opt/anaconda3/lib/python3.7/site-packages/pandas/core/indexes/base.py\u001b[0m in \u001b[0;36mdrop\u001b[0;34m(self, labels, errors)\u001b[0m\n\u001b[1;32m   5015\u001b[0m         \u001b[0;32mif\u001b[0m \u001b[0mmask\u001b[0m\u001b[0;34m.\u001b[0m\u001b[0many\u001b[0m\u001b[0;34m(\u001b[0m\u001b[0;34m)\u001b[0m\u001b[0;34m:\u001b[0m\u001b[0;34m\u001b[0m\u001b[0;34m\u001b[0m\u001b[0m\n\u001b[1;32m   5016\u001b[0m             \u001b[0;32mif\u001b[0m \u001b[0merrors\u001b[0m \u001b[0;34m!=\u001b[0m \u001b[0;34m\"ignore\"\u001b[0m\u001b[0;34m:\u001b[0m\u001b[0;34m\u001b[0m\u001b[0;34m\u001b[0m\u001b[0m\n\u001b[0;32m-> 5017\u001b[0;31m                 \u001b[0;32mraise\u001b[0m \u001b[0mKeyError\u001b[0m\u001b[0;34m(\u001b[0m\u001b[0;34mf\"{labels[mask]} not found in axis\"\u001b[0m\u001b[0;34m)\u001b[0m\u001b[0;34m\u001b[0m\u001b[0;34m\u001b[0m\u001b[0m\n\u001b[0m\u001b[1;32m   5018\u001b[0m             \u001b[0mindexer\u001b[0m \u001b[0;34m=\u001b[0m \u001b[0mindexer\u001b[0m\u001b[0;34m[\u001b[0m\u001b[0;34m~\u001b[0m\u001b[0mmask\u001b[0m\u001b[0;34m]\u001b[0m\u001b[0;34m\u001b[0m\u001b[0;34m\u001b[0m\u001b[0m\n\u001b[1;32m   5019\u001b[0m         \u001b[0;32mreturn\u001b[0m \u001b[0mself\u001b[0m\u001b[0;34m.\u001b[0m\u001b[0mdelete\u001b[0m\u001b[0;34m(\u001b[0m\u001b[0mindexer\u001b[0m\u001b[0;34m)\u001b[0m\u001b[0;34m\u001b[0m\u001b[0;34m\u001b[0m\u001b[0m\n",
      "\u001b[0;31mKeyError\u001b[0m: \"['Heating' 'Appliances' 'Open Flame'] not found in axis\""
     ]
    }
   ],
   "source": [
    "nonres_fire_losses.drop(columns = ['Intentional', \n",
    "                                   'Playing with Heat Source',\n",
    "                                   'Smoking', \n",
    "                                   'Heating', \n",
    "                                   'Cooking',\n",
    "                                   'Electrical Malfunction', \n",
    "                                   'Appliances', \n",
    "                                   'Open Flame', \n",
    "                                   'Other Heat', \n",
    "                                   'Other Equipment',\n",
    "                                   'Natural',\n",
    "                                   'Exposure',\n",
    "                                   'Equipment Malfunction',\n",
    "                                   'Other Unintentional, Careless',\n",
    "                                   'Cause Under Investigation', \n",
    "                                   'Unnamed: 17', \n",
    "                                   'Unnamed: 18'], \n",
    "                        inplace = True)"
   ]
  },
  {
   "cell_type": "code",
   "execution_count": 109,
   "metadata": {
    "collapsed": true,
    "jupyter": {
     "outputs_hidden": true
    }
   },
   "outputs": [
    {
     "ename": "KeyError",
     "evalue": "\"['Heating' 'Appliances' 'Open Flame'] not found in axis\"",
     "output_type": "error",
     "traceback": [
      "\u001b[0;31m---------------------------------------------------------------------------\u001b[0m",
      "\u001b[0;31mKeyError\u001b[0m                                  Traceback (most recent call last)",
      "\u001b[0;32m<ipython-input-109-c9f64828accf>\u001b[0m in \u001b[0;36m<module>\u001b[0;34m\u001b[0m\n\u001b[1;32m     16\u001b[0m                                 \u001b[0;34m'Unnamed: 17'\u001b[0m\u001b[0;34m,\u001b[0m\u001b[0;34m\u001b[0m\u001b[0;34m\u001b[0m\u001b[0m\n\u001b[1;32m     17\u001b[0m                                 'Unnamed: 18'], \n\u001b[0;32m---> 18\u001b[0;31m                     inplace = True)\n\u001b[0m",
      "\u001b[0;32m~/opt/anaconda3/lib/python3.7/site-packages/pandas/core/frame.py\u001b[0m in \u001b[0;36mdrop\u001b[0;34m(self, labels, axis, index, columns, level, inplace, errors)\u001b[0m\n\u001b[1;32m   3995\u001b[0m             \u001b[0mlevel\u001b[0m\u001b[0;34m=\u001b[0m\u001b[0mlevel\u001b[0m\u001b[0;34m,\u001b[0m\u001b[0;34m\u001b[0m\u001b[0;34m\u001b[0m\u001b[0m\n\u001b[1;32m   3996\u001b[0m             \u001b[0minplace\u001b[0m\u001b[0;34m=\u001b[0m\u001b[0minplace\u001b[0m\u001b[0;34m,\u001b[0m\u001b[0;34m\u001b[0m\u001b[0;34m\u001b[0m\u001b[0m\n\u001b[0;32m-> 3997\u001b[0;31m             \u001b[0merrors\u001b[0m\u001b[0;34m=\u001b[0m\u001b[0merrors\u001b[0m\u001b[0;34m,\u001b[0m\u001b[0;34m\u001b[0m\u001b[0;34m\u001b[0m\u001b[0m\n\u001b[0m\u001b[1;32m   3998\u001b[0m         )\n\u001b[1;32m   3999\u001b[0m \u001b[0;34m\u001b[0m\u001b[0m\n",
      "\u001b[0;32m~/opt/anaconda3/lib/python3.7/site-packages/pandas/core/generic.py\u001b[0m in \u001b[0;36mdrop\u001b[0;34m(self, labels, axis, index, columns, level, inplace, errors)\u001b[0m\n\u001b[1;32m   3934\u001b[0m         \u001b[0;32mfor\u001b[0m \u001b[0maxis\u001b[0m\u001b[0;34m,\u001b[0m \u001b[0mlabels\u001b[0m \u001b[0;32min\u001b[0m \u001b[0maxes\u001b[0m\u001b[0;34m.\u001b[0m\u001b[0mitems\u001b[0m\u001b[0;34m(\u001b[0m\u001b[0;34m)\u001b[0m\u001b[0;34m:\u001b[0m\u001b[0;34m\u001b[0m\u001b[0;34m\u001b[0m\u001b[0m\n\u001b[1;32m   3935\u001b[0m             \u001b[0;32mif\u001b[0m \u001b[0mlabels\u001b[0m \u001b[0;32mis\u001b[0m \u001b[0;32mnot\u001b[0m \u001b[0;32mNone\u001b[0m\u001b[0;34m:\u001b[0m\u001b[0;34m\u001b[0m\u001b[0;34m\u001b[0m\u001b[0m\n\u001b[0;32m-> 3936\u001b[0;31m                 \u001b[0mobj\u001b[0m \u001b[0;34m=\u001b[0m \u001b[0mobj\u001b[0m\u001b[0;34m.\u001b[0m\u001b[0m_drop_axis\u001b[0m\u001b[0;34m(\u001b[0m\u001b[0mlabels\u001b[0m\u001b[0;34m,\u001b[0m \u001b[0maxis\u001b[0m\u001b[0;34m,\u001b[0m \u001b[0mlevel\u001b[0m\u001b[0;34m=\u001b[0m\u001b[0mlevel\u001b[0m\u001b[0;34m,\u001b[0m \u001b[0merrors\u001b[0m\u001b[0;34m=\u001b[0m\u001b[0merrors\u001b[0m\u001b[0;34m)\u001b[0m\u001b[0;34m\u001b[0m\u001b[0;34m\u001b[0m\u001b[0m\n\u001b[0m\u001b[1;32m   3937\u001b[0m \u001b[0;34m\u001b[0m\u001b[0m\n\u001b[1;32m   3938\u001b[0m         \u001b[0;32mif\u001b[0m \u001b[0minplace\u001b[0m\u001b[0;34m:\u001b[0m\u001b[0;34m\u001b[0m\u001b[0;34m\u001b[0m\u001b[0m\n",
      "\u001b[0;32m~/opt/anaconda3/lib/python3.7/site-packages/pandas/core/generic.py\u001b[0m in \u001b[0;36m_drop_axis\u001b[0;34m(self, labels, axis, level, errors)\u001b[0m\n\u001b[1;32m   3968\u001b[0m                 \u001b[0mnew_axis\u001b[0m \u001b[0;34m=\u001b[0m \u001b[0maxis\u001b[0m\u001b[0;34m.\u001b[0m\u001b[0mdrop\u001b[0m\u001b[0;34m(\u001b[0m\u001b[0mlabels\u001b[0m\u001b[0;34m,\u001b[0m \u001b[0mlevel\u001b[0m\u001b[0;34m=\u001b[0m\u001b[0mlevel\u001b[0m\u001b[0;34m,\u001b[0m \u001b[0merrors\u001b[0m\u001b[0;34m=\u001b[0m\u001b[0merrors\u001b[0m\u001b[0;34m)\u001b[0m\u001b[0;34m\u001b[0m\u001b[0;34m\u001b[0m\u001b[0m\n\u001b[1;32m   3969\u001b[0m             \u001b[0;32melse\u001b[0m\u001b[0;34m:\u001b[0m\u001b[0;34m\u001b[0m\u001b[0;34m\u001b[0m\u001b[0m\n\u001b[0;32m-> 3970\u001b[0;31m                 \u001b[0mnew_axis\u001b[0m \u001b[0;34m=\u001b[0m \u001b[0maxis\u001b[0m\u001b[0;34m.\u001b[0m\u001b[0mdrop\u001b[0m\u001b[0;34m(\u001b[0m\u001b[0mlabels\u001b[0m\u001b[0;34m,\u001b[0m \u001b[0merrors\u001b[0m\u001b[0;34m=\u001b[0m\u001b[0merrors\u001b[0m\u001b[0;34m)\u001b[0m\u001b[0;34m\u001b[0m\u001b[0;34m\u001b[0m\u001b[0m\n\u001b[0m\u001b[1;32m   3971\u001b[0m             \u001b[0mresult\u001b[0m \u001b[0;34m=\u001b[0m \u001b[0mself\u001b[0m\u001b[0;34m.\u001b[0m\u001b[0mreindex\u001b[0m\u001b[0;34m(\u001b[0m\u001b[0;34m**\u001b[0m\u001b[0;34m{\u001b[0m\u001b[0maxis_name\u001b[0m\u001b[0;34m:\u001b[0m \u001b[0mnew_axis\u001b[0m\u001b[0;34m}\u001b[0m\u001b[0;34m)\u001b[0m\u001b[0;34m\u001b[0m\u001b[0;34m\u001b[0m\u001b[0m\n\u001b[1;32m   3972\u001b[0m \u001b[0;34m\u001b[0m\u001b[0m\n",
      "\u001b[0;32m~/opt/anaconda3/lib/python3.7/site-packages/pandas/core/indexes/base.py\u001b[0m in \u001b[0;36mdrop\u001b[0;34m(self, labels, errors)\u001b[0m\n\u001b[1;32m   5015\u001b[0m         \u001b[0;32mif\u001b[0m \u001b[0mmask\u001b[0m\u001b[0;34m.\u001b[0m\u001b[0many\u001b[0m\u001b[0;34m(\u001b[0m\u001b[0;34m)\u001b[0m\u001b[0;34m:\u001b[0m\u001b[0;34m\u001b[0m\u001b[0;34m\u001b[0m\u001b[0m\n\u001b[1;32m   5016\u001b[0m             \u001b[0;32mif\u001b[0m \u001b[0merrors\u001b[0m \u001b[0;34m!=\u001b[0m \u001b[0;34m\"ignore\"\u001b[0m\u001b[0;34m:\u001b[0m\u001b[0;34m\u001b[0m\u001b[0;34m\u001b[0m\u001b[0m\n\u001b[0;32m-> 5017\u001b[0;31m                 \u001b[0;32mraise\u001b[0m \u001b[0mKeyError\u001b[0m\u001b[0;34m(\u001b[0m\u001b[0;34mf\"{labels[mask]} not found in axis\"\u001b[0m\u001b[0;34m)\u001b[0m\u001b[0;34m\u001b[0m\u001b[0;34m\u001b[0m\u001b[0m\n\u001b[0m\u001b[1;32m   5018\u001b[0m             \u001b[0mindexer\u001b[0m \u001b[0;34m=\u001b[0m \u001b[0mindexer\u001b[0m\u001b[0;34m[\u001b[0m\u001b[0;34m~\u001b[0m\u001b[0mmask\u001b[0m\u001b[0;34m]\u001b[0m\u001b[0;34m\u001b[0m\u001b[0;34m\u001b[0m\u001b[0m\n\u001b[1;32m   5019\u001b[0m         \u001b[0;32mreturn\u001b[0m \u001b[0mself\u001b[0m\u001b[0;34m.\u001b[0m\u001b[0mdelete\u001b[0m\u001b[0;34m(\u001b[0m\u001b[0mindexer\u001b[0m\u001b[0;34m)\u001b[0m\u001b[0;34m\u001b[0m\u001b[0;34m\u001b[0m\u001b[0m\n",
      "\u001b[0;31mKeyError\u001b[0m: \"['Heating' 'Appliances' 'Open Flame'] not found in axis\""
     ]
    }
   ],
   "source": [
    "res_fire_losses.drop(columns = ['Intentional', \n",
    "                                'Playing with Heat Source',\n",
    "                                'Smoking', \n",
    "                                'Heating', \n",
    "                                'Cooking',\n",
    "                                'Electrical Malfunction', \n",
    "                                'Appliances', \n",
    "                                'Open Flame', \n",
    "                                'Other Heat', \n",
    "                                'Other Equipment',\n",
    "                                'Natural',\n",
    "                                'Exposure',\n",
    "                                'Equipment Malfunction',\n",
    "                                'Other Unintentional, Careless',\n",
    "                                'Cause Under Investigation', \n",
    "                                'Unnamed: 17', \n",
    "                                'Unnamed: 18'], \n",
    "                    inplace = True)"
   ]
  },
  {
   "cell_type": "code",
   "execution_count": 101,
   "metadata": {
    "collapsed": true,
    "jupyter": {
     "outputs_hidden": true
    }
   },
   "outputs": [
    {
     "data": {
      "text/plain": [
       "Intentional                           object\n",
       "Playing with Heat Source              object\n",
       "Smoking                               object\n",
       "Heating                               object\n",
       "Cooking                               object\n",
       "Electrical Malfunction                object\n",
       "Appliances                            object\n",
       "Open Flame                            object\n",
       "Other Heat                            object\n",
       "Other Equipment                       object\n",
       "Natural                               object\n",
       "Exposure                              object\n",
       "Equipment Malfunction                 object\n",
       "Other Unintentional, Careless         object\n",
       "Cause Under Investigation             object\n",
       "Total Nonresidential Dollar Loss*     object\n",
       "Unnamed: 17                          float64\n",
       "Unnamed: 18                          float64\n",
       "dtype: object"
      ]
     },
     "execution_count": 101,
     "metadata": {},
     "output_type": "execute_result"
    }
   ],
   "source": [
    "#Check Data types and column names for Non-residential fire dollar losses. \n",
    "nonres_fire_losses.dtypes"
   ]
  },
  {
   "cell_type": "code",
   "execution_count": 102,
   "metadata": {
    "collapsed": true,
    "jupyter": {
     "outputs_hidden": true
    }
   },
   "outputs": [
    {
     "data": {
      "text/plain": [
       "Years                              int64\n",
       "Intentional                       object\n",
       "Playing with Heat Source          object\n",
       "Smoking                           object\n",
       "Heating                           object\n",
       "Cooking                           object\n",
       "Electrical Malfunction            object\n",
       "Appliances                        object\n",
       "Open Flame                        object\n",
       "Other Heat                        object\n",
       "Other Equipment                   object\n",
       "Natural                           object\n",
       "Exposure                          object\n",
       "Equipment Malfunction             object\n",
       "Other Unintentional, Careless     object\n",
       "Cause Under Investigation         object\n",
       "Total Residential*                object\n",
       "Unnamed: 17                      float64\n",
       "Unnamed: 18                      float64\n",
       "dtype: object"
      ]
     },
     "execution_count": 102,
     "metadata": {},
     "output_type": "execute_result"
    }
   ],
   "source": [
    "#Check Data types and column names for Residential fire dollar losses. \n",
    "res_fire_losses.dtypes"
   ]
  },
  {
   "cell_type": "code",
   "execution_count": 117,
   "metadata": {
    "collapsed": true,
    "jupyter": {
     "outputs_hidden": true
    }
   },
   "outputs": [
    {
     "ename": "AttributeError",
     "evalue": "Can only use .str accessor with string values!",
     "output_type": "error",
     "traceback": [
      "\u001b[0;31m---------------------------------------------------------------------------\u001b[0m",
      "\u001b[0;31mAttributeError\u001b[0m                            Traceback (most recent call last)",
      "\u001b[0;32m<ipython-input-117-93801a48caab>\u001b[0m in \u001b[0;36m<module>\u001b[0;34m\u001b[0m\n\u001b[1;32m      1\u001b[0m \u001b[0;31m#Remove $ and , in 'Nonres_Fire_Dollr_Loss_by_Cause' dataframe\u001b[0m\u001b[0;34m\u001b[0m\u001b[0;34m\u001b[0m\u001b[0;34m\u001b[0m\u001b[0m\n\u001b[1;32m      2\u001b[0m nonres_fire_losses[\"Total Nonresidential Dollar Loss*\"] = nonres_fire_losses[\n\u001b[0;32m----> 3\u001b[0;31m     \"Total Nonresidential Dollar Loss*\"].str.replace('$', '')\n\u001b[0m\u001b[1;32m      4\u001b[0m \u001b[0mnonres_fire_losses\u001b[0m\u001b[0;34m.\u001b[0m\u001b[0mhead\u001b[0m\u001b[0;34m(\u001b[0m\u001b[0;34m)\u001b[0m\u001b[0;34m\u001b[0m\u001b[0;34m\u001b[0m\u001b[0m\n",
      "\u001b[0;32m~/opt/anaconda3/lib/python3.7/site-packages/pandas/core/generic.py\u001b[0m in \u001b[0;36m__getattr__\u001b[0;34m(self, name)\u001b[0m\n\u001b[1;32m   5268\u001b[0m             \u001b[0;32mor\u001b[0m \u001b[0mname\u001b[0m \u001b[0;32min\u001b[0m \u001b[0mself\u001b[0m\u001b[0;34m.\u001b[0m\u001b[0m_accessors\u001b[0m\u001b[0;34m\u001b[0m\u001b[0;34m\u001b[0m\u001b[0m\n\u001b[1;32m   5269\u001b[0m         ):\n\u001b[0;32m-> 5270\u001b[0;31m             \u001b[0;32mreturn\u001b[0m \u001b[0mobject\u001b[0m\u001b[0;34m.\u001b[0m\u001b[0m__getattribute__\u001b[0m\u001b[0;34m(\u001b[0m\u001b[0mself\u001b[0m\u001b[0;34m,\u001b[0m \u001b[0mname\u001b[0m\u001b[0;34m)\u001b[0m\u001b[0;34m\u001b[0m\u001b[0;34m\u001b[0m\u001b[0m\n\u001b[0m\u001b[1;32m   5271\u001b[0m         \u001b[0;32melse\u001b[0m\u001b[0;34m:\u001b[0m\u001b[0;34m\u001b[0m\u001b[0;34m\u001b[0m\u001b[0m\n\u001b[1;32m   5272\u001b[0m             \u001b[0;32mif\u001b[0m \u001b[0mself\u001b[0m\u001b[0;34m.\u001b[0m\u001b[0m_info_axis\u001b[0m\u001b[0;34m.\u001b[0m\u001b[0m_can_hold_identifiers_and_holds_name\u001b[0m\u001b[0;34m(\u001b[0m\u001b[0mname\u001b[0m\u001b[0;34m)\u001b[0m\u001b[0;34m:\u001b[0m\u001b[0;34m\u001b[0m\u001b[0;34m\u001b[0m\u001b[0m\n",
      "\u001b[0;32m~/opt/anaconda3/lib/python3.7/site-packages/pandas/core/accessor.py\u001b[0m in \u001b[0;36m__get__\u001b[0;34m(self, obj, cls)\u001b[0m\n\u001b[1;32m    185\u001b[0m             \u001b[0;31m# we're accessing the attribute of the class, i.e., Dataset.geo\u001b[0m\u001b[0;34m\u001b[0m\u001b[0;34m\u001b[0m\u001b[0;34m\u001b[0m\u001b[0m\n\u001b[1;32m    186\u001b[0m             \u001b[0;32mreturn\u001b[0m \u001b[0mself\u001b[0m\u001b[0;34m.\u001b[0m\u001b[0m_accessor\u001b[0m\u001b[0;34m\u001b[0m\u001b[0;34m\u001b[0m\u001b[0m\n\u001b[0;32m--> 187\u001b[0;31m         \u001b[0maccessor_obj\u001b[0m \u001b[0;34m=\u001b[0m \u001b[0mself\u001b[0m\u001b[0;34m.\u001b[0m\u001b[0m_accessor\u001b[0m\u001b[0;34m(\u001b[0m\u001b[0mobj\u001b[0m\u001b[0;34m)\u001b[0m\u001b[0;34m\u001b[0m\u001b[0;34m\u001b[0m\u001b[0m\n\u001b[0m\u001b[1;32m    188\u001b[0m         \u001b[0;31m# Replace the property with the accessor object. Inspired by:\u001b[0m\u001b[0;34m\u001b[0m\u001b[0;34m\u001b[0m\u001b[0;34m\u001b[0m\u001b[0m\n\u001b[1;32m    189\u001b[0m         \u001b[0;31m# http://www.pydanny.com/cached-property.html\u001b[0m\u001b[0;34m\u001b[0m\u001b[0;34m\u001b[0m\u001b[0;34m\u001b[0m\u001b[0m\n",
      "\u001b[0;32m~/opt/anaconda3/lib/python3.7/site-packages/pandas/core/strings.py\u001b[0m in \u001b[0;36m__init__\u001b[0;34m(self, data)\u001b[0m\n\u001b[1;32m   2039\u001b[0m \u001b[0;34m\u001b[0m\u001b[0m\n\u001b[1;32m   2040\u001b[0m     \u001b[0;32mdef\u001b[0m \u001b[0m__init__\u001b[0m\u001b[0;34m(\u001b[0m\u001b[0mself\u001b[0m\u001b[0;34m,\u001b[0m \u001b[0mdata\u001b[0m\u001b[0;34m)\u001b[0m\u001b[0;34m:\u001b[0m\u001b[0;34m\u001b[0m\u001b[0;34m\u001b[0m\u001b[0m\n\u001b[0;32m-> 2041\u001b[0;31m         \u001b[0mself\u001b[0m\u001b[0;34m.\u001b[0m\u001b[0m_inferred_dtype\u001b[0m \u001b[0;34m=\u001b[0m \u001b[0mself\u001b[0m\u001b[0;34m.\u001b[0m\u001b[0m_validate\u001b[0m\u001b[0;34m(\u001b[0m\u001b[0mdata\u001b[0m\u001b[0;34m)\u001b[0m\u001b[0;34m\u001b[0m\u001b[0;34m\u001b[0m\u001b[0m\n\u001b[0m\u001b[1;32m   2042\u001b[0m         \u001b[0mself\u001b[0m\u001b[0;34m.\u001b[0m\u001b[0m_is_categorical\u001b[0m \u001b[0;34m=\u001b[0m \u001b[0mis_categorical_dtype\u001b[0m\u001b[0;34m(\u001b[0m\u001b[0mdata\u001b[0m\u001b[0;34m)\u001b[0m\u001b[0;34m\u001b[0m\u001b[0;34m\u001b[0m\u001b[0m\n\u001b[1;32m   2043\u001b[0m         \u001b[0mself\u001b[0m\u001b[0;34m.\u001b[0m\u001b[0m_is_string\u001b[0m \u001b[0;34m=\u001b[0m \u001b[0mdata\u001b[0m\u001b[0;34m.\u001b[0m\u001b[0mdtype\u001b[0m\u001b[0;34m.\u001b[0m\u001b[0mname\u001b[0m \u001b[0;34m==\u001b[0m \u001b[0;34m\"string\"\u001b[0m\u001b[0;34m\u001b[0m\u001b[0;34m\u001b[0m\u001b[0m\n",
      "\u001b[0;32m~/opt/anaconda3/lib/python3.7/site-packages/pandas/core/strings.py\u001b[0m in \u001b[0;36m_validate\u001b[0;34m(data)\u001b[0m\n\u001b[1;32m   2096\u001b[0m \u001b[0;34m\u001b[0m\u001b[0m\n\u001b[1;32m   2097\u001b[0m         \u001b[0;32mif\u001b[0m \u001b[0minferred_dtype\u001b[0m \u001b[0;32mnot\u001b[0m \u001b[0;32min\u001b[0m \u001b[0mallowed_types\u001b[0m\u001b[0;34m:\u001b[0m\u001b[0;34m\u001b[0m\u001b[0;34m\u001b[0m\u001b[0m\n\u001b[0;32m-> 2098\u001b[0;31m             \u001b[0;32mraise\u001b[0m \u001b[0mAttributeError\u001b[0m\u001b[0;34m(\u001b[0m\u001b[0;34m\"Can only use .str accessor with string values!\"\u001b[0m\u001b[0;34m)\u001b[0m\u001b[0;34m\u001b[0m\u001b[0;34m\u001b[0m\u001b[0m\n\u001b[0m\u001b[1;32m   2099\u001b[0m         \u001b[0;32mreturn\u001b[0m \u001b[0minferred_dtype\u001b[0m\u001b[0;34m\u001b[0m\u001b[0;34m\u001b[0m\u001b[0m\n\u001b[1;32m   2100\u001b[0m \u001b[0;34m\u001b[0m\u001b[0m\n",
      "\u001b[0;31mAttributeError\u001b[0m: Can only use .str accessor with string values!"
     ]
    }
   ],
   "source": [
    "#Remove '$' and ',' in 'Nonres_Fire_Dollr_Loss_by_Cause' dataframe\n",
    "nonres_fire_losses[\"Total Nonresidential Dollar Loss*\"] = nonres_fire_losses[\n",
    "    \"Total Nonresidential Dollar Loss*\"].replace('$', '')\n",
    "nonres_fire_losses.head()"
   ]
  },
  {
   "cell_type": "code",
   "execution_count": 119,
   "metadata": {
    "collapsed": true,
    "jupyter": {
     "outputs_hidden": true
    }
   },
   "outputs": [
    {
     "ename": "TypeError",
     "evalue": "replace() missing 1 required positional argument: 'repl'",
     "output_type": "error",
     "traceback": [
      "\u001b[0;31m---------------------------------------------------------------------------\u001b[0m",
      "\u001b[0;31mTypeError\u001b[0m                                 Traceback (most recent call last)",
      "\u001b[0;32m<ipython-input-119-59a411c58776>\u001b[0m in \u001b[0;36m<module>\u001b[0;34m\u001b[0m\n\u001b[1;32m      1\u001b[0m \u001b[0;31m#Remove ',' in Res_Bld_Fire_Dollr_est_by_Cause dataframe\u001b[0m\u001b[0;34m\u001b[0m\u001b[0;34m\u001b[0m\u001b[0;34m\u001b[0m\u001b[0m\n\u001b[0;32m----> 2\u001b[0;31m \u001b[0mres_fire_losses\u001b[0m\u001b[0;34m[\u001b[0m\u001b[0;34m\"Total Residential*\"\u001b[0m\u001b[0;34m]\u001b[0m \u001b[0;34m=\u001b[0m \u001b[0mres_fire_losses\u001b[0m\u001b[0;34m[\u001b[0m\u001b[0;34m\"Total Residential*\"\u001b[0m\u001b[0;34m]\u001b[0m\u001b[0;34m.\u001b[0m\u001b[0mstr\u001b[0m\u001b[0;34m.\u001b[0m\u001b[0mreplace\u001b[0m\u001b[0;34m(\u001b[0m\u001b[0;34m','\u001b[0m \u001b[0;34m''\u001b[0m\u001b[0;34m)\u001b[0m\u001b[0;34m\u001b[0m\u001b[0;34m\u001b[0m\u001b[0m\n\u001b[0m\u001b[1;32m      3\u001b[0m \u001b[0mres_fire_losses\u001b[0m\u001b[0;34m.\u001b[0m\u001b[0mhead\u001b[0m\u001b[0;34m(\u001b[0m\u001b[0;34m)\u001b[0m\u001b[0;34m\u001b[0m\u001b[0;34m\u001b[0m\u001b[0m\n",
      "\u001b[0;32m~/opt/anaconda3/lib/python3.7/site-packages/pandas/core/strings.py\u001b[0m in \u001b[0;36mwrapper\u001b[0;34m(self, *args, **kwargs)\u001b[0m\n\u001b[1;32m   1952\u001b[0m                 )\n\u001b[1;32m   1953\u001b[0m                 \u001b[0;32mraise\u001b[0m \u001b[0mTypeError\u001b[0m\u001b[0;34m(\u001b[0m\u001b[0mmsg\u001b[0m\u001b[0;34m)\u001b[0m\u001b[0;34m\u001b[0m\u001b[0;34m\u001b[0m\u001b[0m\n\u001b[0;32m-> 1954\u001b[0;31m             \u001b[0;32mreturn\u001b[0m \u001b[0mfunc\u001b[0m\u001b[0;34m(\u001b[0m\u001b[0mself\u001b[0m\u001b[0;34m,\u001b[0m \u001b[0;34m*\u001b[0m\u001b[0margs\u001b[0m\u001b[0;34m,\u001b[0m \u001b[0;34m**\u001b[0m\u001b[0mkwargs\u001b[0m\u001b[0;34m)\u001b[0m\u001b[0;34m\u001b[0m\u001b[0;34m\u001b[0m\u001b[0m\n\u001b[0m\u001b[1;32m   1955\u001b[0m \u001b[0;34m\u001b[0m\u001b[0m\n\u001b[1;32m   1956\u001b[0m         \u001b[0mwrapper\u001b[0m\u001b[0;34m.\u001b[0m\u001b[0m__name__\u001b[0m \u001b[0;34m=\u001b[0m \u001b[0mfunc_name\u001b[0m\u001b[0;34m\u001b[0m\u001b[0;34m\u001b[0m\u001b[0m\n",
      "\u001b[0;31mTypeError\u001b[0m: replace() missing 1 required positional argument: 'repl'"
     ]
    }
   ],
   "source": [
    "#Remove ',' in Res_Bld_Fire_Dollr_est_by_Cause dataframe\n",
    "res_fire_losses[\"Total Residential*\"] = res_fire_losses[\n",
    "    \"Total Residential*\"].str.replace(',' '')\n",
    "res_fire_losses.head()"
   ]
  },
  {
   "cell_type": "markdown",
   "metadata": {},
   "source": [
    "nonres_fire_losses.set_index('Years', inplace = True)"
   ]
  },
  {
   "cell_type": "markdown",
   "metadata": {},
   "source": [
    "## Combine all dataframes"
   ]
  },
  {
   "cell_type": "code",
   "execution_count": null,
   "metadata": {},
   "outputs": [],
   "source": []
  },
  {
   "cell_type": "markdown",
   "metadata": {},
   "source": [
    "# Risk Analysis\n",
    "\n",
    "Calculate average cost per claim, then plot the averages per year. \n",
    "\n",
    "Given a 40% Loss Ratio and total dollar amount of losses (i.e. Fire/Flood insurance company paid out 40% of premiums in claim or losses), determine the premiums needed for each Fire and Flood datasets and the combined dataset. 40% = ($ Losses per year / Premium) X 100.\n",
    "\n",
    "Plot the premiums for each year and show increase/decreases needed year-over-year.\n",
    "Plot average premiums per year."
   ]
  },
  {
   "cell_type": "code",
   "execution_count": null,
   "metadata": {},
   "outputs": [],
   "source": []
  },
  {
   "cell_type": "markdown",
   "metadata": {},
   "source": [
    "# Bonus/Challenge\n",
    "Calculate a risk return analysis on invested 60% of premiums not paid out from loss ratio. "
   ]
  },
  {
   "cell_type": "code",
   "execution_count": null,
   "metadata": {},
   "outputs": [],
   "source": []
  }
 ],
 "metadata": {
  "kernelspec": {
   "display_name": "Python 3",
   "language": "python",
   "name": "python3"
  },
  "language_info": {
   "codemirror_mode": {
    "name": "ipython",
    "version": 3
   },
   "file_extension": ".py",
   "mimetype": "text/x-python",
   "name": "python",
   "nbconvert_exporter": "python",
   "pygments_lexer": "ipython3",
   "version": "3.7.7"
  }
 },
 "nbformat": 4,
 "nbformat_minor": 4
}
