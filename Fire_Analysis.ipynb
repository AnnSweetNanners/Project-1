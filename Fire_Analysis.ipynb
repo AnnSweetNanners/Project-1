{
 "cells": [
  {
   "cell_type": "markdown",
   "metadata": {},
   "source": [
    "# Fire and Flood Risks in US\n",
    "\n",
    "In this project we will evaluate Fire and Flood claims in the United States. We will determine key metrics based on data available related to frequency and severity of claims, average dollar amount of claims, risk of claims, loss ratios and as a bonus: investment income from surplus of premiums. "
   ]
  },
  {
   "cell_type": "code",
   "execution_count": 84,
   "metadata": {},
   "outputs": [],
   "source": [
    "#Import libraries\n",
    "import numpy as np\n",
    "import pandas as pd\n",
    "from pathlib import Path\n",
    "import hvplot.pandas\n",
    "\n",
    "%matplotlib inline"
   ]
  },
  {
   "cell_type": "markdown",
   "metadata": {},
   "source": [
    "## Data Cleaning\n",
    "\n",
    "We will read, clean and combine the following CSV files for further analysis:\n",
    "1. Nonres_Fire_Dollr_Loss_by_Cause.csv\n",
    "2. Res_Bld_Fire_Dollr_Est_by_Cause.csv"
   ]
  },
  {
   "cell_type": "code",
   "execution_count": 85,
   "metadata": {},
   "outputs": [],
   "source": [
    "#Set Path using pathlib\n",
    "nonres_fire_losses_csv = Path(\n",
    "    \"fire_loss_estimates/Nonres_Fire_Dollr_Loss_by_Cause.csv\")\n",
    "res_fire_losses_csv = Path(\n",
    "    \"fire_loss_estimates/Res_Bld_Fire_Dollr_Est_by_Cause.csv\")"
   ]
  },
  {
   "cell_type": "code",
   "execution_count": 86,
   "metadata": {},
   "outputs": [
    {
     "data": {
      "text/html": [
       "<div>\n",
       "<style scoped>\n",
       "    .dataframe tbody tr th:only-of-type {\n",
       "        vertical-align: middle;\n",
       "    }\n",
       "\n",
       "    .dataframe tbody tr th {\n",
       "        vertical-align: top;\n",
       "    }\n",
       "\n",
       "    .dataframe thead th {\n",
       "        text-align: right;\n",
       "    }\n",
       "</style>\n",
       "<table border=\"1\" class=\"dataframe\">\n",
       "  <thead>\n",
       "    <tr style=\"text-align: right;\">\n",
       "      <th></th>\n",
       "      <th>Years</th>\n",
       "      <th>Intentional</th>\n",
       "      <th>Playing with Heat Source</th>\n",
       "      <th>Smoking</th>\n",
       "      <th>Heating</th>\n",
       "      <th>Cooking</th>\n",
       "      <th>Electrical Malfunction</th>\n",
       "      <th>Appliances</th>\n",
       "      <th>Open Flame</th>\n",
       "      <th>Other Heat</th>\n",
       "      <th>Other Equipment</th>\n",
       "      <th>Natural</th>\n",
       "      <th>Exposure</th>\n",
       "      <th>Equipment Malfunction</th>\n",
       "      <th>Other Unintentional, Careless</th>\n",
       "      <th>Cause Under Investigation</th>\n",
       "      <th>Total Nonresidential Dollar Loss*</th>\n",
       "      <th>Unnamed: 17</th>\n",
       "      <th>Unnamed: 18</th>\n",
       "    </tr>\n",
       "  </thead>\n",
       "  <tbody>\n",
       "    <tr>\n",
       "      <th>0</th>\n",
       "      <td>2003</td>\n",
       "      <td>$364,600,000.00</td>\n",
       "      <td>$12,100,000.00</td>\n",
       "      <td>$43,900,000.00</td>\n",
       "      <td>$159,300,000.00</td>\n",
       "      <td>$56,900,000.00</td>\n",
       "      <td>$514,600,000.00</td>\n",
       "      <td>$102,300,000.00</td>\n",
       "      <td>$282,100,000.00</td>\n",
       "      <td>$207,200,000.00</td>\n",
       "      <td>$194,600,000.00</td>\n",
       "      <td>$258,100,000.00</td>\n",
       "      <td>$198,000,000.00</td>\n",
       "      <td>$241,100,000.00</td>\n",
       "      <td>$322,000,000.00</td>\n",
       "      <td>$149,400,000.00</td>\n",
       "      <td>$3,106,000,000.00</td>\n",
       "      <td>NaN</td>\n",
       "      <td>NaN</td>\n",
       "    </tr>\n",
       "    <tr>\n",
       "      <th>1</th>\n",
       "      <td>2004</td>\n",
       "      <td>$324,600,000.00</td>\n",
       "      <td>$12,400,000.00</td>\n",
       "      <td>$26,400,000.00</td>\n",
       "      <td>$118,000,000.00</td>\n",
       "      <td>$70,400,000.00</td>\n",
       "      <td>$403,900,000.00</td>\n",
       "      <td>$58,700,000.00</td>\n",
       "      <td>$280,900,000.00</td>\n",
       "      <td>$173,400,000.00</td>\n",
       "      <td>$300,900,000.00</td>\n",
       "      <td>$170,700,000.00</td>\n",
       "      <td>$119,300,000.00</td>\n",
       "      <td>$224,700,000.00</td>\n",
       "      <td>$452,500,000.00</td>\n",
       "      <td>$98,700,000.00</td>\n",
       "      <td>$2,835,600,000.00</td>\n",
       "      <td>NaN</td>\n",
       "      <td>NaN</td>\n",
       "    </tr>\n",
       "    <tr>\n",
       "      <th>2</th>\n",
       "      <td>2005</td>\n",
       "      <td>$315,300,000.00</td>\n",
       "      <td>$21,100,000.00</td>\n",
       "      <td>$24,800,000.00</td>\n",
       "      <td>$86,600,000.00</td>\n",
       "      <td>$62,200,000.00</td>\n",
       "      <td>$478,600,000.00</td>\n",
       "      <td>$94,000,000.00</td>\n",
       "      <td>$207,200,000.00</td>\n",
       "      <td>$216,200,000.00</td>\n",
       "      <td>$208,600,000.00</td>\n",
       "      <td>$144,600,000.00</td>\n",
       "      <td>$171,300,000.00</td>\n",
       "      <td>$206,500,000.00</td>\n",
       "      <td>$332,600,000.00</td>\n",
       "      <td>$178,300,000.00</td>\n",
       "      <td>$2,747,800,000.00</td>\n",
       "      <td>NaN</td>\n",
       "      <td>NaN</td>\n",
       "    </tr>\n",
       "    <tr>\n",
       "      <th>3</th>\n",
       "      <td>2006</td>\n",
       "      <td>$389,000,000.00</td>\n",
       "      <td>$9,400,000.00</td>\n",
       "      <td>$28,300,000.00</td>\n",
       "      <td>$134,500,000.00</td>\n",
       "      <td>$50,500,000.00</td>\n",
       "      <td>$500,600,000.00</td>\n",
       "      <td>$115,000,000.00</td>\n",
       "      <td>$137,900,000.00</td>\n",
       "      <td>$156,800,000.00</td>\n",
       "      <td>$110,900,000.00</td>\n",
       "      <td>$219,700,000.00</td>\n",
       "      <td>$137,100,000.00</td>\n",
       "      <td>$461,600,000.00</td>\n",
       "      <td>$300,100,000.00</td>\n",
       "      <td>$169,200,000.00</td>\n",
       "      <td>$2,920,500,000.00</td>\n",
       "      <td>NaN</td>\n",
       "      <td>NaN</td>\n",
       "    </tr>\n",
       "    <tr>\n",
       "      <th>4</th>\n",
       "      <td>2007</td>\n",
       "      <td>$529,700,000.00</td>\n",
       "      <td>$11,900,000.00</td>\n",
       "      <td>$37,900,000.00</td>\n",
       "      <td>$88,400,000.00</td>\n",
       "      <td>$51,100,000.00</td>\n",
       "      <td>$488,600,000.00</td>\n",
       "      <td>$75,700,000.00</td>\n",
       "      <td>$274,300,000.00</td>\n",
       "      <td>$275,700,000.00</td>\n",
       "      <td>$235,700,000.00</td>\n",
       "      <td>$247,900,000.00</td>\n",
       "      <td>$235,400,000.00</td>\n",
       "      <td>$276,700,000.00</td>\n",
       "      <td>$455,700,000.00</td>\n",
       "      <td>$188,200,000.00</td>\n",
       "      <td>$3,473,000,000.00</td>\n",
       "      <td>NaN</td>\n",
       "      <td>NaN</td>\n",
       "    </tr>\n",
       "  </tbody>\n",
       "</table>\n",
       "</div>"
      ],
      "text/plain": [
       "   Years      Intentional Playing with Heat Source         Smoking  \\\n",
       "0   2003  $364,600,000.00           $12,100,000.00  $43,900,000.00   \n",
       "1   2004  $324,600,000.00           $12,400,000.00  $26,400,000.00   \n",
       "2   2005  $315,300,000.00           $21,100,000.00  $24,800,000.00   \n",
       "3   2006  $389,000,000.00            $9,400,000.00  $28,300,000.00   \n",
       "4   2007  $529,700,000.00           $11,900,000.00  $37,900,000.00   \n",
       "\n",
       "          Heating          Cooking Electrical Malfunction      Appliances   \\\n",
       "0  $159,300,000.00  $56,900,000.00        $514,600,000.00  $102,300,000.00   \n",
       "1  $118,000,000.00  $70,400,000.00        $403,900,000.00   $58,700,000.00   \n",
       "2   $86,600,000.00  $62,200,000.00        $478,600,000.00   $94,000,000.00   \n",
       "3  $134,500,000.00  $50,500,000.00        $500,600,000.00  $115,000,000.00   \n",
       "4   $88,400,000.00  $51,100,000.00        $488,600,000.00   $75,700,000.00   \n",
       "\n",
       "       Open Flame        Other Heat  Other Equipment          Natural  \\\n",
       "0  $282,100,000.00  $207,200,000.00  $194,600,000.00  $258,100,000.00   \n",
       "1  $280,900,000.00  $173,400,000.00  $300,900,000.00  $170,700,000.00   \n",
       "2  $207,200,000.00  $216,200,000.00  $208,600,000.00  $144,600,000.00   \n",
       "3  $137,900,000.00  $156,800,000.00  $110,900,000.00  $219,700,000.00   \n",
       "4  $274,300,000.00  $275,700,000.00  $235,700,000.00  $247,900,000.00   \n",
       "\n",
       "          Exposure Equipment Malfunction Other Unintentional, Careless  \\\n",
       "0  $198,000,000.00       $241,100,000.00               $322,000,000.00   \n",
       "1  $119,300,000.00       $224,700,000.00               $452,500,000.00   \n",
       "2  $171,300,000.00       $206,500,000.00               $332,600,000.00   \n",
       "3  $137,100,000.00       $461,600,000.00               $300,100,000.00   \n",
       "4  $235,400,000.00       $276,700,000.00               $455,700,000.00   \n",
       "\n",
       "  Cause Under Investigation Total Nonresidential Dollar Loss*  Unnamed: 17  \\\n",
       "0           $149,400,000.00                 $3,106,000,000.00          NaN   \n",
       "1            $98,700,000.00                 $2,835,600,000.00          NaN   \n",
       "2           $178,300,000.00                 $2,747,800,000.00          NaN   \n",
       "3           $169,200,000.00                 $2,920,500,000.00          NaN   \n",
       "4           $188,200,000.00                 $3,473,000,000.00          NaN   \n",
       "\n",
       "   Unnamed: 18  \n",
       "0          NaN  \n",
       "1          NaN  \n",
       "2          NaN  \n",
       "3          NaN  \n",
       "4          NaN  "
      ]
     },
     "execution_count": 86,
     "metadata": {},
     "output_type": "execute_result"
    }
   ],
   "source": [
    "#Read CSV 'Nonres_Fire_Dollr_Loss_by_Cause.csv' into dataframe\n",
    "nonres_fire_losses = pd.read_csv(nonres_fire_losses_csv)\n",
    "nonres_fire_losses.head()"
   ]
  },
  {
   "cell_type": "code",
   "execution_count": 87,
   "metadata": {},
   "outputs": [
    {
     "data": {
      "text/html": [
       "<div>\n",
       "<style scoped>\n",
       "    .dataframe tbody tr th:only-of-type {\n",
       "        vertical-align: middle;\n",
       "    }\n",
       "\n",
       "    .dataframe tbody tr th {\n",
       "        vertical-align: top;\n",
       "    }\n",
       "\n",
       "    .dataframe thead th {\n",
       "        text-align: right;\n",
       "    }\n",
       "</style>\n",
       "<table border=\"1\" class=\"dataframe\">\n",
       "  <thead>\n",
       "    <tr style=\"text-align: right;\">\n",
       "      <th></th>\n",
       "      <th>Total Nonresidential Dollar Loss*</th>\n",
       "    </tr>\n",
       "    <tr>\n",
       "      <th>Years</th>\n",
       "      <th></th>\n",
       "    </tr>\n",
       "  </thead>\n",
       "  <tbody>\n",
       "    <tr>\n",
       "      <th>2003</th>\n",
       "      <td>3106000000.00</td>\n",
       "    </tr>\n",
       "    <tr>\n",
       "      <th>2004</th>\n",
       "      <td>2835600000.00</td>\n",
       "    </tr>\n",
       "    <tr>\n",
       "      <th>2005</th>\n",
       "      <td>2747800000.00</td>\n",
       "    </tr>\n",
       "    <tr>\n",
       "      <th>2006</th>\n",
       "      <td>2920500000.00</td>\n",
       "    </tr>\n",
       "    <tr>\n",
       "      <th>2007</th>\n",
       "      <td>3473000000.00</td>\n",
       "    </tr>\n",
       "  </tbody>\n",
       "</table>\n",
       "</div>"
      ],
      "text/plain": [
       "      Total Nonresidential Dollar Loss*\n",
       "Years                                  \n",
       "2003                      3106000000.00\n",
       "2004                      2835600000.00\n",
       "2005                      2747800000.00\n",
       "2006                      2920500000.00\n",
       "2007                      3473000000.00"
      ]
     },
     "execution_count": 87,
     "metadata": {},
     "output_type": "execute_result"
    }
   ],
   "source": [
    "#Drop all columns unrelated to total dollar amount of fire damages. \n",
    "nonres_fire_losses = nonres_fire_losses[[\"Years\", \"Total Nonresidential Dollar Loss*\"]]\n",
    "\n",
    "#Set Index equal to 'Years'.\n",
    "nonres_fire_losses.set_index(\"Years\", inplace = True)\n",
    "\n",
    "#Drop all '$' and ','.\n",
    "nonres_fire_losses[\"Total Nonresidential Dollar Loss*\"] = nonres_fire_losses[\n",
    "    \"Total Nonresidential Dollar Loss*\"].str.replace('$','')\n",
    "nonres_fire_losses[\"Total Nonresidential Dollar Loss*\"] = nonres_fire_losses[\n",
    "    \"Total Nonresidential Dollar Loss*\"].str.replace(',','')\n",
    "nonres_fire_losses.head()"
   ]
  },
  {
   "cell_type": "code",
   "execution_count": 88,
   "metadata": {},
   "outputs": [
    {
     "data": {
      "text/html": [
       "<div>\n",
       "<style scoped>\n",
       "    .dataframe tbody tr th:only-of-type {\n",
       "        vertical-align: middle;\n",
       "    }\n",
       "\n",
       "    .dataframe tbody tr th {\n",
       "        vertical-align: top;\n",
       "    }\n",
       "\n",
       "    .dataframe thead th {\n",
       "        text-align: right;\n",
       "    }\n",
       "</style>\n",
       "<table border=\"1\" class=\"dataframe\">\n",
       "  <thead>\n",
       "    <tr style=\"text-align: right;\">\n",
       "      <th></th>\n",
       "      <th>Years</th>\n",
       "      <th>Intentional</th>\n",
       "      <th>Playing with Heat Source</th>\n",
       "      <th>Smoking</th>\n",
       "      <th>Heating</th>\n",
       "      <th>Cooking</th>\n",
       "      <th>Electrical Malfunction</th>\n",
       "      <th>Appliances</th>\n",
       "      <th>Open Flame</th>\n",
       "      <th>Other Heat</th>\n",
       "      <th>Other Equipment</th>\n",
       "      <th>Natural</th>\n",
       "      <th>Exposure</th>\n",
       "      <th>Equipment Malfunction</th>\n",
       "      <th>Other Unintentional, Careless</th>\n",
       "      <th>Cause Under Investigation</th>\n",
       "      <th>Total Residential*</th>\n",
       "      <th>Unnamed: 17</th>\n",
       "      <th>Unnamed: 18</th>\n",
       "    </tr>\n",
       "  </thead>\n",
       "  <tbody>\n",
       "    <tr>\n",
       "      <th>0</th>\n",
       "      <td>2003</td>\n",
       "      <td>705,400,000</td>\n",
       "      <td>167,000,000</td>\n",
       "      <td>337,100,000</td>\n",
       "      <td>461,200,000</td>\n",
       "      <td>351,500,000</td>\n",
       "      <td>1,200,100,000</td>\n",
       "      <td>304,100,000</td>\n",
       "      <td>910,000,000</td>\n",
       "      <td>691,300,000</td>\n",
       "      <td>133,400,000</td>\n",
       "      <td>435,900,000</td>\n",
       "      <td>272,100,000</td>\n",
       "      <td>503,200,000</td>\n",
       "      <td>1,057,000,000</td>\n",
       "      <td>233,600,000</td>\n",
       "      <td>7,762,800,000</td>\n",
       "      <td>NaN</td>\n",
       "      <td>NaN</td>\n",
       "    </tr>\n",
       "    <tr>\n",
       "      <th>1</th>\n",
       "      <td>2004</td>\n",
       "      <td>664,100,000</td>\n",
       "      <td>143,300,000</td>\n",
       "      <td>348,300,000</td>\n",
       "      <td>383,700,000</td>\n",
       "      <td>297,100,000</td>\n",
       "      <td>1,201,700,000</td>\n",
       "      <td>246,200,000</td>\n",
       "      <td>942,400,000</td>\n",
       "      <td>590,800,000</td>\n",
       "      <td>143,800,000</td>\n",
       "      <td>522,900,000</td>\n",
       "      <td>279,200,000</td>\n",
       "      <td>435,200,000</td>\n",
       "      <td>1,032,900,000</td>\n",
       "      <td>272,100,000</td>\n",
       "      <td>7,503,500,000</td>\n",
       "      <td>NaN</td>\n",
       "      <td>NaN</td>\n",
       "    </tr>\n",
       "    <tr>\n",
       "      <th>2</th>\n",
       "      <td>2005</td>\n",
       "      <td>727,100,000</td>\n",
       "      <td>162,800,000</td>\n",
       "      <td>392,600,000</td>\n",
       "      <td>379,800,000</td>\n",
       "      <td>343,500,000</td>\n",
       "      <td>1,450,000,000</td>\n",
       "      <td>263,100,000</td>\n",
       "      <td>1,051,900,000</td>\n",
       "      <td>664,400,000</td>\n",
       "      <td>167,500,000</td>\n",
       "      <td>454,100,000</td>\n",
       "      <td>303,300,000</td>\n",
       "      <td>513,300,000</td>\n",
       "      <td>1,061,900,000</td>\n",
       "      <td>418,000,000</td>\n",
       "      <td>8,353,200,000</td>\n",
       "      <td>NaN</td>\n",
       "      <td>NaN</td>\n",
       "    </tr>\n",
       "    <tr>\n",
       "      <th>3</th>\n",
       "      <td>2006</td>\n",
       "      <td>667,100,000</td>\n",
       "      <td>141,200,000</td>\n",
       "      <td>402,100,000</td>\n",
       "      <td>390,500,000</td>\n",
       "      <td>300,600,000</td>\n",
       "      <td>1,270,700,000</td>\n",
       "      <td>290,700,000</td>\n",
       "      <td>894,000,000</td>\n",
       "      <td>1,026,400,000</td>\n",
       "      <td>125,700,000</td>\n",
       "      <td>520,500,000</td>\n",
       "      <td>289,000,000</td>\n",
       "      <td>467,800,000</td>\n",
       "      <td>1,115,900,000</td>\n",
       "      <td>375,300,000</td>\n",
       "      <td>8,277,500,000</td>\n",
       "      <td>NaN</td>\n",
       "      <td>NaN</td>\n",
       "    </tr>\n",
       "    <tr>\n",
       "      <th>4</th>\n",
       "      <td>2007</td>\n",
       "      <td>584,500,000</td>\n",
       "      <td>113,000,000</td>\n",
       "      <td>320,500,000</td>\n",
       "      <td>314,000,000</td>\n",
       "      <td>277,200,000</td>\n",
       "      <td>1,229,300,000</td>\n",
       "      <td>240,400,000</td>\n",
       "      <td>798,800,000</td>\n",
       "      <td>503,800,000</td>\n",
       "      <td>146,600,000</td>\n",
       "      <td>438,100,000</td>\n",
       "      <td>1,914,500,000</td>\n",
       "      <td>408,300,000</td>\n",
       "      <td>1,047,700,000</td>\n",
       "      <td>331,200,000</td>\n",
       "      <td>8,667,900,000</td>\n",
       "      <td>NaN</td>\n",
       "      <td>NaN</td>\n",
       "    </tr>\n",
       "  </tbody>\n",
       "</table>\n",
       "</div>"
      ],
      "text/plain": [
       "   Years  Intentional Playing with Heat Source      Smoking     Heating   \\\n",
       "0   2003  705,400,000              167,000,000  337,100,000  461,200,000   \n",
       "1   2004  664,100,000              143,300,000  348,300,000  383,700,000   \n",
       "2   2005  727,100,000              162,800,000  392,600,000  379,800,000   \n",
       "3   2006  667,100,000              141,200,000  402,100,000  390,500,000   \n",
       "4   2007  584,500,000              113,000,000  320,500,000  314,000,000   \n",
       "\n",
       "       Cooking Electrical Malfunction  Appliances     Open Flame   \\\n",
       "0  351,500,000          1,200,100,000  304,100,000    910,000,000   \n",
       "1  297,100,000          1,201,700,000  246,200,000    942,400,000   \n",
       "2  343,500,000          1,450,000,000  263,100,000  1,051,900,000   \n",
       "3  300,600,000          1,270,700,000  290,700,000    894,000,000   \n",
       "4  277,200,000          1,229,300,000  240,400,000    798,800,000   \n",
       "\n",
       "      Other Heat Other Equipment      Natural       Exposure  \\\n",
       "0    691,300,000     133,400,000  435,900,000    272,100,000   \n",
       "1    590,800,000     143,800,000  522,900,000    279,200,000   \n",
       "2    664,400,000     167,500,000  454,100,000    303,300,000   \n",
       "3  1,026,400,000     125,700,000  520,500,000    289,000,000   \n",
       "4    503,800,000     146,600,000  438,100,000  1,914,500,000   \n",
       "\n",
       "  Equipment Malfunction Other Unintentional, Careless  \\\n",
       "0           503,200,000                 1,057,000,000   \n",
       "1           435,200,000                 1,032,900,000   \n",
       "2           513,300,000                 1,061,900,000   \n",
       "3           467,800,000                 1,115,900,000   \n",
       "4           408,300,000                 1,047,700,000   \n",
       "\n",
       "  Cause Under Investigation Total Residential*  Unnamed: 17  Unnamed: 18  \n",
       "0               233,600,000      7,762,800,000          NaN          NaN  \n",
       "1               272,100,000      7,503,500,000          NaN          NaN  \n",
       "2               418,000,000      8,353,200,000          NaN          NaN  \n",
       "3               375,300,000      8,277,500,000          NaN          NaN  \n",
       "4               331,200,000      8,667,900,000          NaN          NaN  "
      ]
     },
     "execution_count": 88,
     "metadata": {},
     "output_type": "execute_result"
    }
   ],
   "source": [
    "#Read CSV 'Res_Bld_Fire_Dollr_Est_by_Cause.csv' into dataframe\n",
    "res_fire_losses = pd.read_csv(res_fire_losses_csv)\n",
    "res_fire_losses.head()"
   ]
  },
  {
   "cell_type": "code",
   "execution_count": 89,
   "metadata": {},
   "outputs": [
    {
     "data": {
      "text/html": [
       "<div>\n",
       "<style scoped>\n",
       "    .dataframe tbody tr th:only-of-type {\n",
       "        vertical-align: middle;\n",
       "    }\n",
       "\n",
       "    .dataframe tbody tr th {\n",
       "        vertical-align: top;\n",
       "    }\n",
       "\n",
       "    .dataframe thead th {\n",
       "        text-align: right;\n",
       "    }\n",
       "</style>\n",
       "<table border=\"1\" class=\"dataframe\">\n",
       "  <thead>\n",
       "    <tr style=\"text-align: right;\">\n",
       "      <th></th>\n",
       "      <th>Total Residential*</th>\n",
       "    </tr>\n",
       "    <tr>\n",
       "      <th>Years</th>\n",
       "      <th></th>\n",
       "    </tr>\n",
       "  </thead>\n",
       "  <tbody>\n",
       "    <tr>\n",
       "      <th>2003</th>\n",
       "      <td>7762800000</td>\n",
       "    </tr>\n",
       "    <tr>\n",
       "      <th>2004</th>\n",
       "      <td>7503500000</td>\n",
       "    </tr>\n",
       "    <tr>\n",
       "      <th>2005</th>\n",
       "      <td>8353200000</td>\n",
       "    </tr>\n",
       "    <tr>\n",
       "      <th>2006</th>\n",
       "      <td>8277500000</td>\n",
       "    </tr>\n",
       "    <tr>\n",
       "      <th>2007</th>\n",
       "      <td>8667900000</td>\n",
       "    </tr>\n",
       "  </tbody>\n",
       "</table>\n",
       "</div>"
      ],
      "text/plain": [
       "      Total Residential*\n",
       "Years                   \n",
       "2003          7762800000\n",
       "2004          7503500000\n",
       "2005          8353200000\n",
       "2006          8277500000\n",
       "2007          8667900000"
      ]
     },
     "execution_count": 89,
     "metadata": {},
     "output_type": "execute_result"
    }
   ],
   "source": [
    "#Drop all columns unrelated to total dollar amount of fire damages.\n",
    "res_fire_losses = res_fire_losses[[\"Years\", \"Total Residential*\"]]\n",
    "\n",
    "#Set Index equal to 'Years'.\n",
    "res_fire_losses.set_index(\"Years\", inplace = True)\n",
    "\n",
    "#Drop all ','.\n",
    "res_fire_losses[\"Total Residential*\"] = res_fire_losses[\n",
    "    \"Total Residential*\"].str.replace(',','')\n",
    "res_fire_losses.head()"
   ]
  },
  {
   "cell_type": "code",
   "execution_count": 90,
   "metadata": {},
   "outputs": [
    {
     "data": {
      "text/plain": [
       "Total Nonresidential Dollar Loss*    object\n",
       "dtype: object"
      ]
     },
     "execution_count": 90,
     "metadata": {},
     "output_type": "execute_result"
    }
   ],
   "source": [
    "#Check Data types for Non-residential fire dollar losses. \n",
    "nonres_fire_losses.dtypes"
   ]
  },
  {
   "cell_type": "code",
   "execution_count": 91,
   "metadata": {},
   "outputs": [
    {
     "data": {
      "text/plain": [
       "Total Residential*    object\n",
       "dtype: object"
      ]
     },
     "execution_count": 91,
     "metadata": {},
     "output_type": "execute_result"
    }
   ],
   "source": [
    "#Check Data types Residential fire dollar losses. \n",
    "res_fire_losses.dtypes"
   ]
  },
  {
   "cell_type": "code",
   "execution_count": 92,
   "metadata": {},
   "outputs": [
    {
     "data": {
      "text/plain": [
       "dtype('float64')"
      ]
     },
     "execution_count": 92,
     "metadata": {},
     "output_type": "execute_result"
    }
   ],
   "source": [
    "#Convert to float \n",
    "nonres_fire_losses['Total Nonresidential Dollar Loss*'] = nonres_fire_losses[\n",
    "    'Total Nonresidential Dollar Loss*'].astype('float')\n",
    "nonres_fire_losses['Total Nonresidential Dollar Loss*'].dtype"
   ]
  },
  {
   "cell_type": "code",
   "execution_count": 93,
   "metadata": {},
   "outputs": [
    {
     "data": {
      "text/plain": [
       "dtype('float64')"
      ]
     },
     "execution_count": 93,
     "metadata": {},
     "output_type": "execute_result"
    }
   ],
   "source": [
    "#Convert to float\n",
    "res_fire_losses[\"Total Residential*\"] = res_fire_losses[\n",
    "    \"Total Residential*\"].astype('float')\n",
    "res_fire_losses[\"Total Residential*\"].dtype"
   ]
  },
  {
   "cell_type": "markdown",
   "metadata": {},
   "source": [
    "# Plot individual and combined dataframes "
   ]
  },
  {
   "cell_type": "code",
   "execution_count": 94,
   "metadata": {},
   "outputs": [],
   "source": [
    "#Plot total dollar losses for fires over the past 15 years both Residential and Nonresidential.\n",
    "res_fire_losses_plot = res_fire_losses.hvplot(title = \"Residential Total Fire Dollar Losses\")\n",
    "nonres_fire_losses_plot = nonres_fire_losses.hvplot(title = \"Nonresidential Total Fire Dollar Losses\")"
   ]
  },
  {
   "cell_type": "code",
   "execution_count": 95,
   "metadata": {},
   "outputs": [
    {
     "data": {
      "text/html": [
       "<div>\n",
       "<style scoped>\n",
       "    .dataframe tbody tr th:only-of-type {\n",
       "        vertical-align: middle;\n",
       "    }\n",
       "\n",
       "    .dataframe tbody tr th {\n",
       "        vertical-align: top;\n",
       "    }\n",
       "\n",
       "    .dataframe thead th {\n",
       "        text-align: right;\n",
       "    }\n",
       "</style>\n",
       "<table border=\"1\" class=\"dataframe\">\n",
       "  <thead>\n",
       "    <tr style=\"text-align: right;\">\n",
       "      <th></th>\n",
       "      <th>Total Nonresidential Dollar Loss*</th>\n",
       "      <th>Total Residential*</th>\n",
       "    </tr>\n",
       "    <tr>\n",
       "      <th>Years</th>\n",
       "      <th></th>\n",
       "      <th></th>\n",
       "    </tr>\n",
       "  </thead>\n",
       "  <tbody>\n",
       "    <tr>\n",
       "      <th>2014</th>\n",
       "      <td>2.732400e+09</td>\n",
       "      <td>7.319200e+09</td>\n",
       "    </tr>\n",
       "    <tr>\n",
       "      <th>2015</th>\n",
       "      <td>2.851100e+09</td>\n",
       "      <td>7.521300e+09</td>\n",
       "    </tr>\n",
       "    <tr>\n",
       "      <th>2016</th>\n",
       "      <td>2.979500e+09</td>\n",
       "      <td>7.660200e+09</td>\n",
       "    </tr>\n",
       "    <tr>\n",
       "      <th>2017</th>\n",
       "      <td>2.785800e+09</td>\n",
       "      <td>7.987400e+09</td>\n",
       "    </tr>\n",
       "    <tr>\n",
       "      <th>2018</th>\n",
       "      <td>2.656600e+09</td>\n",
       "      <td>8.194500e+09</td>\n",
       "    </tr>\n",
       "  </tbody>\n",
       "</table>\n",
       "</div>"
      ],
      "text/plain": [
       "       Total Nonresidential Dollar Loss*  Total Residential*\n",
       "Years                                                       \n",
       "2014                        2.732400e+09        7.319200e+09\n",
       "2015                        2.851100e+09        7.521300e+09\n",
       "2016                        2.979500e+09        7.660200e+09\n",
       "2017                        2.785800e+09        7.987400e+09\n",
       "2018                        2.656600e+09        8.194500e+09"
      ]
     },
     "execution_count": 95,
     "metadata": {},
     "output_type": "execute_result"
    }
   ],
   "source": [
    "## Combine Nonresidential and Residential Total Dollar Losses into one dataframe.\n",
    "all_fire_losses = pd.concat([nonres_fire_losses, res_fire_losses], axis='columns', join='inner')\n",
    "all_fire_losses.sort_index(axis=0, ascending=True, inplace=True)\n",
    "all_fire_losses.tail()"
   ]
  },
  {
   "cell_type": "code",
   "execution_count": 96,
   "metadata": {},
   "outputs": [
    {
     "data": {},
     "metadata": {},
     "output_type": "display_data"
    },
    {
     "data": {
      "application/vnd.holoviews_exec.v0+json": "",
      "text/html": [
       "<div id='3871'>\n",
       "\n",
       "\n",
       "\n",
       "\n",
       "\n",
       "  <div class=\"bk-root\" id=\"89849b29-5c06-4536-8fd7-99c3d60096f4\" data-root-id=\"3871\"></div>\n",
       "</div>\n",
       "<script type=\"application/javascript\">(function(root) {\n",
       "  function embed_document(root) {\n",
       "  var docs_json = {\"31eae407-c489-458a-b6bb-bdcc82cce8b8\":{\"roots\":{\"references\":[{\"attributes\":{},\"id\":\"3894\",\"type\":\"SaveTool\"},{\"attributes\":{\"bottom_units\":\"screen\",\"fill_alpha\":0.5,\"fill_color\":\"lightgrey\",\"left_units\":\"screen\",\"level\":\"overlay\",\"line_alpha\":1.0,\"line_color\":\"black\",\"line_dash\":[4,4],\"line_width\":2,\"render_mode\":\"css\",\"right_units\":\"screen\",\"top_units\":\"screen\"},\"id\":\"3899\",\"type\":\"BoxAnnotation\"},{\"attributes\":{\"margin\":[5,5,5,5],\"name\":\"HSpacer08883\",\"sizing_mode\":\"stretch_width\"},\"id\":\"3872\",\"type\":\"Spacer\"},{\"attributes\":{\"callback\":null,\"renderers\":[{\"id\":\"3917\"},{\"id\":\"3933\"}],\"tags\":[\"hv_created\"],\"tooltips\":[[\"Variable\",\"@{Variable}\"],[\"Years\",\"@{Years}\"],[\"value\",\"@{value}\"]]},\"id\":\"3875\",\"type\":\"HoverTool\"},{\"attributes\":{\"end\":2018.0,\"reset_end\":2018.0,\"reset_start\":2003.0,\"start\":2003.0,\"tags\":[[[\"Years\",\"Years\",null]]]},\"id\":\"3873\",\"type\":\"Range1d\"},{\"attributes\":{\"overlay\":{\"id\":\"3899\"}},\"id\":\"3897\",\"type\":\"BoxZoomTool\"},{\"attributes\":{\"label\":{\"value\":\"Total Nonresidential Dollar Loss*\"},\"renderers\":[{\"id\":\"3917\"}]},\"id\":\"3926\",\"type\":\"LegendItem\"},{\"attributes\":{\"axis\":{\"id\":\"3886\"},\"grid_line_color\":null,\"ticker\":null},\"id\":\"3889\",\"type\":\"Grid\"},{\"attributes\":{},\"id\":\"3887\",\"type\":\"BasicTicker\"},{\"attributes\":{\"line_color\":\"#ff7e0e\",\"line_width\":2,\"x\":{\"field\":\"Years\"},\"y\":{\"field\":\"value\"}},\"id\":\"3930\",\"type\":\"Line\"},{\"attributes\":{},\"id\":\"3896\",\"type\":\"WheelZoomTool\"},{\"attributes\":{\"children\":[{\"id\":\"3872\"},{\"id\":\"3877\"},{\"id\":\"4024\"}],\"margin\":[0,0,0,0],\"name\":\"Row08879\",\"tags\":[\"embedded\"]},\"id\":\"3871\",\"type\":\"Row\"},{\"attributes\":{\"click_policy\":\"mute\",\"items\":[{\"id\":\"3926\"},{\"id\":\"3943\"}],\"location\":[0,0],\"title\":\"Variable\"},\"id\":\"3925\",\"type\":\"Legend\"},{\"attributes\":{\"line_alpha\":0.2,\"line_color\":\"#ff7e0e\",\"line_width\":2,\"x\":{\"field\":\"Years\"},\"y\":{\"field\":\"value\"}},\"id\":\"3932\",\"type\":\"Line\"},{\"attributes\":{},\"id\":\"3891\",\"type\":\"BasicTicker\"},{\"attributes\":{\"active_drag\":\"auto\",\"active_inspect\":\"auto\",\"active_multi\":null,\"active_scroll\":\"auto\",\"active_tap\":\"auto\",\"tools\":[{\"id\":\"3875\"},{\"id\":\"3894\"},{\"id\":\"3895\"},{\"id\":\"3896\"},{\"id\":\"3897\"},{\"id\":\"3898\"}]},\"id\":\"3900\",\"type\":\"Toolbar\"},{\"attributes\":{\"line_alpha\":0.1,\"line_color\":\"#ff7e0e\",\"line_width\":2,\"x\":{\"field\":\"Years\"},\"y\":{\"field\":\"value\"}},\"id\":\"3931\",\"type\":\"Line\"},{\"attributes\":{\"label\":{\"value\":\"Total Residential*\"},\"renderers\":[{\"id\":\"3933\"}]},\"id\":\"3943\",\"type\":\"LegendItem\"},{\"attributes\":{},\"id\":\"3928\",\"type\":\"Selection\"},{\"attributes\":{\"source\":{\"id\":\"3911\"}},\"id\":\"3918\",\"type\":\"CDSView\"},{\"attributes\":{\"end\":10025730000.0,\"reset_end\":10025730000.0,\"reset_start\":1982970000.0,\"start\":1982970000.0,\"tags\":[[[\"value\",\"value\",null]]]},\"id\":\"3874\",\"type\":\"Range1d\"},{\"attributes\":{\"data_source\":{\"id\":\"3927\"},\"glyph\":{\"id\":\"3930\"},\"hover_glyph\":null,\"muted_glyph\":{\"id\":\"3932\"},\"nonselection_glyph\":{\"id\":\"3931\"},\"selection_glyph\":null,\"view\":{\"id\":\"3934\"}},\"id\":\"3933\",\"type\":\"GlyphRenderer\"},{\"attributes\":{\"source\":{\"id\":\"3927\"}},\"id\":\"3934\",\"type\":\"CDSView\"},{\"attributes\":{\"data\":{\"Variable\":[\"Total Nonresidential Dollar Loss*\",\"Total Nonresidential Dollar Loss*\",\"Total Nonresidential Dollar Loss*\",\"Total Nonresidential Dollar Loss*\",\"Total Nonresidential Dollar Loss*\",\"Total Nonresidential Dollar Loss*\",\"Total Nonresidential Dollar Loss*\",\"Total Nonresidential Dollar Loss*\",\"Total Nonresidential Dollar Loss*\",\"Total Nonresidential Dollar Loss*\",\"Total Nonresidential Dollar Loss*\",\"Total Nonresidential Dollar Loss*\",\"Total Nonresidential Dollar Loss*\",\"Total Nonresidential Dollar Loss*\",\"Total Nonresidential Dollar Loss*\",\"Total Nonresidential Dollar Loss*\"],\"Years\":[2003,2004,2005,2006,2007,2008,2009,2010,2011,2012,2013,2014,2015,2016,2017,2018],\"value\":{\"__ndarray__\":\"AAAAkDkk50EAAABQeiDlQQAAADgDeeRBAAAAZGnC5UEAAADIOODpQQAAAMyO/+1BAAAAnIsQ6EEAAABYDpnkQQAAALgUQuRBAAAAFJwi5EEAAADQk8TjQQAAALCjW+RBAAAArAo+5UEAAAD88TLmQQAAAOh9weRBAAAA+A/L40E=\",\"dtype\":\"float64\",\"shape\":[16]}},\"selected\":{\"id\":\"3912\"},\"selection_policy\":{\"id\":\"3942\"}},\"id\":\"3911\",\"type\":\"ColumnDataSource\"},{\"attributes\":{\"data\":{\"Variable\":[\"Total Residential*\",\"Total Residential*\",\"Total Residential*\",\"Total Residential*\",\"Total Residential*\",\"Total Residential*\",\"Total Residential*\",\"Total Residential*\",\"Total Residential*\",\"Total Residential*\",\"Total Residential*\",\"Total Residential*\",\"Total Residential*\",\"Total Residential*\",\"Total Residential*\",\"Total Residential*\"],\"Years\":[2003,2004,2005,2006,2007,2008,2009,2010,2011,2012,2013,2014,2015,2016,2017,2018],\"value\":{\"__ndarray__\":\"AAAA2C7r/EEAAAAu5fP7QQAAAHg7Hv9BAAAABgrW/kEAAABDLSUAQgAAAM8MbQFCAAAAIqin/0EAAAAAzoP8QQAAAI4gqftBAAAAcp7w/EEAAAA+KJz7QQAAABAiRPtBAAAA4t4E/EEAAAAEVon8QQAAANRgwf1BAAAAWuKG/kE=\",\"dtype\":\"float64\",\"shape\":[16]}},\"selected\":{\"id\":\"3928\"},\"selection_policy\":{\"id\":\"3953\"}},\"id\":\"3927\",\"type\":\"ColumnDataSource\"},{\"attributes\":{\"axis_label\":\"Years\",\"bounds\":\"auto\",\"formatter\":{\"id\":\"3907\"},\"major_label_orientation\":\"horizontal\",\"ticker\":{\"id\":\"3887\"}},\"id\":\"3886\",\"type\":\"LinearAxis\"},{\"attributes\":{\"text\":\"Nonresidential and Residential Total Fire Dollar Losses\",\"text_color\":{\"value\":\"black\"},\"text_font_size\":{\"value\":\"12pt\"}},\"id\":\"3878\",\"type\":\"Title\"},{\"attributes\":{},\"id\":\"3942\",\"type\":\"UnionRenderers\"},{\"attributes\":{},\"id\":\"3953\",\"type\":\"UnionRenderers\"},{\"attributes\":{\"axis\":{\"id\":\"3890\"},\"dimension\":1,\"grid_line_color\":null,\"ticker\":null},\"id\":\"3893\",\"type\":\"Grid\"},{\"attributes\":{\"line_color\":\"#1f77b3\",\"line_width\":2,\"x\":{\"field\":\"Years\"},\"y\":{\"field\":\"value\"}},\"id\":\"3914\",\"type\":\"Line\"},{\"attributes\":{\"data_source\":{\"id\":\"3911\"},\"glyph\":{\"id\":\"3914\"},\"hover_glyph\":null,\"muted_glyph\":{\"id\":\"3916\"},\"nonselection_glyph\":{\"id\":\"3915\"},\"selection_glyph\":null,\"view\":{\"id\":\"3918\"}},\"id\":\"3917\",\"type\":\"GlyphRenderer\"},{\"attributes\":{\"align\":null,\"below\":[{\"id\":\"3886\"}],\"center\":[{\"id\":\"3889\"},{\"id\":\"3893\"}],\"left\":[{\"id\":\"3890\"}],\"margin\":null,\"min_border_bottom\":10,\"min_border_left\":10,\"min_border_right\":10,\"min_border_top\":10,\"plot_height\":300,\"plot_width\":700,\"renderers\":[{\"id\":\"3917\"},{\"id\":\"3933\"}],\"right\":[{\"id\":\"3925\"}],\"sizing_mode\":\"fixed\",\"title\":{\"id\":\"3878\"},\"toolbar\":{\"id\":\"3900\"},\"x_range\":{\"id\":\"3873\"},\"x_scale\":{\"id\":\"3882\"},\"y_range\":{\"id\":\"3874\"},\"y_scale\":{\"id\":\"3884\"}},\"id\":\"3877\",\"subtype\":\"Figure\",\"type\":\"Plot\"},{\"attributes\":{},\"id\":\"3882\",\"type\":\"LinearScale\"},{\"attributes\":{},\"id\":\"3895\",\"type\":\"PanTool\"},{\"attributes\":{\"margin\":[5,5,5,5],\"name\":\"HSpacer08884\",\"sizing_mode\":\"stretch_width\"},\"id\":\"4024\",\"type\":\"Spacer\"},{\"attributes\":{},\"id\":\"3909\",\"type\":\"BasicTickFormatter\"},{\"attributes\":{\"axis_label\":\"\",\"bounds\":\"auto\",\"formatter\":{\"id\":\"3909\"},\"major_label_orientation\":\"horizontal\",\"ticker\":{\"id\":\"3891\"}},\"id\":\"3890\",\"type\":\"LinearAxis\"},{\"attributes\":{},\"id\":\"3898\",\"type\":\"ResetTool\"},{\"attributes\":{\"line_alpha\":0.1,\"line_color\":\"#1f77b3\",\"line_width\":2,\"x\":{\"field\":\"Years\"},\"y\":{\"field\":\"value\"}},\"id\":\"3915\",\"type\":\"Line\"},{\"attributes\":{\"line_alpha\":0.2,\"line_color\":\"#1f77b3\",\"line_width\":2,\"x\":{\"field\":\"Years\"},\"y\":{\"field\":\"value\"}},\"id\":\"3916\",\"type\":\"Line\"},{\"attributes\":{},\"id\":\"3912\",\"type\":\"Selection\"},{\"attributes\":{},\"id\":\"3907\",\"type\":\"BasicTickFormatter\"},{\"attributes\":{},\"id\":\"3884\",\"type\":\"LinearScale\"}],\"root_ids\":[\"3871\"]},\"title\":\"Bokeh Application\",\"version\":\"2.0.2\"}};\n",
       "  var render_items = [{\"docid\":\"31eae407-c489-458a-b6bb-bdcc82cce8b8\",\"root_ids\":[\"3871\"],\"roots\":{\"3871\":\"89849b29-5c06-4536-8fd7-99c3d60096f4\"}}];\n",
       "  root.Bokeh.embed.embed_items_notebook(docs_json, render_items);\n",
       "  }\n",
       "if (root.Bokeh !== undefined) {\n",
       "    embed_document(root);\n",
       "  } else {\n",
       "    var attempts = 0;\n",
       "    var timer = setInterval(function(root) {\n",
       "      if (root.Bokeh !== undefined) {\n",
       "        clearInterval(timer);\n",
       "        embed_document(root);\n",
       "      } else if (document.readyState == \"complete\") {\n",
       "        attempts++;\n",
       "        if (attempts > 100) {\n",
       "          clearInterval(timer);\n",
       "          console.log(\"Bokeh: ERROR: Unable to run BokehJS code because BokehJS library is missing\");\n",
       "        }\n",
       "      }\n",
       "    }, 10, root)\n",
       "  }\n",
       "})(window);</script>"
      ],
      "text/plain": [
       ":NdOverlay   [Variable]\n",
       "   :Curve   [Years]   (value)"
      ]
     },
     "execution_count": 96,
     "metadata": {
      "application/vnd.holoviews_exec.v0+json": {
       "id": "3871"
      }
     },
     "output_type": "execute_result"
    }
   ],
   "source": [
    "#Use hvplot to plot Nonresidential and Residential dollar losses.\n",
    "all_fire_losses_plot = all_fire_losses.hvplot(title = \"Nonresidential and Residential Total Fire Dollar Losses\")\n",
    "all_fire_losses_plot"
   ]
  },
  {
   "cell_type": "markdown",
   "metadata": {},
   "source": [
    "## Data Cleaning\n",
    "\n",
    "We will read, clean and combine the following CSV files for further analysis:\n",
    "1. Nonres_Bldg_Fire_Est_by_Cause.csv\n",
    "2. Res_Bldg_Fire_Est_by_Cause.csv"
   ]
  },
  {
   "cell_type": "code",
   "execution_count": 97,
   "metadata": {},
   "outputs": [],
   "source": [
    "#Set Path using pathlib\n",
    "nonres_fire_est_csv = Path(\n",
    "    \"fire_loss_estimates/Nonres_Bldg_Fire_Est_by_Cause.csv\")\n",
    "res_fire_est_csv = Path(\n",
    "    \"fire_loss_estimates/Res_Bldg_Fire_Est_by_Cause.csv\")"
   ]
  },
  {
   "cell_type": "code",
   "execution_count": 98,
   "metadata": {},
   "outputs": [
    {
     "data": {
      "text/html": [
       "<div>\n",
       "<style scoped>\n",
       "    .dataframe tbody tr th:only-of-type {\n",
       "        vertical-align: middle;\n",
       "    }\n",
       "\n",
       "    .dataframe tbody tr th {\n",
       "        vertical-align: top;\n",
       "    }\n",
       "\n",
       "    .dataframe thead th {\n",
       "        text-align: right;\n",
       "    }\n",
       "</style>\n",
       "<table border=\"1\" class=\"dataframe\">\n",
       "  <thead>\n",
       "    <tr style=\"text-align: right;\">\n",
       "      <th></th>\n",
       "      <th>Years</th>\n",
       "      <th>Intentional</th>\n",
       "      <th>Playing with Heat Source</th>\n",
       "      <th>Smoking</th>\n",
       "      <th>Heating</th>\n",
       "      <th>Cooking</th>\n",
       "      <th>Electrical Malfunction</th>\n",
       "      <th>Appliances</th>\n",
       "      <th>Open Flame</th>\n",
       "      <th>Other Heat</th>\n",
       "      <th>Other Equipment</th>\n",
       "      <th>Natural</th>\n",
       "      <th>Exposure</th>\n",
       "      <th>Equipment Malfunction</th>\n",
       "      <th>Other Unintentional, Careless</th>\n",
       "      <th>Cause Under Investigation</th>\n",
       "      <th>Total Nonresidential*</th>\n",
       "      <th>Unnamed: 17</th>\n",
       "      <th>Unnamed: 18</th>\n",
       "      <th>Unnamed: 19</th>\n",
       "    </tr>\n",
       "  </thead>\n",
       "  <tbody>\n",
       "    <tr>\n",
       "      <th>0</th>\n",
       "      <td>2003</td>\n",
       "      <td>11,300</td>\n",
       "      <td>600</td>\n",
       "      <td>2,400</td>\n",
       "      <td>10,100</td>\n",
       "      <td>23,900</td>\n",
       "      <td>10,100</td>\n",
       "      <td>2,700</td>\n",
       "      <td>7,500</td>\n",
       "      <td>7,500</td>\n",
       "      <td>4,300</td>\n",
       "      <td>3,800</td>\n",
       "      <td>4,700</td>\n",
       "      <td>6,000</td>\n",
       "      <td>7,500</td>\n",
       "      <td>900</td>\n",
       "      <td>103,200</td>\n",
       "      <td>NaN</td>\n",
       "      <td>NaN</td>\n",
       "      <td>NaN</td>\n",
       "    </tr>\n",
       "    <tr>\n",
       "      <th>1</th>\n",
       "      <td>2004</td>\n",
       "      <td>10,900</td>\n",
       "      <td>500</td>\n",
       "      <td>2,100</td>\n",
       "      <td>9,400</td>\n",
       "      <td>25,600</td>\n",
       "      <td>9,800</td>\n",
       "      <td>2,700</td>\n",
       "      <td>7,300</td>\n",
       "      <td>7,300</td>\n",
       "      <td>4,600</td>\n",
       "      <td>3,500</td>\n",
       "      <td>4,100</td>\n",
       "      <td>5,700</td>\n",
       "      <td>7,300</td>\n",
       "      <td>900</td>\n",
       "      <td>101,900</td>\n",
       "      <td>NaN</td>\n",
       "      <td>NaN</td>\n",
       "      <td>NaN</td>\n",
       "    </tr>\n",
       "    <tr>\n",
       "      <th>2</th>\n",
       "      <td>2005</td>\n",
       "      <td>11,800</td>\n",
       "      <td>500</td>\n",
       "      <td>2,800</td>\n",
       "      <td>8,200</td>\n",
       "      <td>25,200</td>\n",
       "      <td>10,000</td>\n",
       "      <td>2,800</td>\n",
       "      <td>7,000</td>\n",
       "      <td>7,100</td>\n",
       "      <td>4,200</td>\n",
       "      <td>3,500</td>\n",
       "      <td>4,300</td>\n",
       "      <td>5,300</td>\n",
       "      <td>7,400</td>\n",
       "      <td>1,100</td>\n",
       "      <td>101,400</td>\n",
       "      <td>NaN</td>\n",
       "      <td>NaN</td>\n",
       "      <td>NaN</td>\n",
       "    </tr>\n",
       "    <tr>\n",
       "      <th>3</th>\n",
       "      <td>2006</td>\n",
       "      <td>10,800</td>\n",
       "      <td>600</td>\n",
       "      <td>2,700</td>\n",
       "      <td>7,500</td>\n",
       "      <td>26,000</td>\n",
       "      <td>9,400</td>\n",
       "      <td>2,700</td>\n",
       "      <td>6,500</td>\n",
       "      <td>6,300</td>\n",
       "      <td>4,000</td>\n",
       "      <td>3,900</td>\n",
       "      <td>4,800</td>\n",
       "      <td>5,000</td>\n",
       "      <td>7,500</td>\n",
       "      <td>1,100</td>\n",
       "      <td>98,900</td>\n",
       "      <td>NaN</td>\n",
       "      <td>NaN</td>\n",
       "      <td>NaN</td>\n",
       "    </tr>\n",
       "    <tr>\n",
       "      <th>4</th>\n",
       "      <td>2007</td>\n",
       "      <td>11,400</td>\n",
       "      <td>500</td>\n",
       "      <td>2,600</td>\n",
       "      <td>8,500</td>\n",
       "      <td>26,400</td>\n",
       "      <td>9,700</td>\n",
       "      <td>2,900</td>\n",
       "      <td>6,500</td>\n",
       "      <td>6,100</td>\n",
       "      <td>4,400</td>\n",
       "      <td>3,900</td>\n",
       "      <td>4,900</td>\n",
       "      <td>5,100</td>\n",
       "      <td>8,800</td>\n",
       "      <td>1,200</td>\n",
       "      <td>103,000</td>\n",
       "      <td>NaN</td>\n",
       "      <td>NaN</td>\n",
       "      <td>NaN</td>\n",
       "    </tr>\n",
       "  </tbody>\n",
       "</table>\n",
       "</div>"
      ],
      "text/plain": [
       "   Years Intentional  Playing with Heat Source Smoking Heating  Cooking  \\\n",
       "0   2003      11,300                       600   2,400   10,100  23,900   \n",
       "1   2004      10,900                       500   2,100    9,400  25,600   \n",
       "2   2005      11,800                       500   2,800    8,200  25,200   \n",
       "3   2006      10,800                       600   2,700    7,500  26,000   \n",
       "4   2007      11,400                       500   2,600    8,500  26,400   \n",
       "\n",
       "  Electrical Malfunction Appliances  Open Flame  Other Heat Other Equipment  \\\n",
       "0                 10,100       2,700       7,500      7,500           4,300   \n",
       "1                  9,800       2,700       7,300      7,300           4,600   \n",
       "2                 10,000       2,800       7,000      7,100           4,200   \n",
       "3                  9,400       2,700       6,500      6,300           4,000   \n",
       "4                  9,700       2,900       6,500      6,100           4,400   \n",
       "\n",
       "  Natural Exposure Equipment Malfunction Other Unintentional, Careless  \\\n",
       "0   3,800    4,700                 6,000                         7,500   \n",
       "1   3,500    4,100                 5,700                         7,300   \n",
       "2   3,500    4,300                 5,300                         7,400   \n",
       "3   3,900    4,800                 5,000                         7,500   \n",
       "4   3,900    4,900                 5,100                         8,800   \n",
       "\n",
       "  Cause Under Investigation Total Nonresidential*  Unnamed: 17  Unnamed: 18  \\\n",
       "0                       900               103,200          NaN          NaN   \n",
       "1                       900               101,900          NaN          NaN   \n",
       "2                     1,100               101,400          NaN          NaN   \n",
       "3                     1,100                98,900          NaN          NaN   \n",
       "4                     1,200               103,000          NaN          NaN   \n",
       "\n",
       "   Unnamed: 19  \n",
       "0          NaN  \n",
       "1          NaN  \n",
       "2          NaN  \n",
       "3          NaN  \n",
       "4          NaN  "
      ]
     },
     "execution_count": 98,
     "metadata": {},
     "output_type": "execute_result"
    }
   ],
   "source": [
    "#Read CSV 'Nonres_Bldg_Fire_Est_by_Cause.csv' into dataframe\n",
    "nonres_fire_est = pd.read_csv(nonres_fire_est_csv)\n",
    "nonres_fire_est.head()"
   ]
  },
  {
   "cell_type": "code",
   "execution_count": 99,
   "metadata": {},
   "outputs": [
    {
     "data": {
      "text/html": [
       "<div>\n",
       "<style scoped>\n",
       "    .dataframe tbody tr th:only-of-type {\n",
       "        vertical-align: middle;\n",
       "    }\n",
       "\n",
       "    .dataframe tbody tr th {\n",
       "        vertical-align: top;\n",
       "    }\n",
       "\n",
       "    .dataframe thead th {\n",
       "        text-align: right;\n",
       "    }\n",
       "</style>\n",
       "<table border=\"1\" class=\"dataframe\">\n",
       "  <thead>\n",
       "    <tr style=\"text-align: right;\">\n",
       "      <th></th>\n",
       "      <th>Total Nonresidential*</th>\n",
       "    </tr>\n",
       "    <tr>\n",
       "      <th>Years</th>\n",
       "      <th></th>\n",
       "    </tr>\n",
       "  </thead>\n",
       "  <tbody>\n",
       "    <tr>\n",
       "      <th>2003</th>\n",
       "      <td>103200</td>\n",
       "    </tr>\n",
       "    <tr>\n",
       "      <th>2004</th>\n",
       "      <td>101900</td>\n",
       "    </tr>\n",
       "    <tr>\n",
       "      <th>2005</th>\n",
       "      <td>101400</td>\n",
       "    </tr>\n",
       "    <tr>\n",
       "      <th>2006</th>\n",
       "      <td>98900</td>\n",
       "    </tr>\n",
       "    <tr>\n",
       "      <th>2007</th>\n",
       "      <td>103000</td>\n",
       "    </tr>\n",
       "  </tbody>\n",
       "</table>\n",
       "</div>"
      ],
      "text/plain": [
       "      Total Nonresidential*\n",
       "Years                      \n",
       "2003                 103200\n",
       "2004                 101900\n",
       "2005                 101400\n",
       "2006                  98900\n",
       "2007                 103000"
      ]
     },
     "execution_count": 99,
     "metadata": {},
     "output_type": "execute_result"
    }
   ],
   "source": [
    "#Drop all columns unrelated to total fire damages. \n",
    "nonres_fire_est = nonres_fire_est[[\"Years\", \"Total Nonresidential*\"]]\n",
    "\n",
    "#Set Index equal to 'Years'.\n",
    "nonres_fire_est.set_index(\"Years\", inplace = True)\n",
    "\n",
    "#Drop all commas.\n",
    "nonres_fire_est[\"Total Nonresidential*\"] = nonres_fire_est[\n",
    "    \"Total Nonresidential*\"].str.replace(',','')\n",
    "nonres_fire_est.head()"
   ]
  },
  {
   "cell_type": "code",
   "execution_count": 100,
   "metadata": {},
   "outputs": [
    {
     "data": {
      "text/plain": [
       "Total Nonresidential*    object\n",
       "dtype: object"
      ]
     },
     "execution_count": 100,
     "metadata": {},
     "output_type": "execute_result"
    }
   ],
   "source": [
    "#Check data types\n",
    "nonres_fire_est.dtypes"
   ]
  },
  {
   "cell_type": "code",
   "execution_count": 101,
   "metadata": {},
   "outputs": [
    {
     "data": {
      "text/plain": [
       "dtype('float64')"
      ]
     },
     "execution_count": 101,
     "metadata": {},
     "output_type": "execute_result"
    }
   ],
   "source": [
    "#Convert to 'float'\n",
    "nonres_fire_est['Total Nonresidential*'] = nonres_fire_est[\n",
    "    'Total Nonresidential*'].astype('float')\n",
    "nonres_fire_est['Total Nonresidential*'].dtype"
   ]
  },
  {
   "cell_type": "code",
   "execution_count": 102,
   "metadata": {},
   "outputs": [],
   "source": [
    "#Use hvplot to plot the total amount of claims per year for nonresidential fires.\n",
    "nonres_fire_est_plot = nonres_fire_est.hvplot(title = \"Nonresidential Claims Per Year\")"
   ]
  },
  {
   "cell_type": "code",
   "execution_count": 103,
   "metadata": {},
   "outputs": [
    {
     "data": {
      "text/html": [
       "<div>\n",
       "<style scoped>\n",
       "    .dataframe tbody tr th:only-of-type {\n",
       "        vertical-align: middle;\n",
       "    }\n",
       "\n",
       "    .dataframe tbody tr th {\n",
       "        vertical-align: top;\n",
       "    }\n",
       "\n",
       "    .dataframe thead th {\n",
       "        text-align: right;\n",
       "    }\n",
       "</style>\n",
       "<table border=\"1\" class=\"dataframe\">\n",
       "  <thead>\n",
       "    <tr style=\"text-align: right;\">\n",
       "      <th></th>\n",
       "      <th>Years</th>\n",
       "      <th>Intentional</th>\n",
       "      <th>Playing with Heat Source</th>\n",
       "      <th>Smoking</th>\n",
       "      <th>Heating</th>\n",
       "      <th>Cooking</th>\n",
       "      <th>Electrical Malfunction</th>\n",
       "      <th>Appliances</th>\n",
       "      <th>Open Flame</th>\n",
       "      <th>Other Heat</th>\n",
       "      <th>Other Equipment</th>\n",
       "      <th>Natural</th>\n",
       "      <th>Exposure</th>\n",
       "      <th>Equipment Malfunction</th>\n",
       "      <th>Other Unintentional, Careless</th>\n",
       "      <th>Cause Under Investigation</th>\n",
       "      <th>Total Residential*</th>\n",
       "    </tr>\n",
       "  </thead>\n",
       "  <tbody>\n",
       "    <tr>\n",
       "      <th>0</th>\n",
       "      <td>2003</td>\n",
       "      <td>17,400</td>\n",
       "      <td>3,500</td>\n",
       "      <td>8,900</td>\n",
       "      <td>61,100</td>\n",
       "      <td>153,000</td>\n",
       "      <td>26,400</td>\n",
       "      <td>9,200</td>\n",
       "      <td>23,700</td>\n",
       "      <td>17,900</td>\n",
       "      <td>6,000</td>\n",
       "      <td>6,700</td>\n",
       "      <td>7,000</td>\n",
       "      <td>16,100</td>\n",
       "      <td>22,000</td>\n",
       "      <td>2,200</td>\n",
       "      <td>381,200</td>\n",
       "    </tr>\n",
       "    <tr>\n",
       "      <th>1</th>\n",
       "      <td>2004</td>\n",
       "      <td>17,500</td>\n",
       "      <td>3,100</td>\n",
       "      <td>9,000</td>\n",
       "      <td>60,600</td>\n",
       "      <td>162,900</td>\n",
       "      <td>27,000</td>\n",
       "      <td>8,600</td>\n",
       "      <td>23,100</td>\n",
       "      <td>17,800</td>\n",
       "      <td>5,600</td>\n",
       "      <td>6,700</td>\n",
       "      <td>7,100</td>\n",
       "      <td>16,000</td>\n",
       "      <td>22,300</td>\n",
       "      <td>2,400</td>\n",
       "      <td>389,800</td>\n",
       "    </tr>\n",
       "    <tr>\n",
       "      <th>2</th>\n",
       "      <td>2005</td>\n",
       "      <td>18,000</td>\n",
       "      <td>2,900</td>\n",
       "      <td>8,700</td>\n",
       "      <td>54,200</td>\n",
       "      <td>155,500</td>\n",
       "      <td>28,500</td>\n",
       "      <td>8,500</td>\n",
       "      <td>22,900</td>\n",
       "      <td>17,600</td>\n",
       "      <td>5,000</td>\n",
       "      <td>6,700</td>\n",
       "      <td>7,500</td>\n",
       "      <td>15,100</td>\n",
       "      <td>22,500</td>\n",
       "      <td>2,900</td>\n",
       "      <td>376,500</td>\n",
       "    </tr>\n",
       "    <tr>\n",
       "      <th>3</th>\n",
       "      <td>2006</td>\n",
       "      <td>18,100</td>\n",
       "      <td>3,200</td>\n",
       "      <td>9,700</td>\n",
       "      <td>53,600</td>\n",
       "      <td>168,400</td>\n",
       "      <td>30,000</td>\n",
       "      <td>9,700</td>\n",
       "      <td>22,300</td>\n",
       "      <td>16,100</td>\n",
       "      <td>5,000</td>\n",
       "      <td>7,200</td>\n",
       "      <td>7,900</td>\n",
       "      <td>14,700</td>\n",
       "      <td>23,400</td>\n",
       "      <td>3,300</td>\n",
       "      <td>392,700</td>\n",
       "    </tr>\n",
       "    <tr>\n",
       "      <th>4</th>\n",
       "      <td>2007</td>\n",
       "      <td>19,000</td>\n",
       "      <td>3,100</td>\n",
       "      <td>8,900</td>\n",
       "      <td>54,400</td>\n",
       "      <td>161,700</td>\n",
       "      <td>30,600</td>\n",
       "      <td>10,200</td>\n",
       "      <td>20,900</td>\n",
       "      <td>15,400</td>\n",
       "      <td>4,600</td>\n",
       "      <td>6,900</td>\n",
       "      <td>10,300</td>\n",
       "      <td>15,200</td>\n",
       "      <td>25,400</td>\n",
       "      <td>3,800</td>\n",
       "      <td>390,300</td>\n",
       "    </tr>\n",
       "  </tbody>\n",
       "</table>\n",
       "</div>"
      ],
      "text/plain": [
       "   Years Intentional Playing with Heat Source Smoking Heating   Cooking  \\\n",
       "0   2003      17,400                    3,500   8,900   61,100  153,000   \n",
       "1   2004      17,500                    3,100   9,000   60,600  162,900   \n",
       "2   2005      18,000                    2,900   8,700   54,200  155,500   \n",
       "3   2006      18,100                    3,200   9,700   53,600  168,400   \n",
       "4   2007      19,000                    3,100   8,900   54,400  161,700   \n",
       "\n",
       "  Electrical Malfunction Appliances  Open Flame  Other Heat Other Equipment  \\\n",
       "0                 26,400       9,200      23,700     17,900           6,000   \n",
       "1                 27,000       8,600      23,100     17,800           5,600   \n",
       "2                 28,500       8,500      22,900     17,600           5,000   \n",
       "3                 30,000       9,700      22,300     16,100           5,000   \n",
       "4                 30,600      10,200      20,900     15,400           4,600   \n",
       "\n",
       "  Natural Exposure Equipment Malfunction Other Unintentional, Careless  \\\n",
       "0   6,700    7,000                16,100                        22,000   \n",
       "1   6,700    7,100                16,000                        22,300   \n",
       "2   6,700    7,500                15,100                        22,500   \n",
       "3   7,200    7,900                14,700                        23,400   \n",
       "4   6,900   10,300                15,200                        25,400   \n",
       "\n",
       "  Cause Under Investigation Total Residential*  \n",
       "0                     2,200            381,200  \n",
       "1                     2,400            389,800  \n",
       "2                     2,900            376,500  \n",
       "3                     3,300            392,700  \n",
       "4                     3,800            390,300  "
      ]
     },
     "execution_count": 103,
     "metadata": {},
     "output_type": "execute_result"
    }
   ],
   "source": [
    "#Read CSV 'Res_Bldg_Fire_Est_by_Cause.csv' into dataframe\n",
    "res_fire_est = pd.read_csv(res_fire_est_csv)\n",
    "res_fire_est.head()"
   ]
  },
  {
   "cell_type": "code",
   "execution_count": 104,
   "metadata": {},
   "outputs": [
    {
     "data": {
      "text/html": [
       "<div>\n",
       "<style scoped>\n",
       "    .dataframe tbody tr th:only-of-type {\n",
       "        vertical-align: middle;\n",
       "    }\n",
       "\n",
       "    .dataframe tbody tr th {\n",
       "        vertical-align: top;\n",
       "    }\n",
       "\n",
       "    .dataframe thead th {\n",
       "        text-align: right;\n",
       "    }\n",
       "</style>\n",
       "<table border=\"1\" class=\"dataframe\">\n",
       "  <thead>\n",
       "    <tr style=\"text-align: right;\">\n",
       "      <th></th>\n",
       "      <th>Total Residential*</th>\n",
       "    </tr>\n",
       "    <tr>\n",
       "      <th>Years</th>\n",
       "      <th></th>\n",
       "    </tr>\n",
       "  </thead>\n",
       "  <tbody>\n",
       "    <tr>\n",
       "      <th>2014</th>\n",
       "      <td>379500</td>\n",
       "    </tr>\n",
       "    <tr>\n",
       "      <th>2015</th>\n",
       "      <td>380900</td>\n",
       "    </tr>\n",
       "    <tr>\n",
       "      <th>2016</th>\n",
       "      <td>364300</td>\n",
       "    </tr>\n",
       "    <tr>\n",
       "      <th>2017</th>\n",
       "      <td>371500</td>\n",
       "    </tr>\n",
       "    <tr>\n",
       "      <th>2018</th>\n",
       "      <td>379600</td>\n",
       "    </tr>\n",
       "  </tbody>\n",
       "</table>\n",
       "</div>"
      ],
      "text/plain": [
       "      Total Residential*\n",
       "Years                   \n",
       "2014              379500\n",
       "2015              380900\n",
       "2016              364300\n",
       "2017              371500\n",
       "2018              379600"
      ]
     },
     "execution_count": 104,
     "metadata": {},
     "output_type": "execute_result"
    }
   ],
   "source": [
    "#Drop all columns unrelated to total fire damages. \n",
    "res_fire_est = res_fire_est[[\"Years\", \"Total Residential*\"]]\n",
    "\n",
    "#Set Index equal to 'Years'.\n",
    "res_fire_est.set_index(\"Years\", inplace = True)\n",
    "\n",
    "#Drop all commas.\n",
    "res_fire_est[\"Total Residential*\"] = res_fire_est[\n",
    "    \"Total Residential*\"].str.replace(',','')\n",
    "res_fire_est.tail()"
   ]
  },
  {
   "cell_type": "code",
   "execution_count": 105,
   "metadata": {},
   "outputs": [
    {
     "data": {
      "text/plain": [
       "Total Residential*    object\n",
       "dtype: object"
      ]
     },
     "execution_count": 105,
     "metadata": {},
     "output_type": "execute_result"
    }
   ],
   "source": [
    "#Check datatypes\n",
    "res_fire_est.dtypes"
   ]
  },
  {
   "cell_type": "code",
   "execution_count": 106,
   "metadata": {},
   "outputs": [
    {
     "data": {
      "text/plain": [
       "dtype('float64')"
      ]
     },
     "execution_count": 106,
     "metadata": {},
     "output_type": "execute_result"
    }
   ],
   "source": [
    "#Convert to 'float'\n",
    "res_fire_est['Total Residential*'] = res_fire_est[\n",
    "    'Total Residential*'].astype('float')\n",
    "res_fire_est['Total Residential*'].dtype"
   ]
  },
  {
   "cell_type": "code",
   "execution_count": 107,
   "metadata": {},
   "outputs": [],
   "source": [
    "#Use hvplot to plot the total amount of claims per year for residential fires.\n",
    "res_fire_est_plot = res_fire_est.hvplot(title = \"Residnetial Claims Per Year\")"
   ]
  },
  {
   "cell_type": "code",
   "execution_count": 128,
   "metadata": {},
   "outputs": [
    {
     "data": {
      "text/html": [
       "<div>\n",
       "<style scoped>\n",
       "    .dataframe tbody tr th:only-of-type {\n",
       "        vertical-align: middle;\n",
       "    }\n",
       "\n",
       "    .dataframe tbody tr th {\n",
       "        vertical-align: top;\n",
       "    }\n",
       "\n",
       "    .dataframe thead th {\n",
       "        text-align: right;\n",
       "    }\n",
       "</style>\n",
       "<table border=\"1\" class=\"dataframe\">\n",
       "  <thead>\n",
       "    <tr style=\"text-align: right;\">\n",
       "      <th></th>\n",
       "      <th>Total Nonresidential*</th>\n",
       "      <th>Total Residential*</th>\n",
       "    </tr>\n",
       "    <tr>\n",
       "      <th>Years</th>\n",
       "      <th></th>\n",
       "      <th></th>\n",
       "    </tr>\n",
       "  </thead>\n",
       "  <tbody>\n",
       "    <tr>\n",
       "      <th>2003</th>\n",
       "      <td>103200.0</td>\n",
       "      <td>381200.0</td>\n",
       "    </tr>\n",
       "    <tr>\n",
       "      <th>2004</th>\n",
       "      <td>101900.0</td>\n",
       "      <td>389800.0</td>\n",
       "    </tr>\n",
       "    <tr>\n",
       "      <th>2005</th>\n",
       "      <td>101400.0</td>\n",
       "      <td>376500.0</td>\n",
       "    </tr>\n",
       "    <tr>\n",
       "      <th>2006</th>\n",
       "      <td>98900.0</td>\n",
       "      <td>392700.0</td>\n",
       "    </tr>\n",
       "    <tr>\n",
       "      <th>2007</th>\n",
       "      <td>103000.0</td>\n",
       "      <td>390300.0</td>\n",
       "    </tr>\n",
       "  </tbody>\n",
       "</table>\n",
       "</div>"
      ],
      "text/plain": [
       "       Total Nonresidential*  Total Residential*\n",
       "Years                                           \n",
       "2003                103200.0            381200.0\n",
       "2004                101900.0            389800.0\n",
       "2005                101400.0            376500.0\n",
       "2006                 98900.0            392700.0\n",
       "2007                103000.0            390300.0"
      ]
     },
     "execution_count": 128,
     "metadata": {},
     "output_type": "execute_result"
    }
   ],
   "source": [
    "## Combine Nonresidential and Residential Total Claims into one dataframe.\n",
    "all_fire_claims = pd.concat([nonres_fire_est, res_fire_est], axis='columns', join='inner')\n",
    "all_fire_claims.sort_index(axis=0, ascending=True, inplace=True)\n",
    "all_fire_claims.head()"
   ]
  },
  {
   "cell_type": "code",
   "execution_count": 117,
   "metadata": {},
   "outputs": [
    {
     "data": {},
     "metadata": {},
     "output_type": "display_data"
    },
    {
     "data": {
      "application/vnd.holoviews_exec.v0+json": "",
      "text/html": [
       "<div id='4486'>\n",
       "\n",
       "\n",
       "\n",
       "\n",
       "\n",
       "  <div class=\"bk-root\" id=\"313d7f52-b3d1-4e2d-9862-fccdd8188fdb\" data-root-id=\"4486\"></div>\n",
       "</div>\n",
       "<script type=\"application/javascript\">(function(root) {\n",
       "  function embed_document(root) {\n",
       "  var docs_json = {\"88950614-6c47-41b5-b561-91e716adbd58\":{\"roots\":{\"references\":[{\"attributes\":{\"axis_label\":\"\",\"bounds\":\"auto\",\"formatter\":{\"id\":\"4524\"},\"major_label_orientation\":\"horizontal\",\"ticker\":{\"id\":\"4506\"}},\"id\":\"4505\",\"type\":\"LinearAxis\"},{\"attributes\":{\"end\":423480.0,\"reset_end\":423480.0,\"reset_start\":54120.0,\"start\":54120.0,\"tags\":[[[\"value\",\"value\",null]]]},\"id\":\"4489\",\"type\":\"Range1d\"},{\"attributes\":{},\"id\":\"4502\",\"type\":\"BasicTicker\"},{\"attributes\":{\"margin\":[5,5,5,5],\"name\":\"HSpacer10508\",\"sizing_mode\":\"stretch_width\"},\"id\":\"4639\",\"type\":\"Spacer\"},{\"attributes\":{\"axis_label\":\"Years\",\"bounds\":\"auto\",\"formatter\":{\"id\":\"4522\"},\"major_label_orientation\":\"horizontal\",\"ticker\":{\"id\":\"4502\"}},\"id\":\"4501\",\"type\":\"LinearAxis\"},{\"attributes\":{},\"id\":\"4513\",\"type\":\"ResetTool\"},{\"attributes\":{\"line_alpha\":0.2,\"line_color\":\"#ff7e0e\",\"line_width\":2,\"x\":{\"field\":\"Years\"},\"y\":{\"field\":\"value\"}},\"id\":\"4547\",\"type\":\"Line\"},{\"attributes\":{\"line_color\":\"#1f77b3\",\"line_width\":2,\"x\":{\"field\":\"Years\"},\"y\":{\"field\":\"value\"}},\"id\":\"4529\",\"type\":\"Line\"},{\"attributes\":{\"source\":{\"id\":\"4526\"}},\"id\":\"4533\",\"type\":\"CDSView\"},{\"attributes\":{},\"id\":\"4506\",\"type\":\"BasicTicker\"},{\"attributes\":{\"click_policy\":\"mute\",\"items\":[{\"id\":\"4541\"},{\"id\":\"4558\"}],\"location\":[0,0],\"title\":\"Variable\"},\"id\":\"4540\",\"type\":\"Legend\"},{\"attributes\":{\"callback\":null,\"renderers\":[{\"id\":\"4532\"},{\"id\":\"4548\"}],\"tags\":[\"hv_created\"],\"tooltips\":[[\"Variable\",\"@{Variable}\"],[\"Years\",\"@{Years}\"],[\"value\",\"@{value}\"]]},\"id\":\"4490\",\"type\":\"HoverTool\"},{\"attributes\":{},\"id\":\"4509\",\"type\":\"SaveTool\"},{\"attributes\":{\"line_color\":\"#ff7e0e\",\"line_width\":2,\"x\":{\"field\":\"Years\"},\"y\":{\"field\":\"value\"}},\"id\":\"4545\",\"type\":\"Line\"},{\"attributes\":{\"axis\":{\"id\":\"4505\"},\"dimension\":1,\"grid_line_color\":null,\"ticker\":null},\"id\":\"4508\",\"type\":\"Grid\"},{\"attributes\":{},\"id\":\"4497\",\"type\":\"LinearScale\"},{\"attributes\":{\"label\":{\"value\":\"Total Nonresidential*\"},\"renderers\":[{\"id\":\"4532\"}]},\"id\":\"4541\",\"type\":\"LegendItem\"},{\"attributes\":{\"bottom_units\":\"screen\",\"fill_alpha\":0.5,\"fill_color\":\"lightgrey\",\"left_units\":\"screen\",\"level\":\"overlay\",\"line_alpha\":1.0,\"line_color\":\"black\",\"line_dash\":[4,4],\"line_width\":2,\"render_mode\":\"css\",\"right_units\":\"screen\",\"top_units\":\"screen\"},\"id\":\"4514\",\"type\":\"BoxAnnotation\"},{\"attributes\":{},\"id\":\"4543\",\"type\":\"Selection\"},{\"attributes\":{\"overlay\":{\"id\":\"4514\"}},\"id\":\"4512\",\"type\":\"BoxZoomTool\"},{\"attributes\":{\"data\":{\"Variable\":[\"Total Nonresidential*\",\"Total Nonresidential*\",\"Total Nonresidential*\",\"Total Nonresidential*\",\"Total Nonresidential*\",\"Total Nonresidential*\",\"Total Nonresidential*\",\"Total Nonresidential*\",\"Total Nonresidential*\",\"Total Nonresidential*\",\"Total Nonresidential*\",\"Total Nonresidential*\",\"Total Nonresidential*\",\"Total Nonresidential*\",\"Total Nonresidential*\",\"Total Nonresidential*\"],\"Years\":[2003,2004,2005,2006,2007,2008,2009,2010,2011,2012,2013,2014,2015,2016,2017,2018],\"value\":{\"__ndarray__\":\"AAAAAAAy+UAAAAAAwOD4QAAAAACAwfhAAAAAAEAl+EAAAAAAgCX5QAAAAADAtPdAAAAAAADH9UAAAAAAQLr0QAAAAACA2fRAAAAAAACo9kAAAAAAQOD2QAAAAADASvhAAAAAAICJ+UAAAAAAAKL3QAAAAACAGftAAAAAAABL+UA=\",\"dtype\":\"float64\",\"shape\":[16]}},\"selected\":{\"id\":\"4527\"},\"selection_policy\":{\"id\":\"4557\"}},\"id\":\"4526\",\"type\":\"ColumnDataSource\"},{\"attributes\":{\"data_source\":{\"id\":\"4542\"},\"glyph\":{\"id\":\"4545\"},\"hover_glyph\":null,\"muted_glyph\":{\"id\":\"4547\"},\"nonselection_glyph\":{\"id\":\"4546\"},\"selection_glyph\":null,\"view\":{\"id\":\"4549\"}},\"id\":\"4548\",\"type\":\"GlyphRenderer\"},{\"attributes\":{\"axis\":{\"id\":\"4501\"},\"grid_line_color\":null,\"ticker\":null},\"id\":\"4504\",\"type\":\"Grid\"},{\"attributes\":{\"data\":{\"Variable\":[\"Total Residential*\",\"Total Residential*\",\"Total Residential*\",\"Total Residential*\",\"Total Residential*\",\"Total Residential*\",\"Total Residential*\",\"Total Residential*\",\"Total Residential*\",\"Total Residential*\",\"Total Residential*\",\"Total Residential*\",\"Total Residential*\",\"Total Residential*\",\"Total Residential*\",\"Total Residential*\"],\"Years\":[2003,2004,2005,2006,2007,2008,2009,2010,2011,2012,2013,2014,2015,2016,2017,2018],\"value\":{\"__ndarray__\":\"AAAAAEBEF0EAAAAAoMoXQQAAAADQ+hZBAAAAAPD3F0EAAAAAcNIXQQAAAABgFRdBAAAAAKC9FUEAAAAA0BkWQQAAAABQPxZBAAAAAMDTFkEAAAAAMDYXQQAAAACwKRdBAAAAAJA/F0EAAAAAMDwWQQAAAACwrBZBAAAAAEArF0E=\",\"dtype\":\"float64\",\"shape\":[16]}},\"selected\":{\"id\":\"4543\"},\"selection_policy\":{\"id\":\"4568\"}},\"id\":\"4542\",\"type\":\"ColumnDataSource\"},{\"attributes\":{\"line_alpha\":0.1,\"line_color\":\"#ff7e0e\",\"line_width\":2,\"x\":{\"field\":\"Years\"},\"y\":{\"field\":\"value\"}},\"id\":\"4546\",\"type\":\"Line\"},{\"attributes\":{},\"id\":\"4499\",\"type\":\"LinearScale\"},{\"attributes\":{\"end\":2018.0,\"reset_end\":2018.0,\"reset_start\":2003.0,\"start\":2003.0,\"tags\":[[[\"Years\",\"Years\",null]]]},\"id\":\"4488\",\"type\":\"Range1d\"},{\"attributes\":{\"source\":{\"id\":\"4542\"}},\"id\":\"4549\",\"type\":\"CDSView\"},{\"attributes\":{\"label\":{\"value\":\"Total Residential*\"},\"renderers\":[{\"id\":\"4548\"}]},\"id\":\"4558\",\"type\":\"LegendItem\"},{\"attributes\":{},\"id\":\"4557\",\"type\":\"UnionRenderers\"},{\"attributes\":{\"children\":[{\"id\":\"4487\"},{\"id\":\"4492\"},{\"id\":\"4639\"}],\"margin\":[0,0,0,0],\"name\":\"Row10503\",\"tags\":[\"embedded\"]},\"id\":\"4486\",\"type\":\"Row\"},{\"attributes\":{\"margin\":[5,5,5,5],\"name\":\"HSpacer10507\",\"sizing_mode\":\"stretch_width\"},\"id\":\"4487\",\"type\":\"Spacer\"},{\"attributes\":{\"text\":\"Nonresidential and Residential Total Fire Claims\",\"text_color\":{\"value\":\"black\"},\"text_font_size\":{\"value\":\"12pt\"}},\"id\":\"4493\",\"type\":\"Title\"},{\"attributes\":{\"line_alpha\":0.2,\"line_color\":\"#1f77b3\",\"line_width\":2,\"x\":{\"field\":\"Years\"},\"y\":{\"field\":\"value\"}},\"id\":\"4531\",\"type\":\"Line\"},{\"attributes\":{},\"id\":\"4522\",\"type\":\"BasicTickFormatter\"},{\"attributes\":{},\"id\":\"4527\",\"type\":\"Selection\"},{\"attributes\":{\"align\":null,\"below\":[{\"id\":\"4501\"}],\"center\":[{\"id\":\"4504\"},{\"id\":\"4508\"}],\"left\":[{\"id\":\"4505\"}],\"margin\":null,\"min_border_bottom\":10,\"min_border_left\":10,\"min_border_right\":10,\"min_border_top\":10,\"plot_height\":300,\"plot_width\":700,\"renderers\":[{\"id\":\"4532\"},{\"id\":\"4548\"}],\"right\":[{\"id\":\"4540\"}],\"sizing_mode\":\"fixed\",\"title\":{\"id\":\"4493\"},\"toolbar\":{\"id\":\"4515\"},\"x_range\":{\"id\":\"4488\"},\"x_scale\":{\"id\":\"4497\"},\"y_range\":{\"id\":\"4489\"},\"y_scale\":{\"id\":\"4499\"}},\"id\":\"4492\",\"subtype\":\"Figure\",\"type\":\"Plot\"},{\"attributes\":{\"data_source\":{\"id\":\"4526\"},\"glyph\":{\"id\":\"4529\"},\"hover_glyph\":null,\"muted_glyph\":{\"id\":\"4531\"},\"nonselection_glyph\":{\"id\":\"4530\"},\"selection_glyph\":null,\"view\":{\"id\":\"4533\"}},\"id\":\"4532\",\"type\":\"GlyphRenderer\"},{\"attributes\":{\"line_alpha\":0.1,\"line_color\":\"#1f77b3\",\"line_width\":2,\"x\":{\"field\":\"Years\"},\"y\":{\"field\":\"value\"}},\"id\":\"4530\",\"type\":\"Line\"},{\"attributes\":{},\"id\":\"4524\",\"type\":\"BasicTickFormatter\"},{\"attributes\":{},\"id\":\"4510\",\"type\":\"PanTool\"},{\"attributes\":{},\"id\":\"4511\",\"type\":\"WheelZoomTool\"},{\"attributes\":{},\"id\":\"4568\",\"type\":\"UnionRenderers\"},{\"attributes\":{\"active_drag\":\"auto\",\"active_inspect\":\"auto\",\"active_multi\":null,\"active_scroll\":\"auto\",\"active_tap\":\"auto\",\"tools\":[{\"id\":\"4490\"},{\"id\":\"4509\"},{\"id\":\"4510\"},{\"id\":\"4511\"},{\"id\":\"4512\"},{\"id\":\"4513\"}]},\"id\":\"4515\",\"type\":\"Toolbar\"}],\"root_ids\":[\"4486\"]},\"title\":\"Bokeh Application\",\"version\":\"2.0.2\"}};\n",
       "  var render_items = [{\"docid\":\"88950614-6c47-41b5-b561-91e716adbd58\",\"root_ids\":[\"4486\"],\"roots\":{\"4486\":\"313d7f52-b3d1-4e2d-9862-fccdd8188fdb\"}}];\n",
       "  root.Bokeh.embed.embed_items_notebook(docs_json, render_items);\n",
       "  }\n",
       "if (root.Bokeh !== undefined) {\n",
       "    embed_document(root);\n",
       "  } else {\n",
       "    var attempts = 0;\n",
       "    var timer = setInterval(function(root) {\n",
       "      if (root.Bokeh !== undefined) {\n",
       "        clearInterval(timer);\n",
       "        embed_document(root);\n",
       "      } else if (document.readyState == \"complete\") {\n",
       "        attempts++;\n",
       "        if (attempts > 100) {\n",
       "          clearInterval(timer);\n",
       "          console.log(\"Bokeh: ERROR: Unable to run BokehJS code because BokehJS library is missing\");\n",
       "        }\n",
       "      }\n",
       "    }, 10, root)\n",
       "  }\n",
       "})(window);</script>"
      ],
      "text/plain": [
       ":NdOverlay   [Variable]\n",
       "   :Curve   [Years]   (value)"
      ]
     },
     "execution_count": 117,
     "metadata": {
      "application/vnd.holoviews_exec.v0+json": {
       "id": "4486"
      }
     },
     "output_type": "execute_result"
    }
   ],
   "source": [
    "#Use hvplot to plot Nonresidential and Residential dollar losses.\n",
    "all_fire_claims_plot = all_fire_claims.hvplot(title = \"Nonresidential and Residential Total Fire Claims\")\n",
    "all_fire_claims_plot"
   ]
  },
  {
   "cell_type": "markdown",
   "metadata": {},
   "source": [
    "# Average Claims and Premiums\n",
    "\n",
    "### A) Calculate average cost per claim, then plot the averages per year. "
   ]
  },
  {
   "cell_type": "code",
   "execution_count": 110,
   "metadata": {},
   "outputs": [
    {
     "data": {
      "text/plain": [
       "Years\n",
       "2018    25642.857143\n",
       "dtype: float64"
      ]
     },
     "execution_count": 110,
     "metadata": {},
     "output_type": "execute_result"
    }
   ],
   "source": [
    "#Calculate Nonresidential average cost per claim.\n",
    "nonres_average_cost_per_claim = (nonres_fire_losses[\"Total Nonresidential Dollar Loss*\"] / \n",
    "                                 nonres_fire_est[\"Total Nonresidential*\"])\n",
    "nonres_average_cost_per_claim.tail(1)"
   ]
  },
  {
   "cell_type": "code",
   "execution_count": 111,
   "metadata": {},
   "outputs": [
    {
     "data": {
      "text/plain": [
       "Years\n",
       "2018    21587.19705\n",
       "Name: Total Residential*, dtype: float64"
      ]
     },
     "execution_count": 111,
     "metadata": {},
     "output_type": "execute_result"
    }
   ],
   "source": [
    "#Calculate Residential average cost per claim.\n",
    "res_average_cost_per_claim = (res_fire_losses[\"Total Residential*\"] / \n",
    "                              res_fire_est[\"Total Residential*\"])\n",
    "res_average_cost_per_claim.tail(1)"
   ]
  },
  {
   "cell_type": "code",
   "execution_count": 112,
   "metadata": {},
   "outputs": [],
   "source": [
    "#Use hvplot to plot the average residential and nonresidential average cost per claim\n",
    "nonres_avg_cost_plot = nonres_average_cost_per_claim.hvplot(title = \"Nonresidential Average Cost Per Claim\")\n",
    "res_avg_cost_plot = res_average_cost_per_claim.hvplot(title = \"Residential Average Cost Per Claim\")"
   ]
  },
  {
   "cell_type": "code",
   "execution_count": 129,
   "metadata": {},
   "outputs": [
    {
     "data": {
      "text/html": [
       "<div>\n",
       "<style scoped>\n",
       "    .dataframe tbody tr th:only-of-type {\n",
       "        vertical-align: middle;\n",
       "    }\n",
       "\n",
       "    .dataframe tbody tr th {\n",
       "        vertical-align: top;\n",
       "    }\n",
       "\n",
       "    .dataframe thead th {\n",
       "        text-align: right;\n",
       "    }\n",
       "</style>\n",
       "<table border=\"1\" class=\"dataframe\">\n",
       "  <thead>\n",
       "    <tr style=\"text-align: right;\">\n",
       "      <th></th>\n",
       "      <th>0</th>\n",
       "      <th>Total Residential*</th>\n",
       "    </tr>\n",
       "    <tr>\n",
       "      <th>Years</th>\n",
       "      <th></th>\n",
       "      <th></th>\n",
       "    </tr>\n",
       "  </thead>\n",
       "  <tbody>\n",
       "    <tr>\n",
       "      <th>2018</th>\n",
       "      <td>25643.0</td>\n",
       "      <td>21587.0</td>\n",
       "    </tr>\n",
       "  </tbody>\n",
       "</table>\n",
       "</div>"
      ],
      "text/plain": [
       "             0  Total Residential*\n",
       "Years                             \n",
       "2018   25643.0             21587.0"
      ]
     },
     "execution_count": 129,
     "metadata": {},
     "output_type": "execute_result"
    }
   ],
   "source": [
    "all_average_claims = pd.concat([nonres_average_cost_per_claim, \n",
    "                                res_average_cost_per_claim], \n",
    "                               axis='columns', join='inner')\n",
    "all_average_claims.sort_index(axis=0, ascending=True, inplace=True)\n",
    "all_average_claims.tail(1).round()"
   ]
  },
  {
   "cell_type": "code",
   "execution_count": 130,
   "metadata": {},
   "outputs": [
    {
     "data": {},
     "metadata": {},
     "output_type": "display_data"
    },
    {
     "data": {
      "application/vnd.holoviews_exec.v0+json": "",
      "text/html": [
       "<div id='4691'>\n",
       "\n",
       "\n",
       "\n",
       "\n",
       "\n",
       "  <div class=\"bk-root\" id=\"6e106198-01bf-4896-af07-f64c40489bf5\" data-root-id=\"4691\"></div>\n",
       "</div>\n",
       "<script type=\"application/javascript\">(function(root) {\n",
       "  function embed_document(root) {\n",
       "  var docs_json = {\"189fde1a-0c0c-49ed-bf54-88c409bfeb78\":{\"roots\":{\"references\":[{\"attributes\":{\"line_alpha\":0.2,\"line_color\":\"#ff7e0e\",\"line_width\":2,\"x\":{\"field\":\"Years\"},\"y\":{\"field\":\"value\"}},\"id\":\"4752\",\"type\":\"Line\"},{\"attributes\":{},\"id\":\"4732\",\"type\":\"Selection\"},{\"attributes\":{\"children\":[{\"id\":\"4692\"},{\"id\":\"4697\"},{\"id\":\"4844\"}],\"margin\":[0,0,0,0],\"name\":\"Row10946\",\"tags\":[\"embedded\"]},\"id\":\"4691\",\"type\":\"Row\"},{\"attributes\":{\"end\":45000,\"reset_end\":45000,\"reset_start\":15000,\"start\":15000,\"tags\":[[[\"value\",\"value\",null]]]},\"id\":\"4694\",\"type\":\"Range1d\"},{\"attributes\":{\"line_color\":\"#1f77b3\",\"line_width\":2,\"x\":{\"field\":\"Years\"},\"y\":{\"field\":\"value\"}},\"id\":\"4734\",\"type\":\"Line\"},{\"attributes\":{},\"id\":\"4773\",\"type\":\"UnionRenderers\"},{\"attributes\":{\"overlay\":{\"id\":\"4719\"}},\"id\":\"4717\",\"type\":\"BoxZoomTool\"},{\"attributes\":{\"line_alpha\":0.2,\"line_color\":\"#1f77b3\",\"line_width\":2,\"x\":{\"field\":\"Years\"},\"y\":{\"field\":\"value\"}},\"id\":\"4736\",\"type\":\"Line\"},{\"attributes\":{\"active_drag\":\"auto\",\"active_inspect\":\"auto\",\"active_multi\":null,\"active_scroll\":\"auto\",\"active_tap\":\"auto\",\"tools\":[{\"id\":\"4695\"},{\"id\":\"4714\"},{\"id\":\"4715\"},{\"id\":\"4716\"},{\"id\":\"4717\"},{\"id\":\"4718\"}]},\"id\":\"4720\",\"type\":\"Toolbar\"},{\"attributes\":{},\"id\":\"4718\",\"type\":\"ResetTool\"},{\"attributes\":{\"source\":{\"id\":\"4731\"}},\"id\":\"4738\",\"type\":\"CDSView\"},{\"attributes\":{\"bottom_units\":\"screen\",\"fill_alpha\":0.5,\"fill_color\":\"lightgrey\",\"left_units\":\"screen\",\"level\":\"overlay\",\"line_alpha\":1.0,\"line_color\":\"black\",\"line_dash\":[4,4],\"line_width\":2,\"render_mode\":\"css\",\"right_units\":\"screen\",\"top_units\":\"screen\"},\"id\":\"4719\",\"type\":\"BoxAnnotation\"},{\"attributes\":{\"axis\":{\"id\":\"4706\"},\"grid_line_color\":null,\"ticker\":null},\"id\":\"4709\",\"type\":\"Grid\"},{\"attributes\":{},\"id\":\"4704\",\"type\":\"LinearScale\"},{\"attributes\":{\"line_alpha\":0.1,\"line_color\":\"#1f77b3\",\"line_width\":2,\"x\":{\"field\":\"Years\"},\"y\":{\"field\":\"value\"}},\"id\":\"4735\",\"type\":\"Line\"},{\"attributes\":{},\"id\":\"4729\",\"type\":\"BasicTickFormatter\"},{\"attributes\":{\"data_source\":{\"id\":\"4731\"},\"glyph\":{\"id\":\"4734\"},\"hover_glyph\":null,\"muted_glyph\":{\"id\":\"4736\"},\"nonselection_glyph\":{\"id\":\"4735\"},\"selection_glyph\":null,\"view\":{\"id\":\"4738\"}},\"id\":\"4737\",\"type\":\"GlyphRenderer\"},{\"attributes\":{},\"id\":\"4715\",\"type\":\"PanTool\"},{\"attributes\":{\"line_color\":\"#ff7e0e\",\"line_width\":2,\"x\":{\"field\":\"Years\"},\"y\":{\"field\":\"value\"}},\"id\":\"4750\",\"type\":\"Line\"},{\"attributes\":{\"align\":null,\"below\":[{\"id\":\"4706\"}],\"center\":[{\"id\":\"4709\"},{\"id\":\"4713\"}],\"left\":[{\"id\":\"4710\"}],\"margin\":null,\"min_border_bottom\":10,\"min_border_left\":10,\"min_border_right\":10,\"min_border_top\":10,\"plot_height\":300,\"plot_width\":700,\"renderers\":[{\"id\":\"4737\"},{\"id\":\"4753\"}],\"right\":[{\"id\":\"4745\"}],\"sizing_mode\":\"fixed\",\"title\":{\"id\":\"4698\"},\"toolbar\":{\"id\":\"4720\"},\"x_range\":{\"id\":\"4693\"},\"x_scale\":{\"id\":\"4702\"},\"y_range\":{\"id\":\"4694\"},\"y_scale\":{\"id\":\"4704\"}},\"id\":\"4697\",\"subtype\":\"Figure\",\"type\":\"Plot\"},{\"attributes\":{\"margin\":[5,5,5,5],\"name\":\"HSpacer10950\",\"sizing_mode\":\"stretch_width\"},\"id\":\"4692\",\"type\":\"Spacer\"},{\"attributes\":{\"click_policy\":\"mute\",\"items\":[{\"id\":\"4746\"},{\"id\":\"4763\"}],\"location\":[0,0],\"title\":\"Variable\"},\"id\":\"4745\",\"type\":\"Legend\"},{\"attributes\":{\"line_alpha\":0.1,\"line_color\":\"#ff7e0e\",\"line_width\":2,\"x\":{\"field\":\"Years\"},\"y\":{\"field\":\"value\"}},\"id\":\"4751\",\"type\":\"Line\"},{\"attributes\":{},\"id\":\"4714\",\"type\":\"SaveTool\"},{\"attributes\":{},\"id\":\"4748\",\"type\":\"Selection\"},{\"attributes\":{},\"id\":\"4762\",\"type\":\"UnionRenderers\"},{\"attributes\":{},\"id\":\"4707\",\"type\":\"BasicTicker\"},{\"attributes\":{\"label\":{\"value\":\"0\"},\"renderers\":[{\"id\":\"4737\"}]},\"id\":\"4746\",\"type\":\"LegendItem\"},{\"attributes\":{},\"id\":\"4716\",\"type\":\"WheelZoomTool\"},{\"attributes\":{\"axis\":{\"id\":\"4710\"},\"dimension\":1,\"grid_line_color\":null,\"ticker\":null},\"id\":\"4713\",\"type\":\"Grid\"},{\"attributes\":{},\"id\":\"4727\",\"type\":\"BasicTickFormatter\"},{\"attributes\":{\"text\":\"Nonresidential and Residential Average Fire Cost\",\"text_color\":{\"value\":\"black\"},\"text_font_size\":{\"value\":\"12pt\"}},\"id\":\"4698\",\"type\":\"Title\"},{\"attributes\":{\"callback\":null,\"renderers\":[{\"id\":\"4737\"},{\"id\":\"4753\"}],\"tags\":[\"hv_created\"],\"tooltips\":[[\"Variable\",\"@{Variable}\"],[\"Years\",\"@{Years}\"],[\"value\",\"@{value}\"]]},\"id\":\"4695\",\"type\":\"HoverTool\"},{\"attributes\":{\"data\":{\"Variable\":[\"Total Residential*\",\"Total Residential*\",\"Total Residential*\",\"Total Residential*\",\"Total Residential*\",\"Total Residential*\",\"Total Residential*\",\"Total Residential*\",\"Total Residential*\",\"Total Residential*\",\"Total Residential*\",\"Total Residential*\",\"Total Residential*\",\"Total Residential*\",\"Total Residential*\",\"Total Residential*\"],\"Years\":[2003,2004,2005,2006,2007,2008,2009,2010,2011,2012,2013,2014,2015,2016,2017,2018],\"value\":{\"__ndarray__\":\"vhy9QAfj00BTczpfZ8zSQHexVhGdqtVAnJubm5uV1EDc15tIE7DVQN0rFFk6KNhANn9/xdpL10BHhJ1cuqTUQJ+cEkOp5NNAzZ7k+9hI1EDmhkTyIwjTQN0QIn2b1dJA5ep5KohI00BSatU5y4jUQCvcV9cZ/9RARZ11nMwU1UA=\",\"dtype\":\"float64\",\"shape\":[16]}},\"selected\":{\"id\":\"4748\"},\"selection_policy\":{\"id\":\"4773\"}},\"id\":\"4747\",\"type\":\"ColumnDataSource\"},{\"attributes\":{\"label\":{\"value\":\"Total Residential*\"},\"renderers\":[{\"id\":\"4753\"}]},\"id\":\"4763\",\"type\":\"LegendItem\"},{\"attributes\":{},\"id\":\"4711\",\"type\":\"BasicTicker\"},{\"attributes\":{\"end\":2018.0,\"reset_end\":2018.0,\"reset_start\":2003.0,\"start\":2003.0,\"tags\":[[[\"Years\",\"Years\",null]]]},\"id\":\"4693\",\"type\":\"Range1d\"},{\"attributes\":{\"source\":{\"id\":\"4747\"}},\"id\":\"4754\",\"type\":\"CDSView\"},{\"attributes\":{\"axis_label\":\"Years\",\"bounds\":\"auto\",\"formatter\":{\"id\":\"4727\"},\"major_label_orientation\":\"horizontal\",\"ticker\":{\"id\":\"4707\"}},\"id\":\"4706\",\"type\":\"LinearAxis\"},{\"attributes\":{\"data_source\":{\"id\":\"4747\"},\"glyph\":{\"id\":\"4750\"},\"hover_glyph\":null,\"muted_glyph\":{\"id\":\"4752\"},\"nonselection_glyph\":{\"id\":\"4751\"},\"selection_glyph\":null,\"view\":{\"id\":\"4754\"}},\"id\":\"4753\",\"type\":\"GlyphRenderer\"},{\"attributes\":{\"margin\":[5,5,5,5],\"name\":\"HSpacer10951\",\"sizing_mode\":\"stretch_width\"},\"id\":\"4844\",\"type\":\"Spacer\"},{\"attributes\":{\"axis_label\":\"\",\"bounds\":\"auto\",\"formatter\":{\"id\":\"4729\"},\"major_label_orientation\":\"horizontal\",\"ticker\":{\"id\":\"4711\"}},\"id\":\"4710\",\"type\":\"LinearAxis\"},{\"attributes\":{\"data\":{\"Variable\":[\"0\",\"0\",\"0\",\"0\",\"0\",\"0\",\"0\",\"0\",\"0\",\"0\",\"0\",\"0\",\"0\",\"0\",\"0\",\"0\"],\"Years\":[2003,2004,2005,2006,2007,2008,2009,2010,2011,2012,2013,2014,2015,2016,2017,2018],\"value\":{\"__ndarray__\":\"mTPmjDlk3UA1KogG0izbQFS7F6OndtpAL7y9/3TW3EDEJ5BKznbgQGsbyPsvP+RAsHkqhTSu4UB1vN/6wMzfQLxSYhSaF99AEpZ7GnFw3EBsVFO3+abbQAYtO55T0dpAAnQZ5Eqe2kAkp/la/Q7eQEU+6wZTgthA27Zt27YK2UA=\",\"dtype\":\"float64\",\"shape\":[16]}},\"selected\":{\"id\":\"4732\"},\"selection_policy\":{\"id\":\"4762\"}},\"id\":\"4731\",\"type\":\"ColumnDataSource\"},{\"attributes\":{},\"id\":\"4702\",\"type\":\"LinearScale\"}],\"root_ids\":[\"4691\"]},\"title\":\"Bokeh Application\",\"version\":\"2.0.2\"}};\n",
       "  var render_items = [{\"docid\":\"189fde1a-0c0c-49ed-bf54-88c409bfeb78\",\"root_ids\":[\"4691\"],\"roots\":{\"4691\":\"6e106198-01bf-4896-af07-f64c40489bf5\"}}];\n",
       "  root.Bokeh.embed.embed_items_notebook(docs_json, render_items);\n",
       "  }\n",
       "if (root.Bokeh !== undefined) {\n",
       "    embed_document(root);\n",
       "  } else {\n",
       "    var attempts = 0;\n",
       "    var timer = setInterval(function(root) {\n",
       "      if (root.Bokeh !== undefined) {\n",
       "        clearInterval(timer);\n",
       "        embed_document(root);\n",
       "      } else if (document.readyState == \"complete\") {\n",
       "        attempts++;\n",
       "        if (attempts > 100) {\n",
       "          clearInterval(timer);\n",
       "          console.log(\"Bokeh: ERROR: Unable to run BokehJS code because BokehJS library is missing\");\n",
       "        }\n",
       "      }\n",
       "    }, 10, root)\n",
       "  }\n",
       "})(window);</script>"
      ],
      "text/plain": [
       ":NdOverlay   [Variable]\n",
       "   :Curve   [Years]   (value)"
      ]
     },
     "execution_count": 130,
     "metadata": {
      "application/vnd.holoviews_exec.v0+json": {
       "id": "4691"
      }
     },
     "output_type": "execute_result"
    }
   ],
   "source": [
    "#Use hvplot to plot Nonresidential and Residential dollar losses.\n",
    "all_average_claims_plot = all_average_claims.hvplot(ylim=(15000, 45000), title = \"Nonresidential and Residential Average Fire Cost\")\n",
    "all_average_claims_plot"
   ]
  },
  {
   "cell_type": "markdown",
   "metadata": {},
   "source": [
    "### B) Calculate average premium needed to achieve 20% profit (assume an average of 80% is paid to claims) "
   ]
  },
  {
   "cell_type": "code",
   "execution_count": 65,
   "metadata": {},
   "outputs": [],
   "source": [
    "#Set profit variable\n",
    "nonres_profit = .20\n",
    "#Take average claim cost and multiply by % profit then add to average cost\n",
    "nonres_premium = ((nonres_average_cost_per_claim * nonres_profit) + nonres_average_cost_per_claim)\n",
    "nonres_premium_plot = nonres_premium.hvplot(title = \"Nonresidential Average Fire Premium\")"
   ]
  },
  {
   "cell_type": "code",
   "execution_count": 66,
   "metadata": {},
   "outputs": [],
   "source": [
    "#Set Profit variable\n",
    "res_profit = .20\n",
    "#Take average claim cost and multiply by % profit then add to average claim cost\n",
    "res_premium = ((res_average_cost_per_claim * res_profit) + res_average_cost_per_claim)\n",
    "res_premium_plot = res_premium.hvplot(title = \"Residential Average Fire Premium\")"
   ]
  },
  {
   "cell_type": "code",
   "execution_count": 67,
   "metadata": {},
   "outputs": [
    {
     "data": {},
     "metadata": {},
     "output_type": "display_data"
    },
    {
     "data": {
      "application/vnd.holoviews_exec.v0+json": "",
      "text/html": [
       "<div id='1821'>\n",
       "\n",
       "\n",
       "\n",
       "\n",
       "\n",
       "  <div class=\"bk-root\" id=\"99a71fd6-b58e-401e-916f-70e4abf57cdb\" data-root-id=\"1821\"></div>\n",
       "</div>\n",
       "<script type=\"application/javascript\">(function(root) {\n",
       "  function embed_document(root) {\n",
       "  var docs_json = {\"38c58f11-efea-4e8d-a86e-8eaa4368b6b6\":{\"roots\":{\"references\":[{\"attributes\":{},\"id\":\"1845\",\"type\":\"PanTool\"},{\"attributes\":{\"end\":2018.0,\"reset_end\":2018.0,\"reset_start\":2003.0,\"start\":2003.0,\"tags\":[[[\"Years\",\"Years\",null]]]},\"id\":\"1823\",\"type\":\"Range1d\"},{\"attributes\":{\"axis\":{\"id\":\"1836\"},\"grid_line_color\":null,\"ticker\":null},\"id\":\"1839\",\"type\":\"Grid\"},{\"attributes\":{},\"id\":\"1846\",\"type\":\"WheelZoomTool\"},{\"attributes\":{},\"id\":\"1857\",\"type\":\"BasicTickFormatter\"},{\"attributes\":{},\"id\":\"1862\",\"type\":\"Selection\"},{\"attributes\":{\"margin\":[5,5,5,5],\"name\":\"HSpacer04198\",\"sizing_mode\":\"stretch_width\"},\"id\":\"1974\",\"type\":\"Spacer\"},{\"attributes\":{\"end\":52424.5054978153,\"reset_end\":52424.5054978153,\"reset_start\":20433.632108995662,\"start\":20433.632108995662,\"tags\":[[[\"value\",\"value\",null]]]},\"id\":\"1824\",\"type\":\"Range1d\"},{\"attributes\":{\"label\":{\"value\":\"Total Residential*\"},\"renderers\":[{\"id\":\"1883\"}]},\"id\":\"1893\",\"type\":\"LegendItem\"},{\"attributes\":{},\"id\":\"1878\",\"type\":\"Selection\"},{\"attributes\":{\"overlay\":{\"id\":\"1849\"}},\"id\":\"1847\",\"type\":\"BoxZoomTool\"},{\"attributes\":{\"line_color\":\"#1f77b3\",\"line_width\":2,\"x\":{\"field\":\"Years\"},\"y\":{\"field\":\"value\"}},\"id\":\"1864\",\"type\":\"Line\"},{\"attributes\":{},\"id\":\"1903\",\"type\":\"UnionRenderers\"},{\"attributes\":{\"active_drag\":\"auto\",\"active_inspect\":\"auto\",\"active_multi\":null,\"active_scroll\":\"auto\",\"active_tap\":\"auto\",\"tools\":[{\"id\":\"1825\"},{\"id\":\"1844\"},{\"id\":\"1845\"},{\"id\":\"1846\"},{\"id\":\"1847\"},{\"id\":\"1848\"}]},\"id\":\"1850\",\"type\":\"Toolbar\"},{\"attributes\":{\"callback\":null,\"renderers\":[{\"id\":\"1867\"},{\"id\":\"1883\"}],\"tags\":[\"hv_created\"],\"tooltips\":[[\"Variable\",\"@{Variable}\"],[\"Years\",\"@{Years}\"],[\"value\",\"@{value}\"]]},\"id\":\"1825\",\"type\":\"HoverTool\"},{\"attributes\":{\"line_color\":\"#ff7e0e\",\"line_width\":2,\"x\":{\"field\":\"Years\"},\"y\":{\"field\":\"value\"}},\"id\":\"1880\",\"type\":\"Line\"},{\"attributes\":{\"click_policy\":\"mute\",\"items\":[{\"id\":\"1876\"},{\"id\":\"1893\"}],\"location\":[0,0],\"title\":\"Variable\"},\"id\":\"1875\",\"type\":\"Legend\"},{\"attributes\":{\"source\":{\"id\":\"1861\"}},\"id\":\"1868\",\"type\":\"CDSView\"},{\"attributes\":{},\"id\":\"1892\",\"type\":\"UnionRenderers\"},{\"attributes\":{},\"id\":\"1844\",\"type\":\"SaveTool\"},{\"attributes\":{},\"id\":\"1848\",\"type\":\"ResetTool\"},{\"attributes\":{\"label\":{\"value\":\"0\"},\"renderers\":[{\"id\":\"1867\"}]},\"id\":\"1876\",\"type\":\"LegendItem\"},{\"attributes\":{\"axis_label\":\"\",\"bounds\":\"auto\",\"formatter\":{\"id\":\"1859\"},\"major_label_orientation\":\"horizontal\",\"ticker\":{\"id\":\"1841\"}},\"id\":\"1840\",\"type\":\"LinearAxis\"},{\"attributes\":{},\"id\":\"1834\",\"type\":\"LinearScale\"},{\"attributes\":{\"data\":{\"Variable\":[\"0\",\"0\",\"0\",\"0\",\"0\",\"0\",\"0\",\"0\",\"0\",\"0\",\"0\",\"0\",\"0\",\"0\",\"0\",\"0\"],\"Years\":[2003,2004,2005,2006,2007,2008,2009,2010,2011,2012,2013,2014,2015,2016,2017,2018],\"value\":{\"__ndarray__\":\"j7gj7oii4UAg5oSdF07gQDJH6faVwd9AHKQ+ZnlN4UBSyXlZxMHjQBpUIy7TS+hAoCtmOXI35UATcbnJcxTjQD7LB9nCp+JAPo2w3EMQ4UB0/zGhYpfgQAQbvSsyF+BAab5Rqybx30Di/chp/gjiQFPks24wad1Abdu2bdsM3kA=\",\"dtype\":\"float64\",\"shape\":[16]}},\"selected\":{\"id\":\"1862\"},\"selection_policy\":{\"id\":\"1892\"}},\"id\":\"1861\",\"type\":\"ColumnDataSource\"},{\"attributes\":{\"data_source\":{\"id\":\"1861\"},\"glyph\":{\"id\":\"1864\"},\"hover_glyph\":null,\"muted_glyph\":{\"id\":\"1866\"},\"nonselection_glyph\":{\"id\":\"1865\"},\"selection_glyph\":null,\"view\":{\"id\":\"1868\"}},\"id\":\"1867\",\"type\":\"GlyphRenderer\"},{\"attributes\":{},\"id\":\"1841\",\"type\":\"BasicTicker\"},{\"attributes\":{\"text\":\"Nonresidential and Residential Average Fire Premiums\",\"text_color\":{\"value\":\"black\"},\"text_font_size\":{\"value\":\"12pt\"}},\"id\":\"1828\",\"type\":\"Title\"},{\"attributes\":{\"axis_label\":\"Years\",\"bounds\":\"auto\",\"formatter\":{\"id\":\"1857\"},\"major_label_orientation\":\"horizontal\",\"ticker\":{\"id\":\"1837\"}},\"id\":\"1836\",\"type\":\"LinearAxis\"},{\"attributes\":{\"data_source\":{\"id\":\"1877\"},\"glyph\":{\"id\":\"1880\"},\"hover_glyph\":null,\"muted_glyph\":{\"id\":\"1882\"},\"nonselection_glyph\":{\"id\":\"1881\"},\"selection_glyph\":null,\"view\":{\"id\":\"1884\"}},\"id\":\"1883\",\"type\":\"GlyphRenderer\"},{\"attributes\":{\"line_alpha\":0.2,\"line_color\":\"#1f77b3\",\"line_width\":2,\"x\":{\"field\":\"Years\"},\"y\":{\"field\":\"value\"}},\"id\":\"1866\",\"type\":\"Line\"},{\"attributes\":{\"data\":{\"Variable\":[\"Total Residential*\",\"Total Residential*\",\"Total Residential*\",\"Total Residential*\",\"Total Residential*\",\"Total Residential*\",\"Total Residential*\",\"Total Residential*\",\"Total Residential*\",\"Total Residential*\",\"Total Residential*\",\"Total Residential*\",\"Total Residential*\",\"Total Residential*\",\"Total Residential*\",\"Total Residential*\"],\"Years\":[2003,2004,2005,2006,2007,2008,2009,2010,2011,2012,2013,2014,2015,2016,2017,2018],\"value\":{\"__ndarray__\":\"sVVJ5zvd10D9I0Zy4o7WQCgIaK7v/9lAiIeHh4ez2ECinFSKfQbaQNZnS9ES/dxAp5gyIKD020CIayNvrMXYQCXvr4Mx39dA9iTfx2pX2EBHCB+JkdbWQDwUXMntmdZA4BlfmdYj10BiTDMSJ6TYQJpuaQIfMtlAU1bAuyhM2UA=\",\"dtype\":\"float64\",\"shape\":[16]}},\"selected\":{\"id\":\"1878\"},\"selection_policy\":{\"id\":\"1903\"}},\"id\":\"1877\",\"type\":\"ColumnDataSource\"},{\"attributes\":{\"line_alpha\":0.2,\"line_color\":\"#ff7e0e\",\"line_width\":2,\"x\":{\"field\":\"Years\"},\"y\":{\"field\":\"value\"}},\"id\":\"1882\",\"type\":\"Line\"},{\"attributes\":{},\"id\":\"1837\",\"type\":\"BasicTicker\"},{\"attributes\":{\"source\":{\"id\":\"1877\"}},\"id\":\"1884\",\"type\":\"CDSView\"},{\"attributes\":{\"bottom_units\":\"screen\",\"fill_alpha\":0.5,\"fill_color\":\"lightgrey\",\"left_units\":\"screen\",\"level\":\"overlay\",\"line_alpha\":1.0,\"line_color\":\"black\",\"line_dash\":[4,4],\"line_width\":2,\"render_mode\":\"css\",\"right_units\":\"screen\",\"top_units\":\"screen\"},\"id\":\"1849\",\"type\":\"BoxAnnotation\"},{\"attributes\":{\"align\":null,\"below\":[{\"id\":\"1836\"}],\"center\":[{\"id\":\"1839\"},{\"id\":\"1843\"}],\"left\":[{\"id\":\"1840\"}],\"margin\":null,\"min_border_bottom\":10,\"min_border_left\":10,\"min_border_right\":10,\"min_border_top\":10,\"plot_height\":300,\"plot_width\":700,\"renderers\":[{\"id\":\"1867\"},{\"id\":\"1883\"}],\"right\":[{\"id\":\"1875\"}],\"sizing_mode\":\"fixed\",\"title\":{\"id\":\"1828\"},\"toolbar\":{\"id\":\"1850\"},\"x_range\":{\"id\":\"1823\"},\"x_scale\":{\"id\":\"1832\"},\"y_range\":{\"id\":\"1824\"},\"y_scale\":{\"id\":\"1834\"}},\"id\":\"1827\",\"subtype\":\"Figure\",\"type\":\"Plot\"},{\"attributes\":{},\"id\":\"1832\",\"type\":\"LinearScale\"},{\"attributes\":{\"axis\":{\"id\":\"1840\"},\"dimension\":1,\"grid_line_color\":null,\"ticker\":null},\"id\":\"1843\",\"type\":\"Grid\"},{\"attributes\":{\"children\":[{\"id\":\"1822\"},{\"id\":\"1827\"},{\"id\":\"1974\"}],\"margin\":[0,0,0,0],\"name\":\"Row04193\",\"tags\":[\"embedded\"]},\"id\":\"1821\",\"type\":\"Row\"},{\"attributes\":{\"line_alpha\":0.1,\"line_color\":\"#ff7e0e\",\"line_width\":2,\"x\":{\"field\":\"Years\"},\"y\":{\"field\":\"value\"}},\"id\":\"1881\",\"type\":\"Line\"},{\"attributes\":{},\"id\":\"1859\",\"type\":\"BasicTickFormatter\"},{\"attributes\":{\"line_alpha\":0.1,\"line_color\":\"#1f77b3\",\"line_width\":2,\"x\":{\"field\":\"Years\"},\"y\":{\"field\":\"value\"}},\"id\":\"1865\",\"type\":\"Line\"},{\"attributes\":{\"margin\":[5,5,5,5],\"name\":\"HSpacer04197\",\"sizing_mode\":\"stretch_width\"},\"id\":\"1822\",\"type\":\"Spacer\"}],\"root_ids\":[\"1821\"]},\"title\":\"Bokeh Application\",\"version\":\"2.0.2\"}};\n",
       "  var render_items = [{\"docid\":\"38c58f11-efea-4e8d-a86e-8eaa4368b6b6\",\"root_ids\":[\"1821\"],\"roots\":{\"1821\":\"99a71fd6-b58e-401e-916f-70e4abf57cdb\"}}];\n",
       "  root.Bokeh.embed.embed_items_notebook(docs_json, render_items);\n",
       "  }\n",
       "if (root.Bokeh !== undefined) {\n",
       "    embed_document(root);\n",
       "  } else {\n",
       "    var attempts = 0;\n",
       "    var timer = setInterval(function(root) {\n",
       "      if (root.Bokeh !== undefined) {\n",
       "        clearInterval(timer);\n",
       "        embed_document(root);\n",
       "      } else if (document.readyState == \"complete\") {\n",
       "        attempts++;\n",
       "        if (attempts > 100) {\n",
       "          clearInterval(timer);\n",
       "          console.log(\"Bokeh: ERROR: Unable to run BokehJS code because BokehJS library is missing\");\n",
       "        }\n",
       "      }\n",
       "    }, 10, root)\n",
       "  }\n",
       "})(window);</script>"
      ],
      "text/plain": [
       ":NdOverlay   [Variable]\n",
       "   :Curve   [Years]   (value)"
      ]
     },
     "execution_count": 67,
     "metadata": {
      "application/vnd.holoviews_exec.v0+json": {
       "id": "1821"
      }
     },
     "output_type": "execute_result"
    }
   ],
   "source": [
    "#Concat Nonresidential and Residential average Premiums\n",
    "all_average_premium = pd.concat([nonres_premium, \n",
    "                                res_premium], \n",
    "                               axis='columns', join='inner')\n",
    "all_average_premium.sort_index(axis=0, ascending=True, inplace=True)\n",
    "all_average_premium_plot = all_average_premium.hvplot(title = \"Nonresidential and Residential Average Fire Premiums\")\n",
    "all_average_premium_plot"
   ]
  },
  {
   "cell_type": "markdown",
   "metadata": {},
   "source": [
    "# Build Fire Analysis Dashboard"
   ]
  },
  {
   "cell_type": "code",
   "execution_count": 68,
   "metadata": {},
   "outputs": [],
   "source": [
    "#Create dashboard for 'Nonresidential and Residential Total Fire Dollar Losses', \n",
    "#'Nonresidential and Residential Total Fire Claims', \n",
    "#'Nonresidential and Residential Average Fire Cost', \n",
    "#'Nonresidential and Residential Average Fire Premium' as one tab named \"Fire Analysis\""
   ]
  },
  {
   "cell_type": "code",
   "execution_count": null,
   "metadata": {},
   "outputs": [],
   "source": []
  },
  {
   "cell_type": "markdown",
   "metadata": {},
   "source": [
    "# Part 2 -- Portfolio Return\n",
    "Given a 20% surplus from premiums collected. Perform a risk return analysis on individual stock or portfolio of stocks. Set \"initial_investment\" equal to 20% of premiums calulated from above. "
   ]
  },
  {
   "cell_type": "code",
   "execution_count": 135,
   "metadata": {},
   "outputs": [
    {
     "data": {
      "text/plain": [
       "Years\n",
       "2003    6019.379845\n",
       "2004    5565.456330\n",
       "2005    5419.723866\n",
       "2006    5905.965622\n",
       "2007    6743.689320\n",
       "2008    8293.099897\n",
       "2009    7241.928251\n",
       "2010    6512.603062\n",
       "2011    6367.681499\n",
       "2012    5824.353448\n",
       "2013    5663.180363\n",
       "2014    5492.261307\n",
       "2015    5451.434034\n",
       "2016    6155.991736\n",
       "2017    5019.459459\n",
       "2018    5128.571429\n",
       "dtype: float64"
      ]
     },
     "execution_count": 135,
     "metadata": {},
     "output_type": "execute_result"
    }
   ],
   "source": [
    "nonres_initital_investment = nonres_average_cost_per_claim * nonres_profit\n",
    "nonres_initital_investment.to_csv(\"nonres_initial_investment\")\n",
    "nonres_initital_investment"
   ]
  },
  {
   "cell_type": "code",
   "execution_count": 134,
   "metadata": {},
   "outputs": [
    {
     "data": {
      "text/plain": [
       "Years\n",
       "2003    4072.822665\n",
       "2004    3849.923037\n",
       "2005    4437.290837\n",
       "2006    4215.686275\n",
       "2007    4441.660261\n",
       "2008    4947.382337\n",
       "2009    4771.083661\n",
       "2010    4227.782381\n",
       "2011    4074.128944\n",
       "2012    4154.278075\n",
       "2013    3897.712332\n",
       "2014    3857.285903\n",
       "2015    3949.225519\n",
       "2016    4205.435081\n",
       "2017    4300.080754\n",
       "2018    4317.439410\n",
       "Name: Total Residential*, dtype: float64"
      ]
     },
     "execution_count": 134,
     "metadata": {},
     "output_type": "execute_result"
    }
   ],
   "source": [
    "res_initial_investment = res_average_cost_per_claim * res_profit\n",
    "res_initial_investment.to_csv(\"res_initial_investment\")\n",
    "res_initial_investment"
   ]
  },
  {
   "cell_type": "code",
   "execution_count": null,
   "metadata": {},
   "outputs": [],
   "source": []
  }
 ],
 "metadata": {
  "kernelspec": {
   "display_name": "Python 3",
   "language": "python",
   "name": "python3"
  },
  "language_info": {
   "codemirror_mode": {
    "name": "ipython",
    "version": 3
   },
   "file_extension": ".py",
   "mimetype": "text/x-python",
   "name": "python",
   "nbconvert_exporter": "python",
   "pygments_lexer": "ipython3",
   "version": "3.7.7"
  }
 },
 "nbformat": 4,
 "nbformat_minor": 4
}
